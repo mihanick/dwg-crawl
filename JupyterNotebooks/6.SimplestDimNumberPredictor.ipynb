{
 "cells": [
  {
   "cell_type": "code",
   "execution_count": 9,
   "metadata": {},
   "outputs": [
    {
     "data": {
      "text/plain": [
       "device(type='cuda')"
      ]
     },
     "execution_count": 9,
     "metadata": {},
     "output_type": "execute_result"
    }
   ],
   "source": [
    "import numpy as np\n",
    "import matplotlib.pyplot as plt\n",
    "import time\n",
    "from torch import nn\n",
    "\n",
    "device = torch.device(\"cpu\")\n",
    "if torch.cuda.is_available():\n",
    "    device = torch.device(\"cuda\")\n",
    "    \n",
    "device"
   ]
  },
  {
   "cell_type": "code",
   "execution_count": 10,
   "metadata": {},
   "outputs": [],
   "source": [
    "def calculate_accuracy(dim_outputs, y):\n",
    "    '''\n",
    "    For now we will calculate accuracy by model guessing the right amount of dimensions produced\n",
    "    '''\n",
    "\n",
    "    accuracies = []\n",
    "\n",
    "    # y, dim_outputs: list len=batch_size of tensors with shape (dim_count, dim_features)\n",
    "    for batch_no in range(len(y)):\n",
    "        actual_dim_number = y[batch_no].shape[0]\n",
    "        predicted_dim_number = dim_outputs[batch_no].shape[0]\n",
    "        acc = 0\n",
    "        if actual_dim_number == 0 and predicted_dim_number == 0:\n",
    "            acc = 1\n",
    "        else:\n",
    "            acc =  0\n",
    "        # print('expected: {0} predicted: {1}'.format(actual_dim_number, predicted_dim_number))\n",
    "        accuracies.append(acc)\n",
    "        \n",
    "    return accuracies\n",
    "\n",
    "def plot_history(loss_history, train_history, val_history):\n",
    "    '''\n",
    "    Plots learning history in jupyter\n",
    "    '''\n",
    "    plt.ylabel('Accuracy @ epoch')\n",
    "    \n",
    "    train, = plt.plot(train_history)\n",
    "    train.set_label(\"train\")\n",
    "\n",
    "    validation, = plt.plot(val_history)\n",
    "    validation.set_label(\"validation\")\n",
    "\n",
    "    loss, = plt.plot(loss_history)\n",
    "    loss.set_label(\"loss\")\n",
    "\n",
    "    plt.legend()\n",
    "    plt.show()\n",
    "    \n",
    "def train_model(model, train_loader, val_loader, loss, optimizer, epochs):\n",
    "    '''\n",
    "    trains model and outputs loss, train and validation history\n",
    "    '''\n",
    "\n",
    "    start = time.time()\n",
    "    \n",
    "    loss_history   = []\n",
    "    train_history  = []\n",
    "    val_history    = []\n",
    "    train_accuracy = 0.0\n",
    "\n",
    "    \n",
    "    for epoch in range(epochs):\n",
    "        model.train()\n",
    "        \n",
    "        loss_accumulated = 0\n",
    "        \n",
    "        for i, (x, y) in enumerate(train_loader):\n",
    "            \n",
    "            model.zero_grad()\n",
    "            \n",
    "            outs_num = model(x.to(device))\n",
    "            \n",
    "            loss_value = loss(outs_num, y)\n",
    "            \n",
    "            loss_value.backward()\n",
    "            optimizer.step()\n",
    "            \n",
    "            loss_accumulated += loss_value\n",
    "            \n",
    "            train_accuracy = np.mean(calculate_accuracy(decoded, y))\n",
    "\n",
    "            print('[{0}-{1} @ {2:.1f} sec] Log10 Loss: {3:2f} Train err: {4:2.1f}%'. format(\n",
    "                epoch,\n",
    "                i,\n",
    "                time.time() - start,\n",
    "                np.log10(float(loss_value)),\n",
    "                (1 - train_accuracy) * 100\n",
    "            ))\n",
    "\n",
    "        train_history.append(train_accuracy)\n",
    "        loss_history.append(float(loss_accumulated))\n",
    "\n",
    "        # validation\n",
    "        model.eval()\n",
    "\n",
    "        val_accuracies = []\n",
    "        for _, (x, y) in enumerate(val_loader):\n",
    "            predictions = model(x)\n",
    "\n",
    "            val_acc = np.mean(calculate_accuracy(predictions, y))\n",
    "            val_accuracies.append(val_acc)\n",
    "        val_accurcy = np.mean(val_accuracies)\n",
    "        print('Epoch validation accuracy: {0:2.3f}'.format(val_accurcy))\n",
    "        val_history.append(val_accurcy)\n",
    "\n",
    "    return loss_history, train_history, val_history"
   ]
  },
  {
   "cell_type": "code",
   "execution_count": 11,
   "metadata": {},
   "outputs": [],
   "source": [
    "#  https://towardsdatascience.com/linear-regression-with-pytorch-eb6dedead817\n",
    "import torch\n",
    "from dataset import DwgDataset\n",
    "\n",
    "dwg_dataset = DwgDataset(pickle_file='test_dataset.pickle', batch_size=batch_size)\n",
    "\n",
    "train_loader = dwg_dataset.train_loader\n",
    "val_loader   = dwg_dataset.val_loader\n",
    "test_loader  = dwg_dataset.test_loader\n",
    " \n",
    "ent_features = dwg_dataset.entities.ent_features\n",
    "dim_features = dwg_dataset.entities.dim_features"
   ]
  },
  {
   "cell_type": "code",
   "execution_count": 12,
   "metadata": {},
   "outputs": [
    {
     "data": {
      "text/plain": [
       "LinearRegression(\n",
       "  (linear): Linear(in_features=2, out_features=1, bias=True)\n",
       ")"
      ]
     },
     "execution_count": 12,
     "metadata": {},
     "output_type": "execute_result"
    }
   ],
   "source": [
    "from torch.autograd import Variable\n",
    "class LinearRegression(torch.nn.Module):\n",
    "    def __init__(self, inputSize, outputSize):\n",
    "        super(LinearRegression, self).__init__()\n",
    "        self.linear = torch.nn.Linear(inputSize, outputSize)\n",
    "\n",
    "    def forward(self, x):\n",
    "        out = self.linear(x)\n",
    "        return out\n",
    "\n",
    "model = LinearRegression(2, 1)\n",
    "model.to(device)\n"
   ]
  },
  {
   "cell_type": "code",
   "execution_count": 13,
   "metadata": {},
   "outputs": [
    {
     "ename": "AttributeError",
     "evalue": "'list' object has no attribute 'to'",
     "output_type": "error",
     "traceback": [
      "\u001b[1;31m---------------------------------------------------------------------------\u001b[0m",
      "\u001b[1;31mAttributeError\u001b[0m                            Traceback (most recent call last)",
      "\u001b[1;32m<ipython-input-13-9f440f6d24a2>\u001b[0m in \u001b[0;36m<module>\u001b[1;34m\u001b[0m\n\u001b[0;32m      7\u001b[0m     \u001b[0mloss\u001b[0m         \u001b[1;33m=\u001b[0m \u001b[0mloss\u001b[0m\u001b[1;33m,\u001b[0m\u001b[1;33m\u001b[0m\u001b[1;33m\u001b[0m\u001b[0m\n\u001b[0;32m      8\u001b[0m     \u001b[0moptimizer\u001b[0m  \u001b[1;33m=\u001b[0m \u001b[0moptimizer\u001b[0m\u001b[1;33m,\u001b[0m\u001b[1;33m\u001b[0m\u001b[1;33m\u001b[0m\u001b[0m\n\u001b[1;32m----> 9\u001b[1;33m     epochs       = epochs)\n\u001b[0m\u001b[0;32m     10\u001b[0m \u001b[1;33m\u001b[0m\u001b[0m\n\u001b[0;32m     11\u001b[0m \u001b[0mplot_history\u001b[0m\u001b[1;33m(\u001b[0m\u001b[0mloss_history\u001b[0m\u001b[1;33m,\u001b[0m \u001b[0mtrain_history\u001b[0m\u001b[1;33m,\u001b[0m \u001b[0mval_history\u001b[0m\u001b[1;33m)\u001b[0m\u001b[1;33m\u001b[0m\u001b[1;33m\u001b[0m\u001b[0m\n",
      "\u001b[1;32m<ipython-input-10-c29b6afc53f8>\u001b[0m in \u001b[0;36mtrain_model\u001b[1;34m(model, train_loader, val_loader, loss, optimizer, epochs)\u001b[0m\n\u001b[0;32m     60\u001b[0m             \u001b[0mmodel\u001b[0m\u001b[1;33m.\u001b[0m\u001b[0mzero_grad\u001b[0m\u001b[1;33m(\u001b[0m\u001b[1;33m)\u001b[0m\u001b[1;33m\u001b[0m\u001b[1;33m\u001b[0m\u001b[0m\n\u001b[0;32m     61\u001b[0m \u001b[1;33m\u001b[0m\u001b[0m\n\u001b[1;32m---> 62\u001b[1;33m             \u001b[0mouts_num\u001b[0m \u001b[1;33m=\u001b[0m \u001b[0mmodel\u001b[0m\u001b[1;33m(\u001b[0m\u001b[0mx\u001b[0m\u001b[1;33m.\u001b[0m\u001b[0mto\u001b[0m\u001b[1;33m(\u001b[0m\u001b[0mdevice\u001b[0m\u001b[1;33m)\u001b[0m\u001b[1;33m)\u001b[0m\u001b[1;33m\u001b[0m\u001b[1;33m\u001b[0m\u001b[0m\n\u001b[0m\u001b[0;32m     63\u001b[0m \u001b[1;33m\u001b[0m\u001b[0m\n\u001b[0;32m     64\u001b[0m             \u001b[0mloss_value\u001b[0m \u001b[1;33m=\u001b[0m \u001b[0mloss\u001b[0m\u001b[1;33m(\u001b[0m\u001b[0mouts_num\u001b[0m\u001b[1;33m,\u001b[0m \u001b[0my\u001b[0m\u001b[1;33m)\u001b[0m\u001b[1;33m\u001b[0m\u001b[1;33m\u001b[0m\u001b[0m\n",
      "\u001b[1;31mAttributeError\u001b[0m: 'list' object has no attribute 'to'"
     ]
    }
   ],
   "source": [
    "lr = 1e-3\n",
    "epochs = 11    \n",
    "loss = nn.MSELoss()\n",
    "optimizer = torch.optim.Adam(model.parameters(), lr=lr)\n",
    "\n",
    "loss_history, train_history, val_history = train_model(\n",
    "    model      =   model, \n",
    "    train_loader = train_loader,\n",
    "    val_loader   = val_loader,\n",
    "    loss         = loss,\n",
    "    optimizer  = optimizer,\n",
    "    epochs       = epochs)\n",
    "\n",
    "plot_history(loss_history, train_history, val_history)"
   ]
  },
  {
   "cell_type": "code",
   "execution_count": null,
   "metadata": {},
   "outputs": [],
   "source": []
  }
 ],
 "metadata": {
  "kernelspec": {
   "display_name": "Python 3",
   "language": "python",
   "name": "python3"
  },
  "language_info": {
   "codemirror_mode": {
    "name": "ipython",
    "version": 3
   },
   "file_extension": ".py",
   "mimetype": "text/x-python",
   "name": "python",
   "nbconvert_exporter": "python",
   "pygments_lexer": "ipython3",
   "version": "3.7.6"
  }
 },
 "nbformat": 4,
 "nbformat_minor": 4
}
