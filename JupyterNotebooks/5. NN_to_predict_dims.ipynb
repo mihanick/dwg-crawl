{
 "cells": [
  {
   "cell_type": "markdown",
   "metadata": {},
   "source": [
    "# Idea\n",
    "The idea is that we predict rotated linear dimension position from lines and text from the drawing.\n",
    "\n",
    "# Thoughts\n",
    "Basic logic is we split dataset to input lines or texts positions StartPoint, EndPoint, Position XYZ and predict dimension extension line poistion XLine1Point, XLine2Point XYZ.\n",
    "\n",
    "We going to group samples by FileId. That is each sample will contain variable length data (attributes of variable number of  lines and text) and variable output data (variable number of dimensions).\n",
    "\n",
    "I intend to [use RNN for it](https://medium.com/dair-ai/building-rnns-is-fun-with-pytorch-and-google-colab-3903ea9a3a79)"
   ]
  },
  {
   "cell_type": "code",
   "execution_count": 1,
   "metadata": {},
   "outputs": [],
   "source": [
    "import pandas as pd\n",
    "import numpy as np\n",
    "\n",
    "%matplotlib inline"
   ]
  },
  {
   "cell_type": "code",
   "execution_count": 2,
   "metadata": {},
   "outputs": [
    {
     "name": "stderr",
     "output_type": "stream",
     "text": [
      "/home/mk/anaconda3/lib/python3.7/site-packages/torch/cuda/__init__.py:52: UserWarning: CUDA initialization: Found no NVIDIA driver on your system. Please check that you have an NVIDIA GPU and installed a driver from http://www.nvidia.com/Download/index.aspx (Triggered internally at  /pytorch/c10/cuda/CUDAFunctions.cpp:100.)\n",
      "  return torch._C._cuda_getDeviceCount() > 0\n"
     ]
    },
    {
     "data": {
      "text/plain": [
       "device(type='cpu')"
      ]
     },
     "execution_count": 2,
     "metadata": {},
     "output_type": "execute_result"
    }
   ],
   "source": [
    "# https://blog.floydhub.com/a-beginners-guide-on-recurrent-neural-networks-with-pytorch/\n",
    "import torch\n",
    "from torch import nn\n",
    "from torch.utils.data import Dataset, SubsetRandomSampler\n",
    "from torch.nn import functional as F\n",
    "\n",
    "device = torch.device(\"cpu\")\n",
    "if torch.cuda.is_available():\n",
    "    device = torch.device(\"cuda\")\n",
    "    \n",
    "device"
   ]
  },
  {
   "cell_type": "markdown",
   "metadata": {},
   "source": [
    "# Dataset implementation"
   ]
  },
  {
   "cell_type": "code",
   "execution_count": 3,
   "metadata": {},
   "outputs": [
    {
     "data": {
      "text/html": [
       "<div>\n",
       "<style scoped>\n",
       "    .dataframe tbody tr th:only-of-type {\n",
       "        vertical-align: middle;\n",
       "    }\n",
       "\n",
       "    .dataframe tbody tr th {\n",
       "        vertical-align: top;\n",
       "    }\n",
       "\n",
       "    .dataframe thead th {\n",
       "        text-align: right;\n",
       "    }\n",
       "</style>\n",
       "<table border=\"1\" class=\"dataframe\">\n",
       "  <thead>\n",
       "    <tr style=\"text-align: right;\">\n",
       "      <th></th>\n",
       "      <th>ClassName</th>\n",
       "      <th>FileId</th>\n",
       "      <th>XLine1Point.X</th>\n",
       "      <th>XLine1Point.Y</th>\n",
       "      <th>XLine1Point.Z</th>\n",
       "      <th>XLine2Point.X</th>\n",
       "      <th>XLine2Point.Y</th>\n",
       "      <th>XLine2Point.Z</th>\n",
       "      <th>StartPoint.X</th>\n",
       "      <th>StartPoint.Y</th>\n",
       "      <th>StartPoint.Z</th>\n",
       "      <th>EndPoint.X</th>\n",
       "      <th>EndPoint.Y</th>\n",
       "      <th>EndPoint.Z</th>\n",
       "      <th>Position.X</th>\n",
       "      <th>Position.Y</th>\n",
       "      <th>Position.Z</th>\n",
       "    </tr>\n",
       "  </thead>\n",
       "  <tbody>\n",
       "    <tr>\n",
       "      <th>0</th>\n",
       "      <td>AcDbText</td>\n",
       "      <td>006cb2dd-6f18-4203-8b70-fc865c08105a</td>\n",
       "      <td>NaN</td>\n",
       "      <td>NaN</td>\n",
       "      <td>NaN</td>\n",
       "      <td>NaN</td>\n",
       "      <td>NaN</td>\n",
       "      <td>NaN</td>\n",
       "      <td>NaN</td>\n",
       "      <td>NaN</td>\n",
       "      <td>NaN</td>\n",
       "      <td>NaN</td>\n",
       "      <td>NaN</td>\n",
       "      <td>NaN</td>\n",
       "      <td>7.695776</td>\n",
       "      <td>35.642180</td>\n",
       "      <td>0.0</td>\n",
       "    </tr>\n",
       "    <tr>\n",
       "      <th>1</th>\n",
       "      <td>AcDbText</td>\n",
       "      <td>006cb2dd-6f18-4203-8b70-fc865c08105a</td>\n",
       "      <td>NaN</td>\n",
       "      <td>NaN</td>\n",
       "      <td>NaN</td>\n",
       "      <td>NaN</td>\n",
       "      <td>NaN</td>\n",
       "      <td>NaN</td>\n",
       "      <td>NaN</td>\n",
       "      <td>NaN</td>\n",
       "      <td>NaN</td>\n",
       "      <td>NaN</td>\n",
       "      <td>NaN</td>\n",
       "      <td>NaN</td>\n",
       "      <td>8.733352</td>\n",
       "      <td>10.433374</td>\n",
       "      <td>0.0</td>\n",
       "    </tr>\n",
       "    <tr>\n",
       "      <th>2</th>\n",
       "      <td>AcDbText</td>\n",
       "      <td>006cb2dd-6f18-4203-8b70-fc865c08105a</td>\n",
       "      <td>NaN</td>\n",
       "      <td>NaN</td>\n",
       "      <td>NaN</td>\n",
       "      <td>NaN</td>\n",
       "      <td>NaN</td>\n",
       "      <td>NaN</td>\n",
       "      <td>NaN</td>\n",
       "      <td>NaN</td>\n",
       "      <td>NaN</td>\n",
       "      <td>NaN</td>\n",
       "      <td>NaN</td>\n",
       "      <td>NaN</td>\n",
       "      <td>8.733352</td>\n",
       "      <td>6.266707</td>\n",
       "      <td>0.0</td>\n",
       "    </tr>\n",
       "    <tr>\n",
       "      <th>3</th>\n",
       "      <td>AcDbText</td>\n",
       "      <td>006cb2dd-6f18-4203-8b70-fc865c08105a</td>\n",
       "      <td>NaN</td>\n",
       "      <td>NaN</td>\n",
       "      <td>NaN</td>\n",
       "      <td>NaN</td>\n",
       "      <td>NaN</td>\n",
       "      <td>NaN</td>\n",
       "      <td>NaN</td>\n",
       "      <td>NaN</td>\n",
       "      <td>NaN</td>\n",
       "      <td>NaN</td>\n",
       "      <td>NaN</td>\n",
       "      <td>NaN</td>\n",
       "      <td>8.733352</td>\n",
       "      <td>22.584136</td>\n",
       "      <td>0.0</td>\n",
       "    </tr>\n",
       "    <tr>\n",
       "      <th>4</th>\n",
       "      <td>AcDbText</td>\n",
       "      <td>006cb2dd-6f18-4203-8b70-fc865c08105a</td>\n",
       "      <td>NaN</td>\n",
       "      <td>NaN</td>\n",
       "      <td>NaN</td>\n",
       "      <td>NaN</td>\n",
       "      <td>NaN</td>\n",
       "      <td>NaN</td>\n",
       "      <td>NaN</td>\n",
       "      <td>NaN</td>\n",
       "      <td>NaN</td>\n",
       "      <td>NaN</td>\n",
       "      <td>NaN</td>\n",
       "      <td>NaN</td>\n",
       "      <td>8.733352</td>\n",
       "      <td>18.417470</td>\n",
       "      <td>0.0</td>\n",
       "    </tr>\n",
       "    <tr>\n",
       "      <th>...</th>\n",
       "      <td>...</td>\n",
       "      <td>...</td>\n",
       "      <td>...</td>\n",
       "      <td>...</td>\n",
       "      <td>...</td>\n",
       "      <td>...</td>\n",
       "      <td>...</td>\n",
       "      <td>...</td>\n",
       "      <td>...</td>\n",
       "      <td>...</td>\n",
       "      <td>...</td>\n",
       "      <td>...</td>\n",
       "      <td>...</td>\n",
       "      <td>...</td>\n",
       "      <td>...</td>\n",
       "      <td>...</td>\n",
       "      <td>...</td>\n",
       "    </tr>\n",
       "    <tr>\n",
       "      <th>89231</th>\n",
       "      <td>AcDbText</td>\n",
       "      <td>09bb1674-bff4-4ac7-a86d-60a9600ce899</td>\n",
       "      <td>NaN</td>\n",
       "      <td>NaN</td>\n",
       "      <td>NaN</td>\n",
       "      <td>NaN</td>\n",
       "      <td>NaN</td>\n",
       "      <td>NaN</td>\n",
       "      <td>NaN</td>\n",
       "      <td>NaN</td>\n",
       "      <td>NaN</td>\n",
       "      <td>NaN</td>\n",
       "      <td>NaN</td>\n",
       "      <td>NaN</td>\n",
       "      <td>4.169657</td>\n",
       "      <td>92.228915</td>\n",
       "      <td>0.0</td>\n",
       "    </tr>\n",
       "    <tr>\n",
       "      <th>89232</th>\n",
       "      <td>AcDbLine</td>\n",
       "      <td>09bb1674-bff4-4ac7-a86d-60a9600ce899</td>\n",
       "      <td>NaN</td>\n",
       "      <td>NaN</td>\n",
       "      <td>NaN</td>\n",
       "      <td>NaN</td>\n",
       "      <td>NaN</td>\n",
       "      <td>NaN</td>\n",
       "      <td>20.2884</td>\n",
       "      <td>155.228915</td>\n",
       "      <td>0.0</td>\n",
       "      <td>0.2884</td>\n",
       "      <td>155.228915</td>\n",
       "      <td>0.0</td>\n",
       "      <td>NaN</td>\n",
       "      <td>NaN</td>\n",
       "      <td>NaN</td>\n",
       "    </tr>\n",
       "    <tr>\n",
       "      <th>89233</th>\n",
       "      <td>AcDbLine</td>\n",
       "      <td>09bb1674-bff4-4ac7-a86d-60a9600ce899</td>\n",
       "      <td>NaN</td>\n",
       "      <td>NaN</td>\n",
       "      <td>NaN</td>\n",
       "      <td>NaN</td>\n",
       "      <td>NaN</td>\n",
       "      <td>NaN</td>\n",
       "      <td>5.2884</td>\n",
       "      <td>145.228915</td>\n",
       "      <td>0.0</td>\n",
       "      <td>20.2884</td>\n",
       "      <td>145.228915</td>\n",
       "      <td>0.0</td>\n",
       "      <td>NaN</td>\n",
       "      <td>NaN</td>\n",
       "      <td>NaN</td>\n",
       "    </tr>\n",
       "    <tr>\n",
       "      <th>89234</th>\n",
       "      <td>AcDbText</td>\n",
       "      <td>09bb1674-bff4-4ac7-a86d-60a9600ce899</td>\n",
       "      <td>NaN</td>\n",
       "      <td>NaN</td>\n",
       "      <td>NaN</td>\n",
       "      <td>NaN</td>\n",
       "      <td>NaN</td>\n",
       "      <td>NaN</td>\n",
       "      <td>NaN</td>\n",
       "      <td>NaN</td>\n",
       "      <td>NaN</td>\n",
       "      <td>NaN</td>\n",
       "      <td>NaN</td>\n",
       "      <td>NaN</td>\n",
       "      <td>316.663400</td>\n",
       "      <td>1.478915</td>\n",
       "      <td>0.0</td>\n",
       "    </tr>\n",
       "    <tr>\n",
       "      <th>89235</th>\n",
       "      <td>AcDbText</td>\n",
       "      <td>09bb1674-bff4-4ac7-a86d-60a9600ce899</td>\n",
       "      <td>NaN</td>\n",
       "      <td>NaN</td>\n",
       "      <td>NaN</td>\n",
       "      <td>NaN</td>\n",
       "      <td>NaN</td>\n",
       "      <td>NaN</td>\n",
       "      <td>NaN</td>\n",
       "      <td>NaN</td>\n",
       "      <td>NaN</td>\n",
       "      <td>NaN</td>\n",
       "      <td>NaN</td>\n",
       "      <td>NaN</td>\n",
       "      <td>369.612047</td>\n",
       "      <td>1.688458</td>\n",
       "      <td>0.0</td>\n",
       "    </tr>\n",
       "  </tbody>\n",
       "</table>\n",
       "<p>89236 rows × 17 columns</p>\n",
       "</div>"
      ],
      "text/plain": [
       "      ClassName                                FileId  XLine1Point.X  \\\n",
       "0      AcDbText  006cb2dd-6f18-4203-8b70-fc865c08105a            NaN   \n",
       "1      AcDbText  006cb2dd-6f18-4203-8b70-fc865c08105a            NaN   \n",
       "2      AcDbText  006cb2dd-6f18-4203-8b70-fc865c08105a            NaN   \n",
       "3      AcDbText  006cb2dd-6f18-4203-8b70-fc865c08105a            NaN   \n",
       "4      AcDbText  006cb2dd-6f18-4203-8b70-fc865c08105a            NaN   \n",
       "...         ...                                   ...            ...   \n",
       "89231  AcDbText  09bb1674-bff4-4ac7-a86d-60a9600ce899            NaN   \n",
       "89232  AcDbLine  09bb1674-bff4-4ac7-a86d-60a9600ce899            NaN   \n",
       "89233  AcDbLine  09bb1674-bff4-4ac7-a86d-60a9600ce899            NaN   \n",
       "89234  AcDbText  09bb1674-bff4-4ac7-a86d-60a9600ce899            NaN   \n",
       "89235  AcDbText  09bb1674-bff4-4ac7-a86d-60a9600ce899            NaN   \n",
       "\n",
       "       XLine1Point.Y  XLine1Point.Z  XLine2Point.X  XLine2Point.Y  \\\n",
       "0                NaN            NaN            NaN            NaN   \n",
       "1                NaN            NaN            NaN            NaN   \n",
       "2                NaN            NaN            NaN            NaN   \n",
       "3                NaN            NaN            NaN            NaN   \n",
       "4                NaN            NaN            NaN            NaN   \n",
       "...              ...            ...            ...            ...   \n",
       "89231            NaN            NaN            NaN            NaN   \n",
       "89232            NaN            NaN            NaN            NaN   \n",
       "89233            NaN            NaN            NaN            NaN   \n",
       "89234            NaN            NaN            NaN            NaN   \n",
       "89235            NaN            NaN            NaN            NaN   \n",
       "\n",
       "       XLine2Point.Z  StartPoint.X  StartPoint.Y  StartPoint.Z  EndPoint.X  \\\n",
       "0                NaN           NaN           NaN           NaN         NaN   \n",
       "1                NaN           NaN           NaN           NaN         NaN   \n",
       "2                NaN           NaN           NaN           NaN         NaN   \n",
       "3                NaN           NaN           NaN           NaN         NaN   \n",
       "4                NaN           NaN           NaN           NaN         NaN   \n",
       "...              ...           ...           ...           ...         ...   \n",
       "89231            NaN           NaN           NaN           NaN         NaN   \n",
       "89232            NaN       20.2884    155.228915           0.0      0.2884   \n",
       "89233            NaN        5.2884    145.228915           0.0     20.2884   \n",
       "89234            NaN           NaN           NaN           NaN         NaN   \n",
       "89235            NaN           NaN           NaN           NaN         NaN   \n",
       "\n",
       "       EndPoint.Y  EndPoint.Z  Position.X  Position.Y  Position.Z  \n",
       "0             NaN         NaN    7.695776   35.642180         0.0  \n",
       "1             NaN         NaN    8.733352   10.433374         0.0  \n",
       "2             NaN         NaN    8.733352    6.266707         0.0  \n",
       "3             NaN         NaN    8.733352   22.584136         0.0  \n",
       "4             NaN         NaN    8.733352   18.417470         0.0  \n",
       "...           ...         ...         ...         ...         ...  \n",
       "89231         NaN         NaN    4.169657   92.228915         0.0  \n",
       "89232  155.228915         0.0         NaN         NaN         NaN  \n",
       "89233  145.228915         0.0         NaN         NaN         NaN  \n",
       "89234         NaN         NaN  316.663400    1.478915         0.0  \n",
       "89235         NaN         NaN  369.612047    1.688458         0.0  \n",
       "\n",
       "[89236 rows x 17 columns]"
      ]
     },
     "execution_count": 3,
     "metadata": {},
     "output_type": "execute_result"
    }
   ],
   "source": [
    "test_data = pd.read_pickle('test_dataset.pickle')\n",
    "test_data"
   ]
  },
  {
   "cell_type": "code",
   "execution_count": 4,
   "metadata": {},
   "outputs": [],
   "source": [
    "from dataset import DwgDataset\n",
    "batch_size = 2\n",
    "\n",
    "dwg_dataset = DwgDataset(pickle_file = 'test_dataset.pickle', batch_size = batch_size)\n",
    "\n",
    "train_loader = dwg_dataset.train_loader\n",
    "val_loader   = dwg_dataset.val_loader\n",
    "test_loader  = dwg_dataset.test_loader\n",
    "\n",
    "ent_features = dwg_dataset.entities.ent_features\n",
    "dim_features = dwg_dataset.entities.dim_features"
   ]
  },
  {
   "cell_type": "code",
   "execution_count": 5,
   "metadata": {},
   "outputs": [],
   "source": [
    "for c,d in dwg_dataset.entities:\n",
    "    # print(c.shape, d.shape)\n",
    "    # make sure we have every training sample not empty\n",
    "    assert( c.shape[0] != 0)    "
   ]
  },
  {
   "cell_type": "code",
   "execution_count": 6,
   "metadata": {},
   "outputs": [
    {
     "name": "stdout",
     "output_type": "stream",
     "text": [
      "2 2\n",
      "torch.Size([955, 9])\n",
      "torch.Size([1617, 9])\n",
      "torch.Size([0, 6])\n",
      "torch.Size([0, 6])\n"
     ]
    }
   ],
   "source": [
    "(a,b) = next(iter(train_loader))\n",
    "print(len(a),len(b))\n",
    "for (x,y) in iter(train_loader):\n",
    "    for xx in x:\n",
    "        print(xx.shape)\n",
    "        pass\n",
    "    for yy in y:\n",
    "        print(yy.shape)\n",
    "    # print(a.shape,b.shape)\n",
    "    break"
   ]
  },
  {
   "cell_type": "markdown",
   "metadata": {},
   "source": [
    "# Model and training\n"
   ]
  },
  {
   "cell_type": "code",
   "execution_count": 7,
   "metadata": {},
   "outputs": [],
   "source": [
    "from model import RnnDecoder, RnnEncoder\n",
    "rnn_encoder = RnnEncoder(ent_features, 1024).to(device)\n",
    "rnn_decoder = RnnDecoder(1024, dim_features).to(device)"
   ]
  },
  {
   "cell_type": "code",
   "execution_count": 8,
   "metadata": {},
   "outputs": [
    {
     "name": "stdout",
     "output_type": "stream",
     "text": [
      "inputs x: 2 x torch.Size([603, 9]) y: 2 x torch.Size([259, 6])\n",
      "learned shape: torch.Size([2, 1024])\n",
      "outs shape: torch.Size([2, 1]) outs_value tensor([[325],\n",
      "        [618]], dtype=torch.int32)\n",
      "decoded: 2 x torch.Size([42, 6])\n"
     ]
    }
   ],
   "source": [
    "(x,y) = next(iter(train_loader))\n",
    "print('inputs','x:',len(x),'x',x[0].shape,'y:',len(y),'x',y[0].shape)\n",
    "outs_numbers, learned = rnn_encoder(x)\n",
    "print('learned shape:', learned.shape)\n",
    "print(\"outs shape:\", outs_numbers.shape, 'outs_value', outs_numbers)\n",
    "# make sure something is passed\n",
    "outs_numbers[0] = 42\n",
    "decoded = rnn_decoder(outs_numbers, learned)\n",
    "print('decoded:',len(decoded),'x', decoded[0].shape)"
   ]
  },
  {
   "cell_type": "code",
   "execution_count": 9,
   "metadata": {},
   "outputs": [],
   "source": [
    "# test run all data samples\n",
    "for (x,y) in iter(train_loader):\n",
    "    try:\n",
    "        outs_numbers, learned = rnn_encoder(x)\n",
    "        results = rnn_decoder(outs_numbers, learned)\n",
    "    except Exception as e:\n",
    "        # print(e)\n",
    "        for xx in x:\n",
    "            print(xx.shape)\n",
    "        print(outs_numbers.shape)\n",
    "        raise(e)\n",
    "        break"
   ]
  },
  {
   "cell_type": "code",
   "execution_count": 10,
   "metadata": {},
   "outputs": [],
   "source": [
    "from chamfer_distance_loss import MyChamferDistance"
   ]
  },
  {
   "cell_type": "code",
   "execution_count": 11,
   "metadata": {},
   "outputs": [
    {
     "name": "stdout",
     "output_type": "stream",
     "text": [
      "tensor([10.7180], grad_fn=<AddBackward0>)\n"
     ]
    }
   ],
   "source": [
    "# print(my_chamfer_distance(decoded, y))\n",
    "loss = MyChamferDistance()\n",
    "\n",
    "a = [torch.randn([3,6]), torch.randn([2,6])]\n",
    "b = [torch.randn([4,6]), torch.randn([1,6])]\n",
    "# print(a,b)\n",
    "print(loss(a,b))"
   ]
  },
  {
   "cell_type": "code",
   "execution_count": 12,
   "metadata": {},
   "outputs": [],
   "source": [
    "%matplotlib inline\n",
    "from train import train_model, plot_history"
   ]
  },
  {
   "cell_type": "code",
   "execution_count": null,
   "metadata": {},
   "outputs": [],
   "source": []
  },
  {
   "cell_type": "code",
   "execution_count": 13,
   "metadata": {},
   "outputs": [
    {
     "name": "stdout",
     "output_type": "stream",
     "text": [
      "[0-0 @ 0.4 sec] Loss:  inf Train err: -18009.14%\n",
      "[0-1 @ 4.0 sec] Loss:  inf Train err: -25108.77%\n",
      "[0-2 @ 4.7 sec] Loss:  inf Train err: -29800.00%\n",
      "[0-3 @ 15.6 sec] Loss: 5905.932617 Train err: -2504.87%\n",
      "[0-4 @ 16.7 sec] Loss: 787987.937500 Train err: -368.31%\n",
      "[0-5 @ 17.7 sec] Loss: 930851.000000 Train err: -1081.88%\n",
      "[0-6 @ 18.9 sec] Loss: 857404.500000 Train err: -13469.28%\n",
      "[0-7 @ 19.5 sec] Loss:  inf Train err: -23599.09%\n",
      "[0-8 @ 21.8 sec] Loss: 81387.882812 Train err: -1274.86%\n",
      "[0-9 @ 23.5 sec] Loss: 3474186.500000 Train err: -5640.87%\n",
      "[0-10 @ 24.8 sec] Loss:  inf Train err: -144300.00%\n",
      "[1-0 @ 29.0 sec] Loss: 936399.812500 Train err: -682.98%\n",
      "[1-1 @ 29.9 sec] Loss:  inf Train err: -41650.00%\n",
      "[1-2 @ 30.7 sec] Loss:  inf Train err: -10618.18%\n",
      "[1-3 @ 31.4 sec] Loss: 852277.000000 Train err: -33050.00%\n",
      "[1-4 @ 41.4 sec] Loss: 3479149.250000 Train err: -1205.11%\n",
      "[1-5 @ 42.5 sec] Loss: 2288156.250000 Train err: -274.20%\n",
      "[1-6 @ 44.2 sec] Loss: 14541.463867 Train err: -1315.75%\n",
      "[1-7 @ 46.1 sec] Loss:  inf Train err: -30778.12%\n",
      "[1-8 @ 48.7 sec] Loss: 776303.500000 Train err: -1168.14%\n",
      "[1-9 @ 51.9 sec] Loss: 1928261.375000 Train err: -114.59%\n",
      "[1-10 @ 53.2 sec] Loss:  inf Train err: -144300.00%\n",
      "[2-0 @ 57.0 sec] Loss: 3480122.000000 Train err: 67.98%\n",
      "[2-1 @ 62.0 sec] Loss: 2008084.500000 Train err: -1177.82%\n",
      "[2-2 @ 72.1 sec] Loss:  inf Train err: -24842.37%\n",
      "[2-3 @ 74.4 sec] Loss:  inf Train err: -11512.50%\n",
      "[2-4 @ 75.3 sec] Loss:  inf Train err: -25813.70%\n",
      "[2-5 @ 76.7 sec] Loss:  inf Train err: -72255.81%\n",
      "[2-6 @ 77.7 sec] Loss: 774776.375000 Train err: -683.24%\n",
      "[2-7 @ 78.5 sec] Loss: 852277.000000 Train err: -33050.00%\n",
      "[2-8 @ 78.8 sec] Loss: 709333.062500 Train err: -52.34%\n",
      "[2-9 @ 80.3 sec] Loss: 1513840.125000 Train err: -5637.26%\n",
      "[2-10 @ 80.7 sec] Loss:  inf Train err: -36100.00%\n"
     ]
    },
    {
     "data": {
      "image/png": "[encoded data removed]",
      "text/plain": [
       "<Figure size 432x288 with 1 Axes>"
      ]
     },
     "metadata": {
      "needs_background": "light"
     },
     "output_type": "display_data"
    }
   ],
   "source": [
    "lr = 1e-4\n",
    "epochs = 32\n",
    "decoder_optimizer = torch.optim.Adam(rnn_decoder.parameters(), lr = lr)\n",
    "encoder_optimizer = torch.optim.Adam(rnn_encoder.parameters(), lr = lr)\n",
    "\n",
    "loss_history, train_history, val_history = train_model(\n",
    "    encoder = rnn_encoder, \n",
    "    decoder = rnn_decoder, \n",
    "    train_loader = train_loader,\n",
    "    val_loader = val_loader,\n",
    "    loss = loss,\n",
    "    decoder_opt = decoder_optimizer,\n",
    "    encoder_opt = encoder_optimizer,\n",
    "    epochs = epochs)\n",
    "\n",
    "plot_history(loss_history, train_history, val_history)"
   ]
  },
  {
   "cell_type": "code",
   "execution_count": 14,
   "metadata": {},
   "outputs": [
    {
     "ename": "NameError",
     "evalue": "name 'model' is not defined",
     "output_type": "error",
     "traceback": [
      "\u001b[0;31m---------------------------------------------------------------------------\u001b[0m",
      "\u001b[0;31mNameError\u001b[0m                                 Traceback (most recent call last)",
      "\u001b[0;32m<ipython-input-14-24588b257f36>\u001b[0m in \u001b[0;36m<module>\u001b[0;34m\u001b[0m\n\u001b[1;32m      1\u001b[0m \u001b[0mtorch\u001b[0m\u001b[0;34m.\u001b[0m\u001b[0mcuda\u001b[0m\u001b[0;34m.\u001b[0m\u001b[0mempty_cache\u001b[0m\u001b[0;34m(\u001b[0m\u001b[0;34m)\u001b[0m\u001b[0;34m\u001b[0m\u001b[0;34m\u001b[0m\u001b[0m\n\u001b[1;32m      2\u001b[0m \u001b[0;34m\u001b[0m\u001b[0m\n\u001b[0;32m----> 3\u001b[0;31m \u001b[0mmodel\u001b[0m\u001b[0;34m.\u001b[0m\u001b[0meval\u001b[0m\u001b[0;34m(\u001b[0m\u001b[0;34m)\u001b[0m\u001b[0;34m\u001b[0m\u001b[0;34m\u001b[0m\u001b[0m\n\u001b[0m\u001b[1;32m      4\u001b[0m \u001b[0;32mfor\u001b[0m \u001b[0;34m(\u001b[0m\u001b[0mx\u001b[0m\u001b[0;34m,\u001b[0m\u001b[0my\u001b[0m\u001b[0;34m)\u001b[0m \u001b[0;32min\u001b[0m \u001b[0mtest_loader\u001b[0m\u001b[0;34m:\u001b[0m\u001b[0;34m\u001b[0m\u001b[0;34m\u001b[0m\u001b[0m\n\u001b[1;32m      5\u001b[0m     \u001b[0;32mwith\u001b[0m \u001b[0mtorch\u001b[0m\u001b[0;34m.\u001b[0m\u001b[0mno_grad\u001b[0m\u001b[0;34m(\u001b[0m\u001b[0;34m)\u001b[0m\u001b[0;34m:\u001b[0m\u001b[0;34m\u001b[0m\u001b[0;34m\u001b[0m\u001b[0m\n",
      "\u001b[0;31mNameError\u001b[0m: name 'model' is not defined"
     ]
    }
   ],
   "source": [
    "torch.cuda.empty_cache()\n",
    "\n",
    "model.eval()\n",
    "for (x,y) in test_loader:\n",
    "    with torch.no_grad():\n",
    "        output = model.forward(x.to(device))\n",
    "        accuracy = compute_accuracy(model, test_loader)"
   ]
  },
  {
   "cell_type": "code",
   "execution_count": null,
   "metadata": {},
   "outputs": [],
   "source": []
  }
 ],
 "metadata": {
  "kernelspec": {
   "display_name": "Python 3",
   "language": "python",
   "name": "python3"
  },
  "language_info": {
   "codemirror_mode": {
    "name": "ipython",
    "version": 3
   },
   "file_extension": ".py",
   "mimetype": "text/x-python",
   "name": "python",
   "nbconvert_exporter": "python",
   "pygments_lexer": "ipython3",
   "version": "3.7.6"
  }
 },
 "nbformat": 4,
 "nbformat_minor": 4
}
