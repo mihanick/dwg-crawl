{
 "cells": [
  {
   "cell_type": "markdown",
   "metadata": {},
   "source": [
    "# Evaluate model"
   ]
  },
  {
   "cell_type": "code",
   "execution_count": 1,
   "metadata": {},
   "outputs": [
    {
     "name": "stdout",
     "output_type": "stream",
     "text": [
      "Could not import drawSvg\n"
     ]
    }
   ],
   "source": [
    "from dataset import DwgDataset\n",
    "from sketch_rnn import Trainer\n",
    "from IPython.display import clear_output\n",
    "from plot_graphics import plot_history\n",
    "import time\n",
    "import torch\n",
    "import numpy as np\n",
    "import matplotlib.pyplot as plt\n",
    "import PIL\n",
    "import imageio\n",
    "import glob\n",
    "import os"
   ]
  },
  {
   "cell_type": "code",
   "execution_count": 2,
   "metadata": {},
   "outputs": [
    {
     "name": "stdout",
     "output_type": "stream",
     "text": [
      "   ClassName                               GroupId  XLine1Point.X  \\\n",
      "0       Line  0335ebcf-8848-4c70-8a97-04195d5816b9            NaN   \n",
      "1       Line  0335ebcf-8848-4c70-8a97-04195d5816b9            NaN   \n",
      "2       Line  0335ebcf-8848-4c70-8a97-04195d5816b9            NaN   \n",
      "3       Line  0335ebcf-8848-4c70-8a97-04195d5816b9            NaN   \n",
      "6       Line  0335ebcf-8848-4c70-8a97-04195d5816b9            NaN   \n",
      "7       Line  0335ebcf-8848-4c70-8a97-04195d5816b9            NaN   \n",
      "8       Line  0335ebcf-8848-4c70-8a97-04195d5816b9            NaN   \n",
      "9       Line  0335ebcf-8848-4c70-8a97-04195d5816b9            NaN   \n",
      "10      Line  0335ebcf-8848-4c70-8a97-04195d5816b9            NaN   \n",
      "12      Line  0335ebcf-8848-4c70-8a97-04195d5816b9            NaN   \n",
      "15      Line  0335ebcf-8848-4c70-8a97-04195d5816b9            NaN   \n",
      "16      Line  0335ebcf-8848-4c70-8a97-04195d5816b9            NaN   \n",
      "17      Line  0335ebcf-8848-4c70-8a97-04195d5816b9            NaN   \n",
      "18      Line  0335ebcf-8848-4c70-8a97-04195d5816b9            NaN   \n",
      "19      Line  0335ebcf-8848-4c70-8a97-04195d5816b9            NaN   \n",
      "\n",
      "    XLine1Point.Y  XLine1Point.Z  XLine2Point.X  XLine2Point.Y  XLine2Point.Z  \\\n",
      "0             NaN            NaN            NaN            NaN            NaN   \n",
      "1             NaN            NaN            NaN            NaN            NaN   \n",
      "2             NaN            NaN            NaN            NaN            NaN   \n",
      "3             NaN            NaN            NaN            NaN            NaN   \n",
      "6             NaN            NaN            NaN            NaN            NaN   \n",
      "7             NaN            NaN            NaN            NaN            NaN   \n",
      "8             NaN            NaN            NaN            NaN            NaN   \n",
      "9             NaN            NaN            NaN            NaN            NaN   \n",
      "10            NaN            NaN            NaN            NaN            NaN   \n",
      "12            NaN            NaN            NaN            NaN            NaN   \n",
      "15            NaN            NaN            NaN            NaN            NaN   \n",
      "16            NaN            NaN            NaN            NaN            NaN   \n",
      "17            NaN            NaN            NaN            NaN            NaN   \n",
      "18            NaN            NaN            NaN            NaN            NaN   \n",
      "19            NaN            NaN            NaN            NaN            NaN   \n",
      "\n",
      "    StartPoint.X  StartPoint.Y  StartPoint.Z  EndPoint.X  EndPoint.Y  \\\n",
      "0     154.853333     55.555556           0.0  134.035556   55.555556   \n",
      "1     144.444444     65.964444           0.0  144.444444   45.146667   \n",
      "2     154.853333    144.444444           0.0  134.035556  144.444444   \n",
      "3     144.444444    154.853333           0.0  144.444444  134.035556   \n",
      "6     187.555556    194.444444           0.0  187.555556    5.555556   \n",
      "7      65.964444     55.555556           0.0   45.146667   55.555556   \n",
      "8      55.555556     65.964444           0.0   55.555556   45.146667   \n",
      "9      65.964444    144.444444           0.0   45.146667  144.444444   \n",
      "10     55.555556    154.853333           0.0   55.555556  134.035556   \n",
      "12     12.444444      5.555556           0.0   12.444444  194.444444   \n",
      "15    194.444444     12.444444           0.0    5.555556   12.444444   \n",
      "16      5.555556    187.555556           0.0  194.444444  187.555556   \n",
      "17    200.000000      0.000000           0.0    0.000000    0.000000   \n",
      "18    200.000000      0.000000           0.0    0.000000    0.000000   \n",
      "19    200.000000      0.000000           0.0    0.000000    0.000000   \n",
      "\n",
      "    EndPoint.Z  Position.X  Position.Y  Position.Z  \n",
      "0          0.0         NaN         NaN         NaN  \n",
      "1          0.0         NaN         NaN         NaN  \n",
      "2          0.0         NaN         NaN         NaN  \n",
      "3          0.0         NaN         NaN         NaN  \n",
      "6          0.0         NaN         NaN         NaN  \n",
      "7          0.0         NaN         NaN         NaN  \n",
      "8          0.0         NaN         NaN         NaN  \n",
      "9          0.0         NaN         NaN         NaN  \n",
      "10         0.0         NaN         NaN         NaN  \n",
      "12         0.0         NaN         NaN         NaN  \n",
      "15         0.0         NaN         NaN         NaN  \n",
      "16         0.0         NaN         NaN         NaN  \n",
      "17         0.0         NaN         NaN         NaN  \n",
      "18         0.0         NaN         NaN         NaN  \n",
      "19         0.0         NaN         NaN         NaN  \n"
     ]
    },
    {
     "name": "stderr",
     "output_type": "stream",
     "text": [
      "C:\\Users\\mihanick.MCAD\\Anaconda3\\lib\\site-packages\\torch\\nn\\modules\\rnn.py:50: UserWarning: dropout option adds dropout after all but last recurrent layer, so non-zero dropout expects num_layers greater than 1, but got dropout=0.45 and num_layers=1\n",
      "  \"num_layers={}\".format(dropout, num_layers))\n"
     ]
    },
    {
     "data": {
      "text/plain": [
       "DecoderRNN(\n",
       "  (fc_hc): Linear(in_features=128, out_features=2048, bias=True)\n",
       "  (lstm): LSTM(133, 1024, dropout=0.45)\n",
       "  (fc_params): Linear(in_features=1024, out_features=123, bias=True)\n",
       ")"
      ]
     },
     "execution_count": 2,
     "metadata": {},
     "output_type": "execute_result"
    }
   ],
   "source": [
    "\n",
    "dwg_dataset = DwgDataset(pickle_file='test_dataset_groups.pickle', batch_size=1, limit_seq_len=500)\n",
    "trainer = Trainer(dwg_dataset, preload_model=True)\n",
    "\n",
    "trainer.encoder.eval()\n",
    "trainer.decoder.eval()\n"
   ]
  },
  {
   "cell_type": "code",
   "execution_count": 3,
   "metadata": {},
   "outputs": [],
   "source": [
    "# use imageio to create animated gif using images \n",
    "\n",
    "def create_gif_from_frames(folder):\n",
    "    '''\n",
    "    creates gif file from png frames in folder\n",
    "    frames should be named 'gen_frame*.png'\n",
    "    png frames are erased in process\n",
    "    \n",
    "    uses\n",
    "     imageio\n",
    "     os\n",
    "     glob\n",
    "    '''\n",
    "\n",
    "    anim_file = folder+ '/predictions.gif'\n",
    "\n",
    "    with imageio.get_writer(anim_file, mode = 'I', fps=0.75) as writer:\n",
    "        filenames = glob.glob(folder+'/gen_frame*.png')\n",
    "        filenames = sorted(filenames)\n",
    "\n",
    "        last = -1\n",
    "\n",
    "        for i, filename in enumerate(filenames):\n",
    "            #frame = 2*(i**0.5)\n",
    "            #if (round(frame)> round(last)):\n",
    "            #    last = frame\n",
    "            #else:\n",
    "            #    continue\n",
    "\n",
    "            image = imageio.imread(filename)\n",
    "            writer.append_data(image)\n",
    "        return anim_file"
   ]
  },
  {
   "cell_type": "code",
   "execution_count": 4,
   "metadata": {},
   "outputs": [
    {
     "ename": "StopIteration",
     "evalue": "",
     "output_type": "error",
     "traceback": [
      "\u001b[1;31m---------------------------------------------------------------------------\u001b[0m",
      "\u001b[1;31mStopIteration\u001b[0m                             Traceback (most recent call last)",
      "\u001b[1;32m<ipython-input-4-9e6a39995477>\u001b[0m in \u001b[0;36m<module>\u001b[1;34m\u001b[0m\n\u001b[0;32m     35\u001b[0m \u001b[0mos\u001b[0m\u001b[1;33m.\u001b[0m\u001b[0mmkdir\u001b[0m\u001b[1;33m(\u001b[0m\u001b[0mfolder\u001b[0m\u001b[1;33m)\u001b[0m\u001b[1;33m\u001b[0m\u001b[1;33m\u001b[0m\u001b[0m\n\u001b[0;32m     36\u001b[0m \u001b[1;33m\u001b[0m\u001b[0m\n\u001b[1;32m---> 37\u001b[1;33m \u001b[0m_\u001b[0m\u001b[1;33m,\u001b[0m \u001b[0mb\u001b[0m \u001b[1;33m=\u001b[0m \u001b[0mnext\u001b[0m\u001b[1;33m(\u001b[0m\u001b[0menumerate\u001b[0m\u001b[1;33m(\u001b[0m\u001b[0mdwg_dataset\u001b[0m\u001b[1;33m.\u001b[0m\u001b[0mtrain_loader\u001b[0m\u001b[1;33m)\u001b[0m\u001b[1;33m)\u001b[0m\u001b[1;33m\u001b[0m\u001b[1;33m\u001b[0m\u001b[0m\n\u001b[0m\u001b[0;32m     38\u001b[0m \u001b[0minput_seq\u001b[0m\u001b[1;33m,\u001b[0m \u001b[0mmask\u001b[0m \u001b[1;33m=\u001b[0m \u001b[0mb\u001b[0m\u001b[1;33m\u001b[0m\u001b[1;33m\u001b[0m\u001b[0m\n\u001b[0;32m     39\u001b[0m \u001b[0minput_seq\u001b[0m \u001b[1;33m=\u001b[0m \u001b[0minput_seq\u001b[0m\u001b[1;33m.\u001b[0m\u001b[0mto\u001b[0m\u001b[1;33m(\u001b[0m\u001b[0mtrainer\u001b[0m\u001b[1;33m.\u001b[0m\u001b[0mdevice\u001b[0m\u001b[1;33m)\u001b[0m\u001b[1;33m.\u001b[0m\u001b[0mtranspose\u001b[0m\u001b[1;33m(\u001b[0m\u001b[1;36m0\u001b[0m\u001b[1;33m,\u001b[0m\u001b[1;36m1\u001b[0m\u001b[1;33m)\u001b[0m\u001b[1;33m\u001b[0m\u001b[1;33m\u001b[0m\u001b[0m\n",
      "\u001b[1;32m~\\Anaconda3\\lib\\site-packages\\torch\\utils\\data\\dataloader.py\u001b[0m in \u001b[0;36m__next__\u001b[1;34m(self)\u001b[0m\n\u001b[0;32m    343\u001b[0m \u001b[1;33m\u001b[0m\u001b[0m\n\u001b[0;32m    344\u001b[0m     \u001b[1;32mdef\u001b[0m \u001b[0m__next__\u001b[0m\u001b[1;33m(\u001b[0m\u001b[0mself\u001b[0m\u001b[1;33m)\u001b[0m\u001b[1;33m:\u001b[0m\u001b[1;33m\u001b[0m\u001b[1;33m\u001b[0m\u001b[0m\n\u001b[1;32m--> 345\u001b[1;33m         \u001b[0mdata\u001b[0m \u001b[1;33m=\u001b[0m \u001b[0mself\u001b[0m\u001b[1;33m.\u001b[0m\u001b[0m_next_data\u001b[0m\u001b[1;33m(\u001b[0m\u001b[1;33m)\u001b[0m\u001b[1;33m\u001b[0m\u001b[1;33m\u001b[0m\u001b[0m\n\u001b[0m\u001b[0;32m    346\u001b[0m         \u001b[0mself\u001b[0m\u001b[1;33m.\u001b[0m\u001b[0m_num_yielded\u001b[0m \u001b[1;33m+=\u001b[0m \u001b[1;36m1\u001b[0m\u001b[1;33m\u001b[0m\u001b[1;33m\u001b[0m\u001b[0m\n\u001b[0;32m    347\u001b[0m         \u001b[1;32mif\u001b[0m \u001b[0mself\u001b[0m\u001b[1;33m.\u001b[0m\u001b[0m_dataset_kind\u001b[0m \u001b[1;33m==\u001b[0m \u001b[0m_DatasetKind\u001b[0m\u001b[1;33m.\u001b[0m\u001b[0mIterable\u001b[0m \u001b[1;32mand\u001b[0m\u001b[0;31m \u001b[0m\u001b[0;31m\\\u001b[0m\u001b[1;33m\u001b[0m\u001b[1;33m\u001b[0m\u001b[0m\n",
      "\u001b[1;32m~\\Anaconda3\\lib\\site-packages\\torch\\utils\\data\\dataloader.py\u001b[0m in \u001b[0;36m_next_data\u001b[1;34m(self)\u001b[0m\n\u001b[0;32m    382\u001b[0m \u001b[1;33m\u001b[0m\u001b[0m\n\u001b[0;32m    383\u001b[0m     \u001b[1;32mdef\u001b[0m \u001b[0m_next_data\u001b[0m\u001b[1;33m(\u001b[0m\u001b[0mself\u001b[0m\u001b[1;33m)\u001b[0m\u001b[1;33m:\u001b[0m\u001b[1;33m\u001b[0m\u001b[1;33m\u001b[0m\u001b[0m\n\u001b[1;32m--> 384\u001b[1;33m         \u001b[0mindex\u001b[0m \u001b[1;33m=\u001b[0m \u001b[0mself\u001b[0m\u001b[1;33m.\u001b[0m\u001b[0m_next_index\u001b[0m\u001b[1;33m(\u001b[0m\u001b[1;33m)\u001b[0m  \u001b[1;31m# may raise StopIteration\u001b[0m\u001b[1;33m\u001b[0m\u001b[1;33m\u001b[0m\u001b[0m\n\u001b[0m\u001b[0;32m    385\u001b[0m         \u001b[0mdata\u001b[0m \u001b[1;33m=\u001b[0m \u001b[0mself\u001b[0m\u001b[1;33m.\u001b[0m\u001b[0m_dataset_fetcher\u001b[0m\u001b[1;33m.\u001b[0m\u001b[0mfetch\u001b[0m\u001b[1;33m(\u001b[0m\u001b[0mindex\u001b[0m\u001b[1;33m)\u001b[0m  \u001b[1;31m# may raise StopIteration\u001b[0m\u001b[1;33m\u001b[0m\u001b[1;33m\u001b[0m\u001b[0m\n\u001b[0;32m    386\u001b[0m         \u001b[1;32mif\u001b[0m \u001b[0mself\u001b[0m\u001b[1;33m.\u001b[0m\u001b[0m_pin_memory\u001b[0m\u001b[1;33m:\u001b[0m\u001b[1;33m\u001b[0m\u001b[1;33m\u001b[0m\u001b[0m\n",
      "\u001b[1;32m~\\Anaconda3\\lib\\site-packages\\torch\\utils\\data\\dataloader.py\u001b[0m in \u001b[0;36m_next_index\u001b[1;34m(self)\u001b[0m\n\u001b[0;32m    337\u001b[0m \u001b[1;33m\u001b[0m\u001b[0m\n\u001b[0;32m    338\u001b[0m     \u001b[1;32mdef\u001b[0m \u001b[0m_next_index\u001b[0m\u001b[1;33m(\u001b[0m\u001b[0mself\u001b[0m\u001b[1;33m)\u001b[0m\u001b[1;33m:\u001b[0m\u001b[1;33m\u001b[0m\u001b[1;33m\u001b[0m\u001b[0m\n\u001b[1;32m--> 339\u001b[1;33m         \u001b[1;32mreturn\u001b[0m \u001b[0mnext\u001b[0m\u001b[1;33m(\u001b[0m\u001b[0mself\u001b[0m\u001b[1;33m.\u001b[0m\u001b[0m_sampler_iter\u001b[0m\u001b[1;33m)\u001b[0m  \u001b[1;31m# may raise StopIteration\u001b[0m\u001b[1;33m\u001b[0m\u001b[1;33m\u001b[0m\u001b[0m\n\u001b[0m\u001b[0;32m    340\u001b[0m \u001b[1;33m\u001b[0m\u001b[0m\n\u001b[0;32m    341\u001b[0m     \u001b[1;32mdef\u001b[0m \u001b[0m_next_data\u001b[0m\u001b[1;33m(\u001b[0m\u001b[0mself\u001b[0m\u001b[1;33m)\u001b[0m\u001b[1;33m:\u001b[0m\u001b[1;33m\u001b[0m\u001b[1;33m\u001b[0m\u001b[0m\n",
      "\u001b[1;31mStopIteration\u001b[0m: "
     ]
    }
   ],
   "source": [
    "torch.set_printoptions(profile=\"full\")\n",
    "def plot_generated_stroke_over_sequence(sequence, stroke=None, batch_number=0):\n",
    "    print(sequence.shape, stroke)\n",
    "    \n",
    "    if stroke is not None:\n",
    "        sequence = torch.cat([sequence.detach().cpu(), stroke.unsqueeze(0)], dim=0)\n",
    "        \n",
    "    sequence = sequence[:,batch_number,:].cpu().numpy()\n",
    "    sequence = sequence[sequence[:, 4] < 1]\n",
    "    # print(sequence)\n",
    "    x_sample = 100*np.cumsum(sequence[:,0], 0)\n",
    "    y_sample = 100*np.cumsum(sequence[:,1], 0)\n",
    "    p1 = np.array(sequence[:,2])\n",
    "    p2 = np.array(sequence[:,3])\n",
    "    p3 = np.array(sequence[:,4])\n",
    "    \n",
    "    sequence = np.stack([x_sample,y_sample,p1,p2,p3], axis=1)\n",
    "    strokes = np.split(sequence, np.where(sequence[:,2]>0)[0]+1)\n",
    "    \n",
    "    fig = plt.figure()\n",
    "    for i in range(len(strokes)):\n",
    "        s=strokes[i]\n",
    "        cl = 'black'\n",
    "        if i == len(strokes) - 1:\n",
    "            cl='red'\n",
    "        plt.plot(s[:,0],-s[:,1], color=cl)\n",
    "        \n",
    "    return fig\n",
    "\n",
    "import shutil\n",
    "folder = 'img_g'\n",
    "\n",
    "if os.path.exists(folder):\n",
    "    shutil.rmtree(folder)\n",
    "os.mkdir(folder)\n",
    "\n",
    "_, b = next(enumerate(dwg_dataset.train_loader))\n",
    "input_seq, mask = b\n",
    "input_seq = input_seq.to(trainer.device).transpose(0,1)\n",
    "\n",
    "for i in range(1, trainer.max_seq_length):\n",
    "    \n",
    "    # print(i)\n",
    "    seq_so_far = torch.zeros_like(input_seq)\n",
    "    seq_so_far[:i+1,:,:] = input_seq[:i+1,:,: ]\n",
    "\n",
    "    if seq_so_far[i,0,4]==1:\n",
    "        continue\n",
    "\n",
    "    #print(i, seq_so_far[:10])\n",
    "    #print(seq_so_far.shape)\n",
    "    z, _, _ = trainer.encoder(seq_so_far)\n",
    "\n",
    "    # expand z in order it to be able to concatenate with inputs\n",
    "    z_stack = torch.stack([z] * (trainer.max_seq_length))\n",
    "\n",
    "    # inputs is the concatination of z and batch_inputs:\n",
    "    inputs = torch.cat([seq_so_far, z_stack], 2)\n",
    "\n",
    "    pi, mu_x, mu_y, sigma_x, sigma_y, rho_xy, q, _, _ = trainer.decoder(inputs, z)\n",
    "\n",
    "    generated_stroke = None #trainer.sample_next_state(pi, q, mu_x, mu_y, sigma_x, sigma_y, rho_xy)\n",
    "    \n",
    "    #clear_output()\n",
    "    graph = plot_generated_stroke_over_sequence(seq_so_far, generated_stroke, 0)\n",
    "    #display(graph)\n",
    "    canvas = plt.get_current_fig_manager().canvas\n",
    "    canvas.draw()\n",
    "    pil_image = PIL.Image.frombytes('RGB', canvas.get_width_height(),\n",
    "                 canvas.tostring_rgb())\n",
    "    name = folder + '/gen_frame'+'{0:04d}'.format(i)+'.png'\n",
    "    pil_image.save(name,\"PNG\")\n",
    "    plt.close(\"all\")\n",
    "\n",
    "    \n",
    "import IPython\n",
    "from IPython.display import Image\n",
    "\n",
    "img_gif = create_gif_from_frames(folder)\n",
    "Image(filename=img_gif)"
   ]
  },
  {
   "cell_type": "code",
   "execution_count": null,
   "metadata": {},
   "outputs": [],
   "source": []
  },
  {
   "cell_type": "code",
   "execution_count": null,
   "metadata": {},
   "outputs": [],
   "source": []
  },
  {
   "cell_type": "code",
   "execution_count": null,
   "metadata": {},
   "outputs": [],
   "source": []
  }
 ],
 "metadata": {
  "kernelspec": {
   "display_name": "Python 3",
   "language": "python",
   "name": "python3"
  },
  "language_info": {
   "codemirror_mode": {
    "name": "ipython",
    "version": 3
   },
   "file_extension": ".py",
   "mimetype": "text/x-python",
   "name": "python",
   "nbconvert_exporter": "python",
   "pygments_lexer": "ipython3",
   "version": "3.7.6"
  }
 },
 "nbformat": 4,
 "nbformat_minor": 4
}
