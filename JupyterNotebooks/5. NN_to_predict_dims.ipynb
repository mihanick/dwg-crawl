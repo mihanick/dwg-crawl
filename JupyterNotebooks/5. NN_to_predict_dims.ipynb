{
 "cells": [
  {
   "cell_type": "markdown",
   "metadata": {},
   "source": [
    "# Idea\n",
    "The idea is that we predict rotated linear dimension position from lines and text from the drawing.\n",
    "\n",
    "# Thoughts\n",
    "Basic logic is we split dataset to input lines or texts positions StartPoint, EndPoint, Position XYZ and predict dimension extension line poistion XLine1Point, XLine2Point XYZ.\n",
    "\n",
    "We going to group samples by FileId. That is each sample will contain variable length data (attributes of variable number of  lines and text) and variable output data (variable number of dimensions).\n",
    "\n",
    "I intend to [use RNN for it](https://medium.com/dair-ai/building-rnns-is-fun-with-pytorch-and-google-colab-3903ea9a3a79)"
   ]
  },
  {
   "cell_type": "code",
   "execution_count": 1,
   "metadata": {},
   "outputs": [],
   "source": [
    "import pandas as pd\n",
    "import numpy as np\n",
    "\n",
    "%matplotlib inline"
   ]
  },
  {
   "cell_type": "code",
   "execution_count": 2,
   "metadata": {},
   "outputs": [
    {
     "name": "stderr",
     "output_type": "stream",
     "text": [
      "/home/mk/anaconda3/lib/python3.7/site-packages/torch/cuda/__init__.py:52: UserWarning: CUDA initialization: Found no NVIDIA driver on your system. Please check that you have an NVIDIA GPU and installed a driver from http://www.nvidia.com/Download/index.aspx (Triggered internally at  /pytorch/c10/cuda/CUDAFunctions.cpp:100.)\n",
      "  return torch._C._cuda_getDeviceCount() > 0\n"
     ]
    },
    {
     "data": {
      "text/plain": [
       "device(type='cpu')"
      ]
     },
     "execution_count": 2,
     "metadata": {},
     "output_type": "execute_result"
    }
   ],
   "source": [
    "# https://blog.floydhub.com/a-beginners-guide-on-recurrent-neural-networks-with-pytorch/\n",
    "import torch\n",
    "from torch import nn\n",
    "from torch.utils.data import Dataset, SubsetRandomSampler\n",
    "from torch.nn import functional as F\n",
    "\n",
    "device = torch.device(\"cpu\")\n",
    "if torch.cuda.is_available():\n",
    "    device = torch.device(\"cuda\")\n",
    "    \n",
    "device"
   ]
  },
  {
   "cell_type": "markdown",
   "metadata": {},
   "source": [
    "# Dataset implementation"
   ]
  },
  {
   "cell_type": "code",
   "execution_count": 3,
   "metadata": {},
   "outputs": [],
   "source": [
    "from dataset import DwgDataset\n",
    "batch_size = 2\n",
    "\n",
    "dwg_dataset = DwgDataset(pickle_file = 'test_dataset.pickle', batch_size = batch_size)\n",
    "\n",
    "train_loader = dwg_dataset.train_loader\n",
    "val_loader   = dwg_dataset.val_loader\n",
    "test_loader  = dwg_dataset.test_loader\n",
    "\n",
    "ent_features = dwg_dataset.entities.ent_features\n",
    "dim_features = dwg_dataset.entities.dim_features"
   ]
  },
  {
   "cell_type": "code",
   "execution_count": 4,
   "metadata": {},
   "outputs": [],
   "source": [
    "for c,d in dwg_dataset.entities:\n",
    "    # print(c.shape, d.shape)\n",
    "    # make sure we have every training sample not empty\n",
    "    assert( c.shape[0] != 0)    "
   ]
  },
  {
   "cell_type": "code",
   "execution_count": 5,
   "metadata": {},
   "outputs": [
    {
     "name": "stdout",
     "output_type": "stream",
     "text": [
      "2 2\n",
      "torch.Size([990, 9])\n",
      "torch.Size([603, 9])\n",
      "torch.Size([1, 6])\n",
      "torch.Size([259, 6])\n"
     ]
    }
   ],
   "source": [
    "(a,b) = next(iter(train_loader))\n",
    "print(len(a),len(b))\n",
    "for (x,y) in iter(train_loader):\n",
    "    for xx in x:\n",
    "        print(xx.shape)\n",
    "        pass\n",
    "    for yy in y:\n",
    "        print(yy.shape)\n",
    "    # print(a.shape,b.shape)\n",
    "    break"
   ]
  },
  {
   "cell_type": "markdown",
   "metadata": {},
   "source": [
    "# Model and training\n"
   ]
  },
  {
   "cell_type": "code",
   "execution_count": 6,
   "metadata": {},
   "outputs": [],
   "source": [
    "from model import RnnDecoder, RnnEncoder\n",
    "rnn_encoder = RnnEncoder(ent_features, 1024).to(device)\n",
    "rnn_decoder = RnnDecoder(1024, dim_features).to(device)"
   ]
  },
  {
   "cell_type": "code",
   "execution_count": 7,
   "metadata": {},
   "outputs": [
    {
     "name": "stdout",
     "output_type": "stream",
     "text": [
      "inputs x: 2 x torch.Size([1434, 9]) y: 2 x torch.Size([73, 6])\n",
      "learned shape: torch.Size([2, 1024])\n",
      "outs shape: torch.Size([2, 1]) outs_value tensor([[657.],\n",
      "        [144.]], grad_fn=<CopySlices>)\n",
      "decoded: 2 x torch.Size([42, 6])\n"
     ]
    }
   ],
   "source": [
    "(x,y) = next(iter(train_loader))\n",
    "print('inputs','x:',len(x),'x',x[0].shape,'y:',len(y),'x',y[0].shape)\n",
    "outs_numbers, learned = rnn_encoder(x)\n",
    "print('learned shape:', learned.shape)\n",
    "print(\"outs shape:\", outs_numbers.shape, 'outs_value', outs_numbers)\n",
    "# make sure something is passed\n",
    "outs_numbers[0] = 42\n",
    "decoded = rnn_decoder(outs_numbers, learned)\n",
    "print('decoded:',len(decoded),'x', decoded[0].shape)"
   ]
  },
  {
   "cell_type": "code",
   "execution_count": 8,
   "metadata": {},
   "outputs": [],
   "source": [
    "%matplotlib inline\n",
    "from train import train_model, plot_history"
   ]
  },
  {
   "cell_type": "code",
   "execution_count": 9,
   "metadata": {},
   "outputs": [
    {
     "name": "stdout",
     "output_type": "stream",
     "text": [
      "[0-0 @ 0.4 sec] Log10 Loss: 6.542550 Train err: 100.0%\n",
      "[0-1 @ 3.6 sec] Log10 Loss: 6.418828 Train err: 100.0%\n",
      "[0-2 @ 5.2 sec] Log10 Loss: 6.180330 Train err: 100.0%\n",
      "[0-3 @ 16.8 sec] Log10 Loss: 3.699234 Train err: 100.0%\n",
      "[0-4 @ 19.3 sec] Log10 Loss: 3.776604 Train err: 100.0%\n",
      "[0-5 @ 19.9 sec] Log10 Loss: 2.896722 Train err: 100.0%\n",
      "[0-6 @ 21.9 sec] Log10 Loss: 5.930169 Train err: 100.0%\n",
      "[0-7 @ 24.7 sec] Log10 Loss: 5.931946 Train err: 100.0%\n",
      "[0-8 @ 25.7 sec] Log10 Loss: 5.968882 Train err: 100.0%\n",
      "[0-9 @ 26.7 sec] Log10 Loss: 2.930624 Train err: 100.0%\n",
      "[0-10 @ 27.1 sec] Log10 Loss: 0.689089 Train err: 100.0%\n",
      "Epoch validation accuracy: 0.000\n",
      "[1-0 @ 43.1 sec] Log10 Loss: 3.734160 Train err: 100.0%\n",
      "[1-1 @ 43.8 sec] Log10 Loss: 6.180071 Train err: 100.0%\n",
      "[1-2 @ 46.6 sec] Log10 Loss: 6.550810 Train err: 100.0%\n",
      "[1-3 @ 49.3 sec] Log10 Loss: 1.601631 Train err: 100.0%\n",
      "[1-4 @ 50.4 sec] Log10 Loss: 5.888942 Train err: 100.0%\n",
      "[1-5 @ 54.0 sec] Log10 Loss: 6.285167 Train err: 100.0%\n",
      "[1-6 @ 55.8 sec] Log10 Loss: 5.968686 Train err: 100.0%\n",
      "[1-7 @ 56.1 sec] Log10 Loss: 5.850851 Train err: 100.0%\n",
      "[1-8 @ 58.2 sec] Log10 Loss: 5.930614 Train err: 100.0%\n",
      "[1-9 @ 59.8 sec] Log10 Loss: 3.833864 Train err: 100.0%\n",
      "[1-10 @ 60.3 sec] Log10 Loss: 0.689089 Train err: 100.0%\n",
      "Epoch validation accuracy: 0.000\n",
      "[2-0 @ 64.6 sec] Log10 Loss: 3.776579 Train err: 100.0%\n",
      "[2-1 @ 65.6 sec] Log10 Loss: 2.632215 Train err: 100.0%\n",
      "[2-2 @ 77.4 sec] Log10 Loss: 5.891733 Train err: 100.0%\n",
      "[2-3 @ 78.2 sec] Log10 Loss: 6.540849 Train err: 100.0%\n",
      "[2-4 @ 79.8 sec] Log10 Loss: 6.180080 Train err: 100.0%\n",
      "[2-5 @ 80.5 sec] Log10 Loss: 5.930153 Train err: 100.0%\n",
      "[2-6 @ 84.9 sec] Log10 Loss: 6.285195 Train err: 100.0%\n",
      "[2-7 @ 85.8 sec] Log10 Loss: 5.969079 Train err: 100.0%\n",
      "[2-8 @ 86.0 sec] Log10 Loss: 5.850851 Train err: 100.0%\n",
      "[2-9 @ 87.5 sec] Log10 Loss: 2.896907 Train err: 100.0%\n",
      "[2-10 @ 89.9 sec] Log10 Loss: 4.906372 Train err: 100.0%\n",
      "Epoch validation accuracy: 0.000\n",
      "[3-0 @ 95.5 sec] Log10 Loss: 6.418828 Train err: 100.0%\n",
      "[3-1 @ 97.0 sec] Log10 Loss: 5.971463 Train err: 100.0%\n",
      "[3-2 @ 98.1 sec] Log10 Loss: 5.888942 Train err: 100.0%\n",
      "[3-3 @ 98.8 sec] Log10 Loss: 5.930367 Train err: 100.0%\n",
      "[3-4 @ 101.6 sec] Log10 Loss: 1.601278 Train err: 100.0%\n",
      "[3-5 @ 114.6 sec] Log10 Loss: 3.771268 Train err: 100.0%\n",
      "[3-6 @ 115.2 sec] Log10 Loss: 6.180313 Train err: 100.0%\n",
      "[3-7 @ 115.7 sec] Log10 Loss: 6.540947 Train err: 100.0%\n",
      "[3-8 @ 118.7 sec] Log10 Loss: 4.906399 Train err: 100.0%\n",
      "[3-9 @ 119.3 sec] Log10 Loss: 4.134772 Train err: 100.0%\n",
      "[3-10 @ 119.6 sec] Log10 Loss: 0.689272 Train err: 100.0%\n",
      "Epoch validation accuracy: 0.000\n",
      "[4-0 @ 123.0 sec] Log10 Loss: 6.211155 Train err: 100.0%\n",
      "[4-1 @ 127.1 sec] Log10 Loss: 6.286334 Train err: 100.0%\n",
      "[4-2 @ 127.6 sec] Log10 Loss: 3.212531 Train err: 100.0%\n",
      "[4-3 @ 129.6 sec] Log10 Loss: 1.601515 Train err: 100.0%\n",
      "[4-4 @ 131.4 sec] Log10 Loss: 2.960186 Train err: 100.0%\n",
      "[4-5 @ 132.0 sec] Log10 Loss: 5.937050 Train err: 100.0%\n",
      "[4-6 @ 133.8 sec] Log10 Loss: 5.888942 Train err: 100.0%\n",
      "[4-7 @ 134.2 sec] Log10 Loss: 6.180071 Train err: 100.0%\n",
      "[4-8 @ 136.7 sec] Log10 Loss: 4.908650 Train err: 100.0%\n",
      "[4-9 @ 150.2 sec] Log10 Loss: 6.541473 Train err: 100.0%\n",
      "[4-10 @ 150.9 sec] Log10 Loss: 0.690034 Train err: 100.0%\n",
      "Epoch validation accuracy: 0.000\n"
     ]
    },
    {
     "data": {
      "image/png": "[encoded data removed]",
      "text/plain": [
       "<Figure size 432x288 with 1 Axes>"
      ]
     },
     "metadata": {
      "needs_background": "light"
     },
     "output_type": "display_data"
    }
   ],
   "source": [
    "lr = 3e-4\n",
    "epochs = 5\n",
    "decoder_optimizer = torch.optim.Adam(rnn_decoder.parameters(), lr = lr)\n",
    "encoder_optimizer = torch.optim.Adam(rnn_encoder.parameters(), lr = lr)\n",
    "from chamfer_distance_loss import MyChamferDistance\n",
    "loss = MyChamferDistance()\n",
    "\n",
    "loss_history, train_history, val_history = train_model(\n",
    "    encoder = rnn_encoder, \n",
    "    decoder = rnn_decoder, \n",
    "    train_loader = train_loader,\n",
    "    val_loader = val_loader,\n",
    "    loss = loss,\n",
    "    decoder_opt = decoder_optimizer,\n",
    "    encoder_opt = encoder_optimizer,\n",
    "    epochs = epochs)\n",
    "\n",
    "plot_history(loss_history, train_history, val_history)"
   ]
  },
  {
   "cell_type": "code",
   "execution_count": 10,
   "metadata": {},
   "outputs": [
    {
     "name": "stdout",
     "output_type": "stream",
     "text": [
      "yyy [100, 3]\n",
      "prd [9, 1032]\n",
      "loss tensor([80943.5625], grad_fn=<AddBackward0>)\n",
      "acc [0, 0]\n",
      "1 ------------------------------\n",
      "yyy [0, 0]\n",
      "prd [468, 618]\n",
      "loss tensor([9.4686], grad_fn=<AddBackward0>)\n",
      "acc [0, 0]\n",
      "2 ------------------------------\n",
      "yyy [0]\n",
      "prd [55]\n",
      "loss tensor([4.7155], grad_fn=<AddBackward0>)\n",
      "acc [0]\n",
      "3 ------------------------------\n"
     ]
    }
   ],
   "source": [
    "from train import calculate_accuracy\n",
    "i = 0\n",
    "for (x, y) in iter(val_loader):\n",
    "    outs, learned = rnn_encoder(x)\n",
    "    decoded = rnn_decoder(outs, learned)\n",
    "    \n",
    "    yyy = []\n",
    "    for yy in y:\n",
    "        yyy.append(yy.shape[0])\n",
    "    ppp = []\n",
    "    for dd in decoded:\n",
    "        ppp.append(dd.shape[0])\n",
    "    \n",
    "    print('yyy', yyy)\n",
    "    print('prd', ppp)\n",
    "    \n",
    "    lv = loss(decoded, y)\n",
    "    print ('loss', lv)\n",
    "\n",
    "    acc = calculate_accuracy(decoded, y)\n",
    "    print('acc', acc)\n",
    "\n",
    "    i += 1\n",
    "    print(i, '------------------------------')"
   ]
  },
  {
   "cell_type": "code",
   "execution_count": 11,
   "metadata": {},
   "outputs": [
    {
     "name": "stdout",
     "output_type": "stream",
     "text": [
      "              0             1             2             3             4  \\\n",
      "0  46846.722656 -30300.000000 -4.108182e-18  -4841.409668 -3.030000e+04   \n",
      "1  34800.000000   3853.695068 -1.170912e-17  34800.000000 -3.378169e+04   \n",
      "2  46846.722656      0.000003  8.563584e-17  -4841.409668 -9.921496e-08   \n",
      "3   9900.000000 -21900.000000  1.835710e-16  -4841.409668 -2.190000e+04   \n",
      "4  46846.722656 -23100.000000  1.835834e-16  19200.000000 -2.310000e+04   \n",
      "\n",
      "              5    6    7    8  \n",
      "0 -1.169877e-17  0.0  0.0  0.0  \n",
      "1  9.589572e-17  0.0  0.0  0.0  \n",
      "2 -1.169877e-17  0.0  0.0  0.0  \n",
      "3 -1.169877e-17  0.0  0.0  0.0  \n",
      "4  1.835834e-16  0.0  0.0  0.0  \n",
      "0\n",
      "Empty DataFrame\n",
      "Columns: [0, 1, 2, 3, 4, 5]\n",
      "Index: []\n"
     ]
    },
    {
     "ename": "NameError",
     "evalue": "name 'prediction' is not defined",
     "output_type": "error",
     "traceback": [
      "\u001b[0;31m---------------------------------------------------------------------------\u001b[0m",
      "\u001b[0;31mNameError\u001b[0m                                 Traceback (most recent call last)",
      "\u001b[0;32m<ipython-input-11-cd0b75fb78bd>\u001b[0m in \u001b[0;36m<module>\u001b[0;34m\u001b[0m\n\u001b[1;32m      4\u001b[0m \u001b[0mprint\u001b[0m\u001b[0;34m(\u001b[0m\u001b[0mlen\u001b[0m\u001b[0;34m(\u001b[0m\u001b[0myy\u001b[0m\u001b[0;34m)\u001b[0m\u001b[0;34m)\u001b[0m\u001b[0;34m\u001b[0m\u001b[0;34m\u001b[0m\u001b[0m\n\u001b[1;32m      5\u001b[0m \u001b[0mprint\u001b[0m\u001b[0;34m(\u001b[0m\u001b[0myy\u001b[0m\u001b[0;34m.\u001b[0m\u001b[0mhead\u001b[0m\u001b[0;34m(\u001b[0m\u001b[0;34m)\u001b[0m\u001b[0;34m)\u001b[0m\u001b[0;34m\u001b[0m\u001b[0;34m\u001b[0m\u001b[0m\n\u001b[0;32m----> 6\u001b[0;31m \u001b[0mpp\u001b[0m \u001b[0;34m=\u001b[0m \u001b[0mpd\u001b[0m\u001b[0;34m.\u001b[0m\u001b[0mDataFrame\u001b[0m\u001b[0;34m(\u001b[0m\u001b[0mprediction\u001b[0m\u001b[0;34m[\u001b[0m\u001b[0;36m0\u001b[0m\u001b[0;34m]\u001b[0m\u001b[0;34m.\u001b[0m\u001b[0mcpu\u001b[0m\u001b[0;34m(\u001b[0m\u001b[0;34m)\u001b[0m\u001b[0;34m.\u001b[0m\u001b[0mdetach\u001b[0m\u001b[0;34m(\u001b[0m\u001b[0;34m)\u001b[0m\u001b[0;34m.\u001b[0m\u001b[0mnumpy\u001b[0m\u001b[0;34m(\u001b[0m\u001b[0;34m)\u001b[0m\u001b[0;34m)\u001b[0m\u001b[0;34m\u001b[0m\u001b[0;34m\u001b[0m\u001b[0m\n\u001b[0m\u001b[1;32m      7\u001b[0m \u001b[0mprint\u001b[0m\u001b[0;34m(\u001b[0m\u001b[0mlen\u001b[0m\u001b[0;34m(\u001b[0m\u001b[0mpp\u001b[0m\u001b[0;34m)\u001b[0m\u001b[0;34m)\u001b[0m\u001b[0;34m\u001b[0m\u001b[0;34m\u001b[0m\u001b[0m\n\u001b[1;32m      8\u001b[0m \u001b[0mprint\u001b[0m\u001b[0;34m(\u001b[0m\u001b[0mpp\u001b[0m\u001b[0;34m.\u001b[0m\u001b[0mhead\u001b[0m\u001b[0;34m(\u001b[0m\u001b[0;34m)\u001b[0m\u001b[0;34m)\u001b[0m\u001b[0;34m\u001b[0m\u001b[0;34m\u001b[0m\u001b[0m\n",
      "\u001b[0;31mNameError\u001b[0m: name 'prediction' is not defined"
     ]
    }
   ],
   "source": [
    "ii = pd.DataFrame(x[0].cpu().detach().numpy())\n",
    "print(ii.head())\n",
    "yy = pd.DataFrame(y[0].cpu().detach().numpy())\n",
    "print(len(yy))\n",
    "print(yy.head())\n",
    "pp = pd.DataFrame(prediction[0].cpu().detach().numpy())\n",
    "print(len(pp))\n",
    "print(pp.head())"
   ]
  },
  {
   "cell_type": "code",
   "execution_count": 12,
   "metadata": {},
   "outputs": [
    {
     "ename": "TypeError",
     "evalue": "unsupported operand type(s) for /: 'list' and 'int'",
     "output_type": "error",
     "traceback": [
      "\u001b[0;31m---------------------------------------------------------------------------\u001b[0m",
      "\u001b[0;31mTypeError\u001b[0m                                 Traceback (most recent call last)",
      "\u001b[0;32m<ipython-input-12-5f816c49f8a1>\u001b[0m in \u001b[0;36m<module>\u001b[0;34m\u001b[0m\n\u001b[1;32m     13\u001b[0m         \u001b[0mtest_accuracies\u001b[0m\u001b[0;34m.\u001b[0m\u001b[0mappend\u001b[0m\u001b[0;34m(\u001b[0m\u001b[0maccuracy\u001b[0m\u001b[0;34m)\u001b[0m\u001b[0;34m\u001b[0m\u001b[0;34m\u001b[0m\u001b[0m\n\u001b[1;32m     14\u001b[0m \u001b[0;34m\u001b[0m\u001b[0m\n\u001b[0;32m---> 15\u001b[0;31m \u001b[0mmean_test_accuracy\u001b[0m \u001b[0;34m=\u001b[0m \u001b[0mnp\u001b[0m\u001b[0;34m.\u001b[0m\u001b[0mmean\u001b[0m\u001b[0;34m(\u001b[0m\u001b[0mtest_accuracies\u001b[0m\u001b[0;34m)\u001b[0m\u001b[0;34m\u001b[0m\u001b[0;34m\u001b[0m\u001b[0m\n\u001b[0m\u001b[1;32m     16\u001b[0m \u001b[0mprint\u001b[0m\u001b[0;34m(\u001b[0m\u001b[0;34m'Accuracy on testing: {0:2.3f}'\u001b[0m\u001b[0;34m.\u001b[0m\u001b[0mformat\u001b[0m\u001b[0;34m(\u001b[0m\u001b[0mmean_test_accuracy\u001b[0m\u001b[0;34m)\u001b[0m\u001b[0;34m)\u001b[0m\u001b[0;34m\u001b[0m\u001b[0;34m\u001b[0m\u001b[0m\n",
      "\u001b[0;32m<__array_function__ internals>\u001b[0m in \u001b[0;36mmean\u001b[0;34m(*args, **kwargs)\u001b[0m\n",
      "\u001b[0;32m~/anaconda3/lib/python3.7/site-packages/numpy/core/fromnumeric.py\u001b[0m in \u001b[0;36mmean\u001b[0;34m(a, axis, dtype, out, keepdims)\u001b[0m\n\u001b[1;32m   3333\u001b[0m \u001b[0;34m\u001b[0m\u001b[0m\n\u001b[1;32m   3334\u001b[0m     return _methods._mean(a, axis=axis, dtype=dtype,\n\u001b[0;32m-> 3335\u001b[0;31m                           out=out, **kwargs)\n\u001b[0m\u001b[1;32m   3336\u001b[0m \u001b[0;34m\u001b[0m\u001b[0m\n\u001b[1;32m   3337\u001b[0m \u001b[0;34m\u001b[0m\u001b[0m\n",
      "\u001b[0;32m~/anaconda3/lib/python3.7/site-packages/numpy/core/_methods.py\u001b[0m in \u001b[0;36m_mean\u001b[0;34m(a, axis, dtype, out, keepdims)\u001b[0m\n\u001b[1;32m    161\u001b[0m             \u001b[0mret\u001b[0m \u001b[0;34m=\u001b[0m \u001b[0mret\u001b[0m\u001b[0;34m.\u001b[0m\u001b[0mdtype\u001b[0m\u001b[0;34m.\u001b[0m\u001b[0mtype\u001b[0m\u001b[0;34m(\u001b[0m\u001b[0mret\u001b[0m \u001b[0;34m/\u001b[0m \u001b[0mrcount\u001b[0m\u001b[0;34m)\u001b[0m\u001b[0;34m\u001b[0m\u001b[0;34m\u001b[0m\u001b[0m\n\u001b[1;32m    162\u001b[0m     \u001b[0;32melse\u001b[0m\u001b[0;34m:\u001b[0m\u001b[0;34m\u001b[0m\u001b[0;34m\u001b[0m\u001b[0m\n\u001b[0;32m--> 163\u001b[0;31m         \u001b[0mret\u001b[0m \u001b[0;34m=\u001b[0m \u001b[0mret\u001b[0m \u001b[0;34m/\u001b[0m \u001b[0mrcount\u001b[0m\u001b[0;34m\u001b[0m\u001b[0;34m\u001b[0m\u001b[0m\n\u001b[0m\u001b[1;32m    164\u001b[0m \u001b[0;34m\u001b[0m\u001b[0m\n\u001b[1;32m    165\u001b[0m     \u001b[0;32mreturn\u001b[0m \u001b[0mret\u001b[0m\u001b[0;34m\u001b[0m\u001b[0;34m\u001b[0m\u001b[0m\n",
      "\u001b[0;31mTypeError\u001b[0m: unsupported operand type(s) for /: 'list' and 'int'"
     ]
    }
   ],
   "source": [
    "from train import calculate_accuracy\n",
    "torch.cuda.empty_cache()\n",
    "\n",
    "rnn_encoder.eval()\n",
    "rnn_decoder.eval()\n",
    "\n",
    "test_accuracies = []\n",
    "for (x,y) in test_loader:\n",
    "    with torch.no_grad():\n",
    "        out, hidden = rnn_encoder(x)\n",
    "        prediction = rnn_decoder(out, hidden)\n",
    "        accuracy = calculate_accuracy(prediction, y)\n",
    "        test_accuracies.append(accuracy)\n",
    "        \n",
    "mean_test_accuracy = np.mean(test_accuracies)\n",
    "print('Accuracy on testing: {0:2.3f}'.format(mean_test_accuracy))"
   ]
  },
  {
   "cell_type": "code",
   "execution_count": null,
   "metadata": {},
   "outputs": [],
   "source": []
  }
 ],
 "metadata": {
  "kernelspec": {
   "display_name": "Python 3",
   "language": "python",
   "name": "python3"
  },
  "language_info": {
   "codemirror_mode": {
    "name": "ipython",
    "version": 3
   },
   "file_extension": ".py",
   "mimetype": "text/x-python",
   "name": "python",
   "nbconvert_exporter": "python",
   "pygments_lexer": "ipython3",
   "version": "3.7.6"
  }
 },
 "nbformat": 4,
 "nbformat_minor": 4
}
