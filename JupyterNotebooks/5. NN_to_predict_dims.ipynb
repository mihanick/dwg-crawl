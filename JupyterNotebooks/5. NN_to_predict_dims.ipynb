{
 "cells": [
  {
   "cell_type": "markdown",
   "metadata": {},
   "source": [
    "# Idea\n",
    "The idea is that we predict rotated linear dimension position from lines and text from the drawing.\n",
    "\n",
    "# Thoughts\n",
    "Basic logic is we split dataset to input lines or texts positions StartPoint, EndPoint, Position XYZ and predict dimension extension line poistion XLine1Point, XLine2Point XYZ.\n",
    "\n",
    "We going to group samples by FileId. That is each sample will contain variable length data (attributes of variable number of  lines and text) and variable output data (variable number of dimensions).\n",
    "\n",
    "I intend to [use RNN for it](https://medium.com/dair-ai/building-rnns-is-fun-with-pytorch-and-google-colab-3903ea9a3a79)"
   ]
  },
  {
   "cell_type": "code",
   "execution_count": 1,
   "metadata": {},
   "outputs": [],
   "source": [
    "import pandas as pd\n",
    "import numpy as np\n",
    "\n",
    "%matplotlib inline"
   ]
  },
  {
   "cell_type": "code",
   "execution_count": 2,
   "metadata": {},
   "outputs": [
    {
     "data": {
      "text/plain": [
       "device(type='cuda')"
      ]
     },
     "execution_count": 2,
     "metadata": {},
     "output_type": "execute_result"
    }
   ],
   "source": [
    "# https://blog.floydhub.com/a-beginners-guide-on-recurrent-neural-networks-with-pytorch/\n",
    "import torch\n",
    "from torch import nn\n",
    "from torch.utils.data import Dataset, SubsetRandomSampler\n",
    "from torch.nn import functional as F\n",
    "\n",
    "\n",
    "device = torch.device(\"cpu\")\n",
    "if torch.cuda.is_available():\n",
    "    device = torch.device(\"cuda\")\n",
    "    torch.cuda.empty_cache()\n",
    "    \n",
    "device"
   ]
  },
  {
   "cell_type": "markdown",
   "metadata": {},
   "source": [
    "# Dataset implementation"
   ]
  },
  {
   "cell_type": "code",
   "execution_count": 3,
   "metadata": {},
   "outputs": [],
   "source": [
    "from dataset import DwgDataset\n",
    "batch_size = 1\n",
    "\n",
    "dwg_dataset = DwgDataset(pickle_file = 'test_dataset.pickle', batch_size = batch_size)\n",
    "\n",
    "train_loader = dwg_dataset.train_loader\n",
    "val_loader   = dwg_dataset.val_loader\n",
    "test_loader  = dwg_dataset.test_loader\n",
    "\n",
    "ent_features = dwg_dataset.entities.ent_features\n",
    "dim_features = dwg_dataset.entities.dim_features"
   ]
  },
  {
   "cell_type": "code",
   "execution_count": 4,
   "metadata": {},
   "outputs": [],
   "source": [
    "for c,d in dwg_dataset.entities:\n",
    "    # print(c.shape, d.shape)\n",
    "    # make sure we have every training sample not empty\n",
    "    assert( c.shape[0] != 0)    "
   ]
  },
  {
   "cell_type": "code",
   "execution_count": 5,
   "metadata": {},
   "outputs": [
    {
     "name": "stdout",
     "output_type": "stream",
     "text": [
      "1 1\n",
      "torch.Size([1617, 9])\n",
      "torch.Size([0, 6])\n"
     ]
    }
   ],
   "source": [
    "(a,b) = next(iter(train_loader))\n",
    "print(len(a),len(b))\n",
    "for (x,y) in iter(train_loader):\n",
    "    for xx in x:\n",
    "        print(xx.shape)\n",
    "        pass\n",
    "    for yy in y:\n",
    "        print(yy.shape)\n",
    "    # print(a.shape,b.shape)\n",
    "    break"
   ]
  },
  {
   "cell_type": "markdown",
   "metadata": {},
   "source": [
    "# Model and training\n"
   ]
  },
  {
   "cell_type": "code",
   "execution_count": 6,
   "metadata": {},
   "outputs": [],
   "source": [
    "from model import RnnDecoder, RnnEncoder\n",
    "rnn_encoder = RnnEncoder(ent_features, 1024, enforced_device = device).to(device)\n",
    "rnn_decoder = RnnDecoder(1024, dim_features, enforced_device = device).to(device)"
   ]
  },
  {
   "cell_type": "code",
   "execution_count": 7,
   "metadata": {},
   "outputs": [
    {
     "name": "stdout",
     "output_type": "stream",
     "text": [
      "inputs x: 1 x torch.Size([172, 9]) y: 1 x torch.Size([55, 6])\n",
      "learned shape: torch.Size([1, 1024])\n",
      "outs shape: torch.Size([1, 1]) outs_value tensor([[0.]], device='cuda:0', grad_fn=<CopySlices>)\n",
      "decoded: 1 x torch.Size([42, 6])\n"
     ]
    }
   ],
   "source": [
    "(x,y) = next(iter(train_loader))\n",
    "print('inputs','x:',len(x),'x',x[0].shape,'y:',len(y),'x',y[0].shape)\n",
    "outs_numbers, learned = rnn_encoder(x)\n",
    "print('learned shape:', learned.shape)\n",
    "print(\"outs shape:\", outs_numbers.shape, 'outs_value', outs_numbers)\n",
    "# make sure something is passed\n",
    "outs_numbers[0] = 42\n",
    "decoded = rnn_decoder(outs_numbers, learned)\n",
    "print('decoded:',len(decoded),'x', decoded[0].shape)"
   ]
  },
  {
   "cell_type": "code",
   "execution_count": 8,
   "metadata": {},
   "outputs": [],
   "source": [
    "%matplotlib inline\n",
    "from train import train_model, plot_history"
   ]
  },
  {
   "cell_type": "code",
   "execution_count": 9,
   "metadata": {},
   "outputs": [
    {
     "name": "stdout",
     "output_type": "stream",
     "text": [
      "[0-0 @ 0.4 sec] Log10 Loss: 2.790644 Train err: 89.2%\n",
      "[0-1 @ 0.5 sec] Log10 Loss: 1.313294 Train err: 100.0%\n",
      "[0-2 @ 0.7 sec] Log10 Loss: 2.187478 Train err: 94.9%\n",
      "[0-3 @ 0.8 sec] Log10 Loss: 3.240792 Train err: 85.0%\n",
      "[0-4 @ 0.8 sec] Log10 Loss: 1.621026 Train err: 100.0%\n",
      "[0-5 @ 0.9 sec] Log10 Loss: 1.323988 Train err: 100.0%\n",
      "[0-6 @ 0.9 sec] Log10 Loss: 1.614212 Train err: 97.7%\n",
      "[0-7 @ 1.0 sec] Log10 Loss: 1.463251 Train err: 100.0%\n",
      "[0-8 @ 1.0 sec] Log10 Loss: 2.319319 Train err: 82.0%\n",
      "[0-9 @ 1.1 sec] Log10 Loss: 1.155379 Train err: 0.0%\n",
      "[0-10 @ 1.2 sec] Log10 Loss: 1.476206 Train err: 100.0%\n",
      "[0-11 @ 3.2 sec] Log10 Loss: 3.400877 Train err: 90.3%\n",
      "[0-12 @ 3.2 sec] Log10 Loss: 2.665187 Train err: 92.6%\n",
      "[0-13 @ 3.3 sec] Log10 Loss: 1.785856 Train err: 95.6%\n",
      "[0-14 @ 3.5 sec] Log10 Loss: 1.514662 Train err: 100.0%\n",
      "[0-15 @ 3.6 sec] Log10 Loss: 1.820800 Train err: 91.5%\n",
      "[0-16 @ 3.6 sec] Log10 Loss: 1.435421 Train err: 100.0%\n",
      "[0-17 @ 4.0 sec] Log10 Loss: 1.842803 Train err: 85.6%\n",
      "[0-18 @ 4.2 sec] Log10 Loss: 1.192253 Train err: 100.0%\n",
      "[0-19 @ 4.3 sec] Log10 Loss: 1.222563 Train err: 100.0%\n",
      "[0-20 @ 4.3 sec] Log10 Loss: 1.309221 Train err: 100.0%\n",
      "Epoch [0] validation error: 57.072%\n",
      "[1-0 @ 5.0 sec] Log10 Loss: 1.514662 Train err: 100.0%\n",
      "[1-1 @ 5.2 sec] Log10 Loss: 1.192253 Train err: 100.0%\n",
      "[1-2 @ 5.2 sec] Log10 Loss: 1.155379 Train err: 0.0%\n",
      "[1-3 @ 5.4 sec] Log10 Loss: 1.476206 Train err: 100.0%\n",
      "[1-4 @ 5.8 sec] Log10 Loss: 2.790644 Train err: 89.2%\n",
      "[1-5 @ 5.8 sec] Log10 Loss: 1.463251 Train err: 100.0%\n",
      "[1-6 @ 5.8 sec] Log10 Loss: 1.785856 Train err: 95.6%\n",
      "[1-7 @ 6.1 sec] Log10 Loss: 2.187478 Train err: 94.9%\n",
      "[1-8 @ 6.5 sec] Log10 Loss: 1.842803 Train err: 85.6%\n",
      "[1-9 @ 6.6 sec] Log10 Loss: 1.621026 Train err: 100.0%\n",
      "[1-10 @ 6.6 sec] Log10 Loss: 1.435421 Train err: 100.0%\n",
      "[1-11 @ 8.5 sec] Log10 Loss: 3.400877 Train err: 90.3%\n",
      "[1-12 @ 8.6 sec] Log10 Loss: 1.313294 Train err: 100.0%\n",
      "[1-13 @ 8.7 sec] Log10 Loss: 2.319319 Train err: 82.0%\n",
      "[1-14 @ 8.7 sec] Log10 Loss: 1.820800 Train err: 91.5%\n",
      "[1-15 @ 8.8 sec] Log10 Loss: 1.614212 Train err: 97.7%\n",
      "[1-16 @ 8.9 sec] Log10 Loss: 3.240792 Train err: 85.0%\n",
      "[1-17 @ 8.9 sec] Log10 Loss: 1.323988 Train err: 100.0%\n",
      "[1-18 @ 9.0 sec] Log10 Loss: 1.309221 Train err: 100.0%\n",
      "[1-19 @ 9.0 sec] Log10 Loss: 1.222563 Train err: 100.0%\n",
      "[1-20 @ 9.1 sec] Log10 Loss: 2.665187 Train err: 92.6%\n",
      "Epoch [1] validation error: 57.072%\n",
      "[2-0 @ 9.6 sec] Log10 Loss: 1.309221 Train err: 100.0%\n",
      "[2-1 @ 9.6 sec] Log10 Loss: 1.155379 Train err: 0.0%\n",
      "[2-2 @ 9.7 sec] Log10 Loss: 3.240792 Train err: 85.0%\n",
      "[2-3 @ 10.2 sec] Log10 Loss: 1.842803 Train err: 85.6%\n",
      "[2-4 @ 10.3 sec] Log10 Loss: 2.665187 Train err: 92.6%\n",
      "[2-5 @ 10.3 sec] Log10 Loss: 1.614212 Train err: 97.7%\n",
      "[2-6 @ 10.3 sec] Log10 Loss: 1.222563 Train err: 100.0%\n",
      "[2-7 @ 10.4 sec] Log10 Loss: 1.463251 Train err: 100.0%\n",
      "[2-8 @ 10.6 sec] Log10 Loss: 2.187478 Train err: 94.9%\n",
      "[2-9 @ 10.7 sec] Log10 Loss: 1.785856 Train err: 95.6%\n",
      "[2-10 @ 10.7 sec] Log10 Loss: 1.435421 Train err: 100.0%\n",
      "[2-11 @ 10.7 sec] Log10 Loss: 1.323988 Train err: 100.0%\n",
      "[2-12 @ 10.7 sec] Log10 Loss: 1.621026 Train err: 100.0%\n",
      "[2-13 @ 10.8 sec] Log10 Loss: 1.820800 Train err: 91.5%\n",
      "[2-14 @ 11.2 sec] Log10 Loss: 2.790644 Train err: 89.2%\n",
      "[2-15 @ 11.2 sec] Log10 Loss: 2.319319 Train err: 82.0%\n",
      "[2-16 @ 11.4 sec] Log10 Loss: 1.476206 Train err: 100.0%\n",
      "[2-17 @ 11.6 sec] Log10 Loss: 1.514662 Train err: 100.0%\n",
      "[2-18 @ 11.8 sec] Log10 Loss: 1.192253 Train err: 100.0%\n",
      "[2-19 @ 11.9 sec] Log10 Loss: 1.313294 Train err: 100.0%\n",
      "[2-20 @ 13.8 sec] Log10 Loss: 3.400877 Train err: 90.3%\n",
      "Epoch [2] validation error: 57.072%\n"
     ]
    },
    {
     "data": {
      "image/png": "[encoded data removed]",
      "text/plain": [
       "<Figure size 432x288 with 1 Axes>"
      ]
     },
     "metadata": {
      "needs_background": "light"
     },
     "output_type": "display_data"
    }
   ],
   "source": [
    "lr = 3e-4\n",
    "epochs = 3\n",
    "decoder_optimizer = torch.optim.Adam(rnn_decoder.parameters(), lr = lr)\n",
    "encoder_optimizer = torch.optim.Adam(rnn_encoder.parameters(), lr = lr)\n",
    "from chamfer_distance_loss import MyChamferDistance\n",
    "loss = MyChamferDistance()\n",
    "\n",
    "loss_history, train_history, val_history = train_model(\n",
    "    encoder = rnn_encoder, \n",
    "    decoder = rnn_decoder, \n",
    "    train_loader = train_loader,\n",
    "    val_loader = val_loader,\n",
    "    loss = loss,\n",
    "    decoder_opt = decoder_optimizer,\n",
    "    encoder_opt = encoder_optimizer,\n",
    "    epochs = epochs)\n",
    "\n",
    "plot_history(loss_history, train_history, val_history)"
   ]
  },
  {
   "cell_type": "code",
   "execution_count": 10,
   "metadata": {},
   "outputs": [
    {
     "name": "stdout",
     "output_type": "stream",
     "text": [
      "| ID | GPU | MEM |\n",
      "------------------\n",
      "|  0 | 61% | 70% |\n"
     ]
    }
   ],
   "source": [
    "# https://blog.paperspace.com/pytorch-memory-multi-gpu-debugging/\n",
    "import GPUtil\n",
    "GPUtil.showUtilization()"
   ]
  },
  {
   "cell_type": "code",
   "execution_count": 11,
   "metadata": {},
   "outputs": [
    {
     "name": "stdout",
     "output_type": "stream",
     "text": [
      "actual: [0]\n",
      "predicted: [1]\n",
      "loss: tensor([1.0033], grad_fn=<AddBackward0>)\n",
      "accuracy: [1]\n",
      "1 ------------------------------\n",
      "actual: [0]\n",
      "predicted: [1]\n",
      "loss: tensor([1.2233], grad_fn=<AddBackward0>)\n",
      "accuracy: [1]\n",
      "2 ------------------------------\n",
      "actual: [0]\n",
      "predicted: [2]\n",
      "loss: tensor([1.1961], grad_fn=<AddBackward0>)\n",
      "accuracy: [0]\n",
      "3 ------------------------------\n",
      "actual: [100]\n",
      "predicted: [0]\n",
      "loss: tensor([1.1707], grad_fn=<AddBackward0>)\n",
      "accuracy: [0]\n",
      "4 ------------------------------\n",
      "actual: [3]\n",
      "predicted: [1109]\n",
      "loss: tensor([2.6501], grad_fn=<AddBackward0>)\n",
      "accuracy: [0.14638662338256836]\n",
      "5 ------------------------------\n"
     ]
    }
   ],
   "source": [
    "from train import calculate_accuracy\n",
    "i = 0\n",
    "for (x, y) in iter(val_loader):\n",
    "    outs, learned = rnn_encoder(x)\n",
    "    decoded = rnn_decoder(outs, learned)\n",
    "    \n",
    "    yyy = []\n",
    "    for yy in y:\n",
    "        yyy.append(yy.shape[0])\n",
    "    ppp = []\n",
    "    for dd in decoded:\n",
    "        ppp.append(dd.shape[0])\n",
    "    \n",
    "    print('actual:', yyy)\n",
    "    print('predicted:', ppp)\n",
    "    \n",
    "    lv = loss(decoded, y)\n",
    "    print ('loss:', lv)\n",
    "\n",
    "    acc = calculate_accuracy(decoded, y)\n",
    "    print('accuracy:', acc)\n",
    "\n",
    "    i += 1\n",
    "    print(i, '------------------------------')"
   ]
  },
  {
   "cell_type": "code",
   "execution_count": 12,
   "metadata": {},
   "outputs": [
    {
     "name": "stdout",
     "output_type": "stream",
     "text": [
      "     0    1    2    3    4    5         6         7    8\n",
      "0  0.0  0.0  1.0  0.0  0.0  1.0  0.704550  0.993571  0.0\n",
      "1  0.0  0.0  1.0  0.0  0.0  1.0  0.032872  0.076172  0.0\n",
      "2  0.0  0.0  1.0  0.0  0.0  1.0  0.034243  0.032112  0.0\n",
      "3  0.0  0.0  1.0  0.0  0.0  1.0  0.034243  0.024829  0.0\n",
      "4  0.0  0.0  1.0  0.0  0.0  1.0  0.034243  0.053349  0.0\n",
      "3\n",
      "          0    1         2         3         4         5\n",
      "0  0.000000  0.0  0.363057  0.000000  0.000000  0.000000\n",
      "1  0.081114  0.0  0.000000  0.081783  1.000000  0.333333\n",
      "2  1.000000  1.0  1.000000  1.000000  0.781558  1.000000\n",
      "1109\n",
      "          0         1         2         3         4         5\n",
      "0 -0.735503  0.242185 -0.010942  0.495159  0.349049  0.107618\n",
      "1 -0.722262  0.200295  0.014158  0.654436  0.261402 -0.082537\n",
      "2 -0.721498  0.239717  0.046352  0.683690  0.170664 -0.128214\n",
      "3 -0.734776  0.218683  0.037967  0.686598  0.173362 -0.139842\n",
      "4 -0.731162  0.227371  0.053353  0.692466  0.160976 -0.144932\n"
     ]
    }
   ],
   "source": [
    "ii = pd.DataFrame(x[0].cpu().detach().numpy())\n",
    "print(ii.head())\n",
    "yy = pd.DataFrame(y[0].cpu().detach().numpy())\n",
    "print(len(yy))\n",
    "print(yy.head())\n",
    "pp = pd.DataFrame(decoded[0].cpu().detach().numpy())\n",
    "print(len(pp))\n",
    "print(pp.head())"
   ]
  },
  {
   "cell_type": "code",
   "execution_count": 13,
   "metadata": {},
   "outputs": [
    {
     "name": "stdout",
     "output_type": "stream",
     "text": [
      "Accuracy on testing: 0.041\n"
     ]
    }
   ],
   "source": [
    "from train import calculate_accuracy\n",
    "torch.cuda.empty_cache()\n",
    "\n",
    "rnn_encoder.eval()\n",
    "rnn_decoder.eval()\n",
    "\n",
    "test_accuracies = []\n",
    "for (x,y) in test_loader:\n",
    "    with torch.no_grad():\n",
    "        out, hidden = rnn_encoder(x)\n",
    "        prediction = rnn_decoder(out, hidden)\n",
    "        accuracy = calculate_accuracy(prediction, y)\n",
    "        test_accuracies.append(accuracy)\n",
    "        \n",
    "mean_test_accuracy = np.mean(test_accuracies)\n",
    "print('Accuracy on testing: {0:2.3f}'.format(mean_test_accuracy))"
   ]
  },
  {
   "cell_type": "code",
   "execution_count": null,
   "metadata": {},
   "outputs": [],
   "source": []
  }
 ],
 "metadata": {
  "kernelspec": {
   "display_name": "Python 3",
   "language": "python",
   "name": "python3"
  },
  "language_info": {
   "codemirror_mode": {
    "name": "ipython",
    "version": 3
   },
   "file_extension": ".py",
   "mimetype": "text/x-python",
   "name": "python",
   "nbconvert_exporter": "python",
   "pygments_lexer": "ipython3",
   "version": "3.7.6"
  }
 },
 "nbformat": 4,
 "nbformat_minor": 4
}
