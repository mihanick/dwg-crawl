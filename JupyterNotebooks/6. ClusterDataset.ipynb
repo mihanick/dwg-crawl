{
 "cells": [
  {
   "cell_type": "markdown",
   "metadata": {},
   "source": [
    "# Cluster drawing to create samples from it\n",
    "Previous attemps to learn on entire drawing was unsuccessfull, so I decided to move to new approach.\n",
    "I.e. i will try to create a cluster of lines from the drawing that will be a learning sample x.\n",
    "Than we will calculate some distance from cluster to dimensions on the drawing to attribute each dimension with the cluster. That attribution will be our Y."
   ]
  },
  {
   "cell_type": "code",
   "execution_count": 1,
   "metadata": {},
   "outputs": [],
   "source": [
    "# Start with basic example of unsupervised clustering with unknown number of clusters\n",
    "# https://scikit-learn.org/stable/auto_examples/cluster/plot_dbscan.html#sphx-glr-auto-examples-cluster-plot-dbscan-py"
   ]
  },
  {
   "cell_type": "code",
   "execution_count": 2,
   "metadata": {},
   "outputs": [],
   "source": [
    "import numpy as np\n",
    "from sklearn.cluster import DBSCAN\n",
    "from sklearn.preprocessing import StandardScaler\n",
    "from sklearn import metrics"
   ]
  },
  {
   "cell_type": "code",
   "execution_count": 3,
   "metadata": {},
   "outputs": [],
   "source": [
    "import pymongo\n",
    "import pandas as pd\n",
    "from pymongo import MongoClient\n",
    "\n",
    "import matplotlib.pyplot as plt\n",
    "%matplotlib inline\n",
    "\n",
    "import torch\n",
    "\n",
    "# from processing import *"
   ]
  },
  {
   "cell_type": "code",
   "execution_count": 4,
   "metadata": {},
   "outputs": [
    {
     "name": "stdout",
     "output_type": "stream",
     "text": [
      "files count 322\n",
      "data length 877347\n"
     ]
    }
   ],
   "source": [
    "client = MongoClient('mongodb://10.0.4.26:27017')\n",
    "db = client.geometry\n",
    "\n",
    "fileids  = db.files.find({'Valid':True}).distinct('FileId')\n",
    "print('files count', len(fileids))\n",
    "\n",
    "# all the data will be too much for now, so we will take say 42 files:\n",
    "fileids = fileids[0:300]\n",
    "\n",
    "query = {\n",
    "    'ClassName':\n",
    "    {\n",
    "        '$in':[\n",
    "            'AcDbLine',\n",
    "            #'AcDbPolyline',\n",
    "            'AcDbText',\n",
    "            'AcDbRotatedDimension'\n",
    "        ]\n",
    "    },\n",
    "    'FileId':{\n",
    "        '$in':fileids\n",
    "    }\n",
    "}\n",
    "\n",
    "data = pd.DataFrame(list(db.objects.find(query)))\n",
    "print('data length', len(data))"
   ]
  },
  {
   "cell_type": "raw",
   "metadata": {},
   "source": [
    "What am I going to do here:\n",
    "We group queried data by FileId\n",
    "We get points from each file's primitives (including dimensions). We save each object in dictionary with its points.\n",
    "We cluster points (get clusters from each file)\n",
    "We get objects in each cluster \n",
    "So a single sample is single a X: tensor shape(1..nobjects) with features of objects, Y: tensor shape ndims(could be 0) of with features of dimensions \n",
    "\n",
    "Than in inference we're going to start command that will take entire drawing's entities, cluster them and predict dimensions for each cluster. "
   ]
  },
  {
   "cell_type": "markdown",
   "metadata": {},
   "source": [
    "# Split data coordinates to columns"
   ]
  },
  {
   "cell_type": "code",
   "execution_count": 5,
   "metadata": {},
   "outputs": [
    {
     "name": "stdout",
     "output_type": "stream",
     "text": [
      "Total number of points:  1570386\n"
     ]
    }
   ],
   "source": [
    "from processing import Col2Numpy\n",
    "\n",
    "groupped = data.groupby(['FileId'])\n",
    "column_names = ['StartPoint', 'EndPoint', 'XLine1Point', 'XLine2Point']\n",
    "\n",
    "# Whole point here is that we're keeping index from the original dataset in file_points\n",
    "\n",
    "file_points = {} #dic[FileId]list_Of_Points\n",
    "# all file ids\n",
    "file_ids = list(groupped.groups.keys())\n",
    "for file_id in file_ids:\n",
    "    pnts = Col2Numpy(groupped.get_group(file_id), column_names)\n",
    "    # print(pnts)\n",
    "    file_points[file_id]=pnts\n",
    "\n",
    "num_points = 0\n",
    "for k in file_points:\n",
    "    num_points += len(file_points[k])\n",
    "print('Total number of points: ', num_points)"
   ]
  },
  {
   "cell_type": "code",
   "execution_count": null,
   "metadata": {},
   "outputs": [],
   "source": []
  },
  {
   "cell_type": "markdown",
   "metadata": {},
   "source": [
    "# Implement and check clustering algorithm"
   ]
  },
  {
   "cell_type": "code",
   "execution_count": 6,
   "metadata": {},
   "outputs": [],
   "source": [
    "def Clusterize(x, eps = 0.2):\n",
    "    '''\n",
    "    The very basic clustering with unknown number of clusters\n",
    "    https://scikit-learn.org/stable/auto_examples/cluster/plot_dbscan.html#sphx-glr-auto-examples-cluster-plot-dbscan-py\n",
    "    '''\n",
    "    \n",
    "    # algorithm='kd_tree'\n",
    "    db = DBSCAN(eps=eps, min_samples=6, n_jobs=-1).fit(x)\n",
    "    labels = db.labels_\n",
    "    \n",
    "    n_clusters = len(set(labels)) - (1 if -1 in labels else 0)\n",
    "    n_noise = list(labels).count(-1)\n",
    "    \n",
    "    return labels, n_clusters, n_noise, db.core_sample_indices_"
   ]
  },
  {
   "cell_type": "markdown",
   "metadata": {},
   "source": [
    "# Test and display clustering result"
   ]
  },
  {
   "cell_type": "code",
   "execution_count": 7,
   "metadata": {},
   "outputs": [
    {
     "name": "stdout",
     "output_type": "stream",
     "text": [
      "Could not import drawSvg\n"
     ]
    }
   ],
   "source": [
    "from plot_graphics import draw_set\n",
    "from processing import scale_ds\n",
    "\n",
    "\n",
    "def AddLabels2Dataset(points_of_one_file, df_to_export_labels, fileid_to_print=\"\", epses=0.2):\n",
    "    result = df_to_export_labels\n",
    "    \n",
    "    # split indexes from coordinates\n",
    "    x1, data_indexes = np.split(points_of_one_file,[3], axis = 1)\n",
    "    data_indexes = data_indexes.astype('int')\n",
    "    \n",
    "    # print(x1)\n",
    "    # scale dataframe in order to clusterize it properly\n",
    "    x1, scl = scale_ds(x1)\n",
    "    \n",
    "    # for now we will magically assign eps on base of scale\n",
    "    # epses = 15*scl\n",
    "    \n",
    "    # epses could be a number or list of numbers\n",
    "    # I use list of numbers in order\n",
    "    # to visually assess clustering\n",
    "    ep = epses\n",
    "    if type(epses) != list:\n",
    "        ep=[epses]\n",
    "        \n",
    "    for eps in ep:\n",
    "        # perform clustering of points to calculate labels\n",
    "        \n",
    "        labels, n_clusters, n_noise, core_indices = Clusterize(x1, eps=eps)\n",
    "\n",
    "        # print(len(x1), len(labels))\n",
    "        # draw_set(x1, labels, core_indices)  \n",
    "\n",
    "        print(\"fileid:{} points:{} clusters:{} noise pnts:{} eps:{:0.3f} scale:{:0.6f}\".format(\n",
    "              fileid_to_print,\n",
    "              x1.shape[0], \n",
    "              n_clusters,\n",
    "              n_noise, \n",
    "              eps,\n",
    "              scl))\n",
    "    \n",
    "    data_indexes['label'] = labels\n",
    "\n",
    "    # https://stackoverflow.com/questions/22918212/fastest-way-to-drop-duplicated-index-in-a-pandas-dataframe\n",
    "    # data_indexes = data_indexes.drop_duplicates('id')\n",
    "    data_indexes = data_indexes.groupby(data_indexes.index).first()\n",
    "    \n",
    "    for i in range(len(data_indexes.index)):\n",
    "        indx = data_indexes.index[i]\n",
    "        # https://stackoverflow.com/questions/13021654/get-column-index-from-column-name-in-python-pandas\n",
    "        result.iloc[indx, result.columns.get_loc('label')] = data_indexes.iloc[i, data_indexes.columns.get_loc('label')]    \n",
    "    print(len(result.loc[result['label'] == -1]))\n",
    "    return result"
   ]
  },
  {
   "cell_type": "code",
   "execution_count": 8,
   "metadata": {},
   "outputs": [],
   "source": [
    "x_columns = ['StartPoint.X', 'StartPoint.Y', 'StartPoint.Z',\n",
    "             'EndPoint.X', 'EndPoint.Y', 'EndPoint.Z']\n",
    "y_columns = ['XLine1Point.X', 'XLine1Point.Y','XLine1Point.Z', \n",
    "    'XLine2Point.X', 'XLine2Point.Y', 'XLine2Point.Z']\n",
    "join_index = ['FileId','label']\n",
    "groupping_columns = [ 'ClassName', 'FileId','label']\n",
    "dataset_columns = x_columns + y_columns + groupping_columns \n"
   ]
  },
  {
   "cell_type": "code",
   "execution_count": null,
   "metadata": {},
   "outputs": [
    {
     "name": "stdout",
     "output_type": "stream",
     "text": [
      "fileid:006cb2dd-6f18-4203-8b70-fc865c08105a points:790 clusters:6 noise pnts:40 eps:0.030 scale:0.001698\n",
      "876968\n",
      "fileid:006f290c-7280-491b-b7d7-971ed82de1a5 points:662 clusters:5 noise pnts:52 eps:0.030 scale:0.001698\n",
      "876662\n",
      "fileid:0100c16b-c7c9-4265-92b9-950bf5d2c9ec points:362 clusters:7 noise pnts:36 eps:0.030 scale:0.001698\n",
      "876496\n",
      "fileid:013edfac-9865-4422-a5f2-3220d142116d points:2130 clusters:32 noise pnts:137 eps:0.030 scale:0.002410\n",
      "875493\n",
      "fileid:01ea3780-b297-4075-8a26-77461e995b7d points:7114 clusters:2 noise pnts:0 eps:0.030 scale:0.000004\n",
      "871936\n",
      "fileid:01f9cbe6-c14f-4dc0-817e-4d80380d4e26 points:2558 clusters:18 noise pnts:44 eps:0.030 scale:0.001197\n",
      "870674\n",
      "fileid:02401882-a7cc-47ad-b8c2-c38eb9be323b points:1534 clusters:12 noise pnts:36 eps:0.030 scale:0.001698\n",
      "869926\n",
      "fileid:024be99c-0302-43b3-92b3-aa0aba5a376a points:1416 clusters:12 noise pnts:26 eps:0.030 scale:0.001196\n",
      "869232\n",
      "fileid:02580ab5-a831-4845-a46a-874a6fce6230 points:1008 clusters:11 noise pnts:15 eps:0.030 scale:0.001196\n",
      "868732\n",
      "fileid:026c216c-8d4e-4b03-bca0-47e1286211f7 points:8294 clusters:18 noise pnts:42 eps:0.030 scale:0.001096\n",
      "864603\n",
      "fileid:0323fe46-6856-4a65-9bd0-9dfe7805388a points:1066 clusters:14 noise pnts:60 eps:0.030 scale:0.001196\n",
      "864103\n",
      "fileid:03269695-2af6-41d1-ba41-fcf863b3f059 points:8812 clusters:43 noise pnts:27 eps:0.030 scale:0.025425\n",
      "859705\n",
      "fileid:032ea8f0-ea69-41f8-9263-ec8b965f9a55 points:1524 clusters:16 noise pnts:51 eps:0.030 scale:0.001698\n",
      "858963\n",
      "fileid:033199cc-1ef8-49f5-a92e-58a50ea8b9a8 points:8540 clusters:22 noise pnts:17 eps:0.030 scale:0.001202\n",
      "854703\n",
      "fileid:04451949-017f-4fdb-a8d2-6ad06b73dfe7 points:12582 clusters:9 noise pnts:3 eps:0.030 scale:0.000002\n",
      "848413\n",
      "fileid:046a75c3-b749-4ab3-930a-b9e8b27924a8 points:1848 clusters:15 noise pnts:15 eps:0.030 scale:0.001196\n",
      "847496\n",
      "fileid:046f716f-fbd5-4825-9b19-f4a10e60d544 points:500 clusters:1 noise pnts:0 eps:0.030 scale:0.000002\n",
      "847246\n",
      "fileid:048d04a5-31e4-4adf-8e00-8257b3d128f2 points:2266 clusters:7 noise pnts:45 eps:0.030 scale:0.001285\n",
      "846127\n",
      "fileid:0511c359-ab90-4395-a866-f0c29a25036f points:5848 clusters:4 noise pnts:0 eps:0.030 scale:0.000169\n",
      "843203\n",
      "fileid:05147389-06aa-4db9-bd95-07358472e89c points:454 clusters:1 noise pnts:0 eps:0.030 scale:0.000004\n",
      "842976\n",
      "05d14556-8391-4d92-be3b-501c9d4aee20  len>20000\n",
      "fileid:065104a1-e15f-4205-8bf0-ee09456202bc points:1638 clusters:1 noise pnts:6 eps:0.030 scale:0.000002\n",
      "842160\n",
      "fileid:07154962-f62d-4522-9b7b-ec8927360731 points:926 clusters:9 noise pnts:21 eps:0.030 scale:0.000067\n",
      "841711\n",
      "074c3640-dd26-4f35-a2ac-227b5d1148a3  len>20000\n",
      "fileid:07a63e40-9429-4c31-858f-f88862b84a32 points:1708 clusters:24 noise pnts:53 eps:0.030 scale:0.000012\n",
      "840883\n",
      "fileid:07fb5192-3672-4804-a6db-39b84241be44 points:2854 clusters:4 noise pnts:0 eps:0.030 scale:0.000002\n",
      "839456\n",
      "fileid:08238128-878f-4e14-a215-cffa9a8fb067 points:1540 clusters:1 noise pnts:0 eps:0.030 scale:0.000001\n",
      "838686\n",
      "fileid:08ec31c9-9251-4c72-83bf-58c5abf1a804 points:6060 clusters:24 noise pnts:58 eps:0.030 scale:0.001386\n",
      "835684\n",
      "fileid:09bb1674-bff4-4ac7-a86d-60a9600ce899 points:3208 clusters:5 noise pnts:9 eps:0.030 scale:0.000000\n",
      "834086\n",
      "fileid:0a76341a-a26f-42f0-9543-dcaaeebf6399 points:564 clusters:8 noise pnts:22 eps:0.030 scale:0.001698\n",
      "833811\n",
      "fileid:0a7d3a07-818e-444b-bf95-7bdd9a39bde0 points:876 clusters:5 noise pnts:12 eps:0.030 scale:0.000005\n",
      "833379\n",
      "fileid:0abd136b-bdd8-433f-80f4-20e96fb71d51 points:1312 clusters:8 noise pnts:0 eps:0.030 scale:0.000001\n",
      "832723\n",
      "fileid:0ad0fcd1-b4fe-4095-8f86-65dfe985cafa points:392 clusters:11 noise pnts:64 eps:0.030 scale:0.001698\n",
      "832551\n",
      "fileid:0b0d58a0-f520-4fc6-bae8-c98a4709901d points:9982 clusters:2 noise pnts:0 eps:0.030 scale:0.000001\n",
      "827560\n",
      "fileid:0b405c1d-54a7-4fac-9734-613c260d6f32 points:60 clusters:6 noise pnts:16 eps:0.030 scale:0.000031\n",
      "827538\n",
      "fileid:0b44dda8-5bbf-4eee-824e-1d52e2dd03f2 points:590 clusters:9 noise pnts:72 eps:0.030 scale:0.001698\n",
      "827280\n",
      "fileid:0bf244b9-3454-471e-a607-11e47d86bf81 points:1130 clusters:26 noise pnts:92 eps:0.030 scale:0.001199\n",
      "826761\n",
      "fileid:0bf33e32-6be0-4b35-972d-07f1354719fd points:314 clusters:5 noise pnts:36 eps:0.030 scale:0.001698\n",
      "826618\n",
      "fileid:0c0325d6-6c00-46e8-99fe-3527a6115407 points:156 clusters:10 noise pnts:46 eps:0.030 scale:0.002411\n",
      "826565\n",
      "fileid:0c562f37-0a6b-420f-958d-efae5a8cd876 points:1542 clusters:29 noise pnts:27 eps:0.030 scale:0.025425\n",
      "825802\n",
      "fileid:0c9ef0a4-3051-40db-9675-099660c9c828 points:58 clusters:1 noise pnts:49 eps:0.030 scale:0.000031\n",
      "825799\n",
      "fileid:0cecdcdd-c843-4f0e-b76d-c3f1a16bdbaf points:1622 clusters:13 noise pnts:61 eps:0.030 scale:0.001512\n",
      "825014\n",
      "fileid:0d61a0d5-5193-44f3-ae42-06dbf9227e04 points:19888 clusters:4 noise pnts:0 eps:0.030 scale:0.000001\n",
      "815070\n",
      "fileid:0d8843aa-142f-478c-a1a8-d6513cb75130 points:3882 clusters:10 noise pnts:20 eps:0.030 scale:0.001029\n",
      "813138\n",
      "0d9e42c4-bded-4dd0-9bbb-d4abad30410e  len>20000\n",
      "fileid:0dadb598-180d-42e2-bbaf-060a15883fb7 points:246 clusters:1 noise pnts:3 eps:0.030 scale:0.000004\n",
      "813017\n",
      "fileid:0dc3755e-b436-41d7-83c6-ce43ef41ed29 points:2538 clusters:2 noise pnts:0 eps:0.030 scale:0.000001\n",
      "811748\n",
      "fileid:0e5caeae-e61d-4a22-9068-a83f2d2c4242 points:2484 clusters:5 noise pnts:60 eps:0.030 scale:0.002155\n",
      "810533\n",
      "fileid:0e608710-f13d-4362-aff7-26bf466f3243 points:2166 clusters:16 noise pnts:21 eps:0.030 scale:0.001196\n",
      "809457\n",
      "fileid:0e80649a-0436-448e-82be-d7349afefc4b points:596 clusters:11 noise pnts:74 eps:0.030 scale:0.001701\n",
      "809194\n",
      "fileid:0ed5ebcc-a660-49fb-b99e-4d578b0440ca points:594 clusters:14 noise pnts:65 eps:0.030 scale:0.001450\n",
      "808927\n",
      "fileid:0ef9f598-29b1-41fb-8766-93da1dc327ae points:1864 clusters:17 noise pnts:38 eps:0.030 scale:0.001196\n",
      "808016\n",
      "fileid:0f039a8d-2e28-4d4d-a6d9-4d39b12cee0f points:1166 clusters:17 noise pnts:75 eps:0.030 scale:0.001698\n",
      "807463\n",
      "fileid:0f4c8d41-3a06-4dea-960a-7cb1364b3f37 points:3844 clusters:18 noise pnts:21 eps:0.030 scale:0.000974\n",
      "805554\n",
      "fileid:0f50428b-e834-4a3c-9fa1-69cc41a1ed70 points:1142 clusters:6 noise pnts:66 eps:0.030 scale:0.001698\n",
      "805013\n",
      "fileid:0fed4451-1ecf-42d2-a5aa-4713fbb5d4af points:1324 clusters:3 noise pnts:0 eps:0.030 scale:0.000005\n",
      "804351\n",
      "fileid:101be3ee-df3f-49b9-807e-fc28e2e04425 points:70 clusters:1 noise pnts:0 eps:0.030 scale:0.000003\n",
      "804316\n",
      "fileid:1066a0ec-b9ad-46bf-a446-38254025e95d points:24 clusters:1 noise pnts:0 eps:0.030 scale:0.000002\n",
      "804304\n",
      "fileid:108f6e2b-c899-4d47-8597-46cbb426f01e points:1120 clusters:10 noise pnts:29 eps:0.030 scale:0.001196\n",
      "803760\n",
      "fileid:1159bf6b-4d31-465d-a8d1-d3cbacba0176 points:1954 clusters:13 noise pnts:50 eps:0.030 scale:0.001698\n",
      "802806\n",
      "fileid:118d5c83-22ae-447d-813c-b73c5a547f97 points:4202 clusters:49 noise pnts:32 eps:0.030 scale:0.025425\n",
      "800715\n",
      "fileid:11b0c136-e5f8-43ac-b26d-2bcce80a3348 points:1524 clusters:15 noise pnts:54 eps:0.030 scale:0.001698\n",
      "799976\n",
      "fileid:11e246e3-0586-4b2a-bb04-9b3d1fa22d1b points:5204 clusters:1 noise pnts:0 eps:0.030 scale:0.000001\n",
      "797374\n",
      "fileid:121df316-9b1d-41db-871f-91573a8128e1 points:19346 clusters:6 noise pnts:0 eps:0.030 scale:0.000002\n",
      "787701\n",
      "fileid:125d6aeb-5cc3-451d-9cb5-cb96c22570f2 points:1016 clusters:14 noise pnts:54 eps:0.030 scale:0.001698\n",
      "787212\n",
      "fileid:12b8527e-9dd3-4038-9ba5-01e41399f2b3 points:564 clusters:8 noise pnts:22 eps:0.030 scale:0.001698\n",
      "786937\n",
      "fileid:12c94d6b-1e9c-452b-ad74-f64d75f8de12 points:2808 clusters:12 noise pnts:12 eps:0.030 scale:0.000761\n",
      "785543\n",
      "fileid:136c0af0-491e-4f9b-9e0f-dd0ae4d5c937 points:1442 clusters:5 noise pnts:0 eps:0.030 scale:0.000005\n",
      "784822\n",
      "fileid:13887791-3438-43a7-b489-50e4a62188be points:360 clusters:9 noise pnts:41 eps:0.030 scale:0.001698\n",
      "784661\n",
      "fileid:13984d28-b342-47f3-8856-ee44da468d03 points:1536 clusters:18 noise pnts:51 eps:0.030 scale:0.001196\n",
      "783918\n",
      "fileid:13a68183-637b-4b9c-a754-af477d4ee1b8 points:684 clusters:15 noise pnts:113 eps:0.030 scale:0.001698\n",
      "783636\n",
      "fileid:13cdfc48-a4f5-4dd9-8ce1-121e91c34da1 points:1860 clusters:13 noise pnts:48 eps:0.030 scale:0.001698\n",
      "782727\n",
      "fileid:13fa6b13-3c7c-41ed-a4da-c58096217208 points:10994 clusters:5 noise pnts:4 eps:0.030 scale:0.000001\n",
      "777232\n",
      "fileid:142212b7-c561-4289-95d0-a347f0361a1a points:4046 clusters:8 noise pnts:40 eps:0.030 scale:0.000004\n",
      "775231\n",
      "fileid:14b0428c-349f-4e00-9a40-7d8ba2245f0e points:5272 clusters:4 noise pnts:13 eps:0.030 scale:0.001280\n",
      "772603\n",
      "fileid:15cb60cc-10b3-441b-9c2f-e2b1919b6c41 points:2160 clusters:13 noise pnts:22 eps:0.030 scale:0.001196\n",
      "771533\n",
      "fileid:15e605fa-8112-4cbc-aef1-d6bcd63d9227 points:692 clusters:6 noise pnts:29 eps:0.030 scale:0.001698\n",
      "771198\n",
      "fileid:167d55d3-04bc-4f09-9893-a70edb864b12 points:1890 clusters:13 noise pnts:41 eps:0.030 scale:0.000014\n",
      "770272\n",
      "fileid:16f105c8-5c5f-4e60-a291-0962b7d782b9 points:566 clusters:11 noise pnts:84 eps:0.030 scale:0.001698\n",
      "770025\n",
      "fileid:177f073b-cdc6-4e87-8e63-8117100e107f points:434 clusters:2 noise pnts:0 eps:0.030 scale:0.000001\n",
      "769808\n",
      "fileid:17f5aef1-af69-44cb-ada3-af1f3d77104c points:4548 clusters:3 noise pnts:52 eps:0.030 scale:0.001394\n",
      "767559\n",
      "fileid:1893dfe8-da7e-48eb-84d1-10e70d5b4b91 points:784 clusters:6 noise pnts:31 eps:0.030 scale:0.001698\n",
      "767178\n",
      "fileid:18e18356-db0e-406c-8675-8aaadd1af3b8 points:3008 clusters:14 noise pnts:20 eps:0.030 scale:0.001228\n",
      "765686\n",
      "fileid:193cd611-82da-463e-8bea-0d49d0256132 points:1274 clusters:14 noise pnts:63 eps:0.030 scale:0.001698\n",
      "765077\n",
      "fileid:197b4aad-223b-4ab9-995c-eecba51a5e77 points:564 clusters:4 noise pnts:0 eps:0.030 scale:0.000005\n",
      "764795\n",
      "19de5f93-8597-42c8-856f-b9e20baac410  len>20000\n",
      "fileid:19ecc6d9-8334-408c-b3c4-a68a9324f50e points:382 clusters:18 noise pnts:81 eps:0.030 scale:0.000096\n",
      "764642\n",
      "fileid:1a7f0c2f-18c8-4b5f-8653-794a88e07e8a points:2496 clusters:6 noise pnts:68 eps:0.030 scale:0.001698\n",
      "763427\n",
      "fileid:1b40faf2-df8e-410e-9010-944d112f1e63 points:498 clusters:14 noise pnts:47 eps:0.030 scale:0.001698\n",
      "763200\n",
      "fileid:1c359ab0-733f-4778-8d17-04c305cc68fb points:3626 clusters:11 noise pnts:131 eps:0.030 scale:0.000011\n",
      "761435\n",
      "fileid:1c688199-1b69-411c-b56a-783db0dbc343 points:520 clusters:6 noise pnts:19 eps:0.030 scale:0.001698\n",
      "761180\n",
      "1c68b718-fb88-4678-9c2e-512776ea79dd  len>20000\n",
      "fileid:1c9695db-9e21-47a2-96a1-e88c4e1b8720 points:812 clusters:10 noise pnts:74 eps:0.030 scale:0.001698\n",
      "760807\n",
      "fileid:1cc39e13-8f99-4ba5-9782-acc862036bd5 points:1044 clusters:10 noise pnts:23 eps:0.030 scale:0.001197\n",
      "760295\n",
      "fileid:1ceb5712-a935-4e53-ae5e-ba3a6a44facb points:866 clusters:17 noise pnts:29 eps:0.030 scale:0.001196\n",
      "759875\n",
      "fileid:1da75dfb-3150-4e69-9a1e-5623bcf75480 points:3878 clusters:18 noise pnts:42 eps:0.030 scale:0.001196\n",
      "757956\n",
      "fileid:1e21050c-ac9d-45fd-8b0b-537694cfde01 points:7442 clusters:1 noise pnts:0 eps:0.030 scale:0.000001\n",
      "754235\n",
      "fileid:1e34e2b2-9778-4ba1-bfd8-c4344925a894 points:362 clusters:7 noise pnts:36 eps:0.030 scale:0.001698\n",
      "754069\n",
      "fileid:1e3be82d-ff58-410e-ba1c-11858653005f points:750 clusters:29 noise pnts:150 eps:0.030 scale:0.000048\n",
      "753765\n",
      "fileid:1f19c258-b270-4ddf-ae8e-a0c0752d2d2f points:1612 clusters:14 noise pnts:61 eps:0.030 scale:0.001698\n",
      "752979\n",
      "fileid:1f8c1e5a-ec39-4a30-9e03-5a11031bd67d points:340 clusters:9 noise pnts:2 eps:0.030 scale:0.000112\n",
      "752809\n",
      "fileid:200c8d1d-5ed3-4cd0-8947-96f8ccc5db0b points:1116 clusters:14 noise pnts:26 eps:0.030 scale:0.001192\n",
      "752266\n",
      "fileid:202b7e66-fe7e-4b05-bba8-b8ce2817fb83 points:1394 clusters:1 noise pnts:4 eps:0.030 scale:0.000001\n",
      "751571\n",
      "203cc493-63db-44e3-94e9-e68c55ab5f49  len>20000\n",
      "fileid:20a9a160-2a28-49a9-b8bc-f868768baabf points:346 clusters:8 noise pnts:23 eps:0.030 scale:0.002035\n",
      "751407\n",
      "fileid:2115bcca-be5a-4e3c-bf19-be30ea4702d2 points:1524 clusters:15 noise pnts:51 eps:0.030 scale:0.001698\n",
      "750665\n",
      "fileid:21514d4a-785d-4840-a5f8-efc6b2bc61af points:80 clusters:2 noise pnts:60 eps:0.030 scale:0.003646\n",
      "750654\n",
      "fileid:2156144f-3834-4e18-b72d-54404761c88b points:388 clusters:9 noise pnts:39 eps:0.030 scale:0.001698\n",
      "750477\n",
      "fileid:217582cd-2e5d-476c-804c-82d3a497b157 points:1804 clusters:10 noise pnts:17 eps:0.030 scale:0.001365\n",
      "749583\n",
      "fileid:217e18eb-9c9e-4db5-a575-dd39dea3066e points:1396 clusters:14 noise pnts:43 eps:0.030 scale:0.001196\n",
      "748914\n",
      "fileid:218b5e79-fc2d-43f9-9ccd-cd20b429ba9b points:8932 clusters:14 noise pnts:19 eps:0.030 scale:0.001064\n"
     ]
    }
   ],
   "source": [
    "from processing import expand_columns\n",
    "\n",
    "labeled_data = pd.DataFrame(data)\n",
    "labeled_data['label'] = -1\n",
    "\n",
    "i = 0\n",
    "for file_id, _x1 in file_points.items():\n",
    "    if len(_x1) > 20000:\n",
    "        print(file_id, \" len>20000\")\n",
    "        continue\n",
    "    #print(df.groupby(['FileId', 'label']).count())\n",
    "    #df = df.join(data_indexes, on=['id'], how='left', rsuffix='_r')\n",
    "    labeled_data = AddLabels2Dataset(\n",
    "        points_of_one_file=_x1, \n",
    "        df_to_export_labels=labeled_data, \n",
    "        fileid_to_print=file_id,\n",
    "        epses=[0.03]\n",
    "    )\n",
    "    \n",
    "    i+=1\n",
    "    if i%10==0:\n",
    "        df = expand_columns(pd.DataFrame(labeled_data), column_names)\n",
    "        df = df[dataset_columns]\n",
    "        df.to_pickle('test_dataset_cluster_labeled.pickle')      \n",
    "        "
   ]
  },
  {
   "cell_type": "code",
   "execution_count": null,
   "metadata": {},
   "outputs": [],
   "source": [
    "print(\"total data length:\", len(labeled_data))\n",
    "print(\"unlabeled data length:\",len(labeled_data.loc[labeled_data['label'] == -1]))"
   ]
  },
  {
   "cell_type": "code",
   "execution_count": null,
   "metadata": {},
   "outputs": [],
   "source": [
    "df = pd.DataFrame(labeled_data)\n",
    "df = expand_columns(df, column_names)\n",
    "\n",
    "df = df[dataset_columns]"
   ]
  },
  {
   "cell_type": "code",
   "execution_count": null,
   "metadata": {},
   "outputs": [],
   "source": [
    "df.drop(df[df[\"label\"] == -1].index).groupby(['FileId']).count()"
   ]
  },
  {
   "cell_type": "code",
   "execution_count": null,
   "metadata": {},
   "outputs": [],
   "source": [
    "df.to_pickle('test_dataset_cluster_labeled.pickle')"
   ]
  },
  {
   "cell_type": "markdown",
   "metadata": {},
   "source": [
    "# Test classes to work with data"
   ]
  },
  {
   "cell_type": "code",
   "execution_count": null,
   "metadata": {},
   "outputs": [],
   "source": [
    "from torch.utils.data import Dataset, SubsetRandomSampler\n",
    "from dataset import EntityDataset\n"
   ]
  },
  {
   "cell_type": "code",
   "execution_count": null,
   "metadata": {},
   "outputs": [],
   "source": [
    "d = pd.read_pickle('test_dataset_cluster_labeled.pickle')\n",
    "\n",
    "for x,y in EntityDataset(d)[:22]:\n",
    "    print(x.shape,y)\n",
    "    "
   ]
  },
  {
   "cell_type": "code",
   "execution_count": null,
   "metadata": {},
   "outputs": [],
   "source": [
    "from dataset import DwgDataset"
   ]
  },
  {
   "cell_type": "code",
   "execution_count": null,
   "metadata": {},
   "outputs": [],
   "source": [
    "dwg_dataset = DwgDataset('test_dataset_cluster_labeled.pickle', batch_size = 4)"
   ]
  },
  {
   "cell_type": "code",
   "execution_count": null,
   "metadata": {},
   "outputs": [],
   "source": [
    "dwg_dataset.entities.data_frame.groupby(['FileId']).max()"
   ]
  },
  {
   "cell_type": "code",
   "execution_count": null,
   "metadata": {},
   "outputs": [],
   "source": [
    "from IPython.display import Image\n",
    "from IPython.display import clear_output\n",
    "from plot_graphics import generate_file\n",
    "    \n",
    "g = dwg_dataset.entities.data_frame.groupby(['FileId', 'label'])\n",
    "for kkk in list(g.groups.keys()):\n",
    "    if kkk[0] in ['006f290c-7280-491b-b7d7-971ed82de1a5', '006f290c-7280-491b-b7d7-971ed82de1a5']:\n",
    "        chunk = g.get_group(kkk)\n",
    "        dr = generate_file(chunk, save_file=False, verbose=False)\n",
    "        display(dr)"
   ]
  },
  {
   "cell_type": "code",
   "execution_count": null,
   "metadata": {},
   "outputs": [],
   "source": [
    "from plot_graphics import draw_sample\n",
    "\n",
    "j=0\n",
    "for (x, y) in iter(dwg_dataset.train_loader):\n",
    "    # print(x,y)\n",
    "    for i in range(len(x)):\n",
    "        # print(x[i].shape, y[i])\n",
    "        display(draw_sample(x[i],y[i]))\n",
    "        j+=1\n",
    "    if j>3:\n",
    "        break"
   ]
  },
  {
   "cell_type": "code",
   "execution_count": null,
   "metadata": {},
   "outputs": [],
   "source": []
  }
 ],
 "metadata": {
  "kernelspec": {
   "display_name": "Python 3",
   "language": "python",
   "name": "python3"
  },
  "language_info": {
   "codemirror_mode": {
    "name": "ipython",
    "version": 3
   },
   "file_extension": ".py",
   "mimetype": "text/x-python",
   "name": "python",
   "nbconvert_exporter": "python",
   "pygments_lexer": "ipython3",
   "version": "3.7.6"
  }
 },
 "nbformat": 4,
 "nbformat_minor": 4
}
