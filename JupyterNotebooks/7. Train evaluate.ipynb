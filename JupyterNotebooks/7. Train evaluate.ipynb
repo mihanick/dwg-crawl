{
 "cells": [
  {
   "cell_type": "markdown",
   "metadata": {},
   "source": [
    "# Train model"
   ]
  },
  {
   "cell_type": "code",
   "execution_count": 1,
   "metadata": {},
   "outputs": [
    {
     "name": "stdout",
     "output_type": "stream",
     "text": [
      "Epoch [0] validation chamfer distance: 1.1956\n",
      "Epoch [1] validation chamfer distance: 1.1690\n",
      "Epoch [2] validation chamfer distance: 1.1731\n",
      "Epoch [3] validation chamfer distance: 1.1746\n",
      "Epoch [4] validation chamfer distance: 1.1691\n",
      "Epoch [5] validation chamfer distance: 1.1924\n",
      "Epoch [6] validation chamfer distance: 1.1949\n",
      "Epoch [7] validation chamfer distance: 1.2182\n",
      "Epoch [8] validation chamfer distance: 1.1803\n",
      "Epoch [9] validation chamfer distance: 1.1708\n",
      "Epoch [10] validation chamfer distance: 1.1813\n",
      "Epoch [11] validation chamfer distance: 1.1791\n",
      "Epoch [12] validation chamfer distance: 1.1729\n",
      "Epoch [13] validation chamfer distance: 1.1837\n",
      "Epoch [14] validation chamfer distance: 1.1995\n",
      "Epoch [15] validation chamfer distance: 1.1851\n",
      "Epoch [16] validation chamfer distance: 1.1686\n",
      "Epoch [17] validation chamfer distance: 1.1765\n",
      "Epoch [18] validation chamfer distance: 1.1728\n",
      "Epoch [19] validation chamfer distance: 1.1885\n",
      "Epoch [20] validation chamfer distance: 1.2122\n",
      "Epoch [21] validation chamfer distance: 1.1721\n",
      "Epoch [22] validation chamfer distance: 1.1746\n",
      "Epoch [23] validation chamfer distance: 1.1770\n",
      "Epoch [24] validation chamfer distance: 1.1894\n",
      "Epoch [25] validation chamfer distance: 1.1962\n",
      "Epoch [26] validation chamfer distance: 1.1846\n",
      "Epoch [27] validation chamfer distance: 1.1939\n",
      "Epoch [28] validation chamfer distance: 1.1898\n",
      "Epoch [29] validation chamfer distance: 1.1754\n",
      "Epoch [30] validation chamfer distance: 1.1951\n",
      "Epoch [31] validation chamfer distance: 1.1752\n",
      "Epoch [32] validation chamfer distance: 1.1672\n",
      "Epoch [33] validation chamfer distance: 1.1579\n",
      "Epoch [34] validation chamfer distance: 1.1919\n",
      "Epoch [35] validation chamfer distance: 1.1634\n",
      "Epoch [36] validation chamfer distance: 1.1717\n",
      "Epoch [37] validation chamfer distance: 1.1900\n",
      "Epoch [38] validation chamfer distance: 1.1765\n",
      "Epoch [39] validation chamfer distance: 1.1746\n",
      "Epoch [40] validation chamfer distance: 1.1668\n",
      "Epoch [41] validation chamfer distance: 1.1741\n",
      "Epoch [42] validation chamfer distance: 1.1730\n",
      "Epoch [43] validation chamfer distance: 1.1597\n",
      "Epoch [44] validation chamfer distance: 1.1849\n",
      "Epoch [45] validation chamfer distance: 1.1636\n",
      "Epoch [46] validation chamfer distance: 1.1712\n",
      "Epoch [47] validation chamfer distance: 1.2014\n",
      "Epoch [48] validation chamfer distance: 1.1637\n",
      "Epoch [49] validation chamfer distance: 1.1892\n",
      "Epoch [50] validation chamfer distance: 1.1811\n",
      "Epoch [51] validation chamfer distance: 1.1654\n",
      "Epoch [52] validation chamfer distance: 1.1958\n",
      "Epoch [53] validation chamfer distance: 1.1861\n",
      "Epoch [54] validation chamfer distance: 1.2002\n",
      "Epoch [55] validation chamfer distance: 1.1853\n",
      "Epoch [56] validation chamfer distance: 1.1674\n",
      "Epoch [57] validation chamfer distance: 1.1691\n",
      "Epoch [58] validation chamfer distance: 1.1741\n",
      "Epoch [59] validation chamfer distance: 1.1725\n",
      "Epoch [60] validation chamfer distance: 1.1708\n",
      "Epoch [61] validation chamfer distance: 1.1671\n",
      "Epoch [62] validation chamfer distance: 1.1477\n",
      "Epoch [63] validation chamfer distance: 1.1890\n",
      "Epoch [64] validation chamfer distance: 1.1921\n",
      "Epoch [65] validation chamfer distance: 1.1724\n",
      "Epoch [66] validation chamfer distance: 1.1653\n",
      "Epoch [67] validation chamfer distance: 1.1805\n",
      "Epoch [68] validation chamfer distance: 1.1955\n",
      "Epoch [69] validation chamfer distance: 1.1900\n",
      "Epoch [70] validation chamfer distance: 1.1701\n",
      "Epoch [71] validation chamfer distance: 1.1723\n",
      "Epoch [72] validation chamfer distance: 1.1488\n",
      "Epoch [73] validation chamfer distance: 1.1671\n",
      "Epoch [74] validation chamfer distance: 1.1674\n",
      "Epoch [75] validation chamfer distance: 1.1980\n",
      "Epoch [76] validation chamfer distance: 1.1719\n",
      "Epoch [77] validation chamfer distance: 1.1821\n",
      "Epoch [78] validation chamfer distance: 1.1656\n",
      "Epoch [79] validation chamfer distance: 1.1743\n",
      "Epoch [80] validation chamfer distance: 1.2032\n",
      "Epoch [81] validation chamfer distance: 1.2051\n",
      "Epoch [82] validation chamfer distance: 1.2165\n",
      "Epoch [83] validation chamfer distance: 1.1948\n",
      "Epoch [84] validation chamfer distance: 1.1690\n",
      "Epoch [85] validation chamfer distance: 1.1756\n",
      "Epoch [86] validation chamfer distance: 1.1686\n",
      "Epoch [87] validation chamfer distance: 1.1623\n",
      "Epoch [88] validation chamfer distance: 1.1767\n",
      "Epoch [89] validation chamfer distance: 1.1682\n",
      "Epoch [90] validation chamfer distance: 1.1677\n",
      "Epoch [91] validation chamfer distance: 1.1788\n",
      "Epoch [92] validation chamfer distance: 1.1677\n",
      "Epoch [93] validation chamfer distance: 1.1672\n",
      "Epoch [94] validation chamfer distance: 1.1616\n",
      "Epoch [95] validation chamfer distance: 1.1705\n",
      "Epoch [96] validation chamfer distance: 1.2050\n",
      "Epoch [97] validation chamfer distance: 1.1705\n",
      "Epoch [98] validation chamfer distance: 1.1504\n",
      "Epoch [99] validation chamfer distance: 1.1809\n",
      "Epoch [100] validation chamfer distance: 1.1774\n",
      "Epoch [101] validation chamfer distance: 1.1630\n",
      "Epoch [102] validation chamfer distance: 1.1980\n",
      "Epoch [103] validation chamfer distance: 1.1670\n",
      "Epoch [104] validation chamfer distance: 1.2076\n",
      "Epoch [105] validation chamfer distance: 1.1817\n",
      "Epoch [106] validation chamfer distance: 1.1915\n",
      "Epoch [107] validation chamfer distance: 1.2021\n",
      "Epoch [108] validation chamfer distance: 1.1707\n",
      "Epoch [109] validation chamfer distance: 1.1673\n",
      "Epoch [110] validation chamfer distance: 1.1854\n",
      "Epoch [111] validation chamfer distance: 1.1825\n",
      "Epoch [112] validation chamfer distance: 1.1663\n",
      "Epoch [113] validation chamfer distance: 1.2043\n",
      "Epoch [114] validation chamfer distance: 1.1806\n",
      "Epoch [115] validation chamfer distance: 1.1705\n",
      "Epoch [116] validation chamfer distance: 1.1695\n",
      "Epoch [117] validation chamfer distance: 1.1942\n",
      "Epoch [118] validation chamfer distance: 1.1741\n",
      "Epoch [119] validation chamfer distance: 1.1756\n",
      "Epoch [120] validation chamfer distance: 1.1815\n",
      "Epoch [121] validation chamfer distance: 1.1864\n",
      "Epoch [122] validation chamfer distance: 1.1938\n",
      "Epoch [123] validation chamfer distance: 1.1514\n",
      "Epoch [124] validation chamfer distance: 1.1513\n",
      "Epoch [125] validation chamfer distance: 1.1840\n",
      "Epoch [126] validation chamfer distance: 1.1624\n",
      "Epoch [127] validation chamfer distance: 1.1688\n",
      "Epoch [128] validation chamfer distance: 1.1751\n",
      "Epoch [129] validation chamfer distance: 1.1989\n",
      "Epoch [130] validation chamfer distance: 1.1836\n",
      "Epoch [131] validation chamfer distance: 1.1845\n",
      "Epoch [132] validation chamfer distance: 1.1824\n",
      "Testing chamfer distance: 1.1580\n"
     ]
    }
   ],
   "source": [
    "from main import run\n",
    "train_history, loss_history, val_history = run(epochs=133, lr=0.0001, batch_size=16)"
   ]
  },
  {
   "cell_type": "code",
   "execution_count": 2,
   "metadata": {},
   "outputs": [
    {
     "name": "stdout",
     "output_type": "stream",
     "text": [
      "Could not import drawSvg\n"
     ]
    },
    {
     "data": {
      "image/png": "[encoded data removed]",
      "text/plain": [
       "<Figure size 432x288 with 1 Axes>"
      ]
     },
     "metadata": {
      "needs_background": "light"
     },
     "output_type": "display_data"
    }
   ],
   "source": [
    "from plot_graphics import plot_history\n",
    "plot_history(loss_history, train_history, val_history)"
   ]
  },
  {
   "cell_type": "markdown",
   "metadata": {},
   "source": [
    "# Evaluate model"
   ]
  },
  {
   "cell_type": "code",
   "execution_count": 3,
   "metadata": {},
   "outputs": [],
   "source": [
    "import torch\n",
    "\n",
    "device = torch.device(\"cpu\")\n",
    "if torch.cuda.is_available():\n",
    "    device = torch.device(\"cuda\")"
   ]
  },
  {
   "cell_type": "code",
   "execution_count": 4,
   "metadata": {},
   "outputs": [],
   "source": [
    "from dataset import DwgDataset\n",
    "dwg_dataset = DwgDataset('test_dataset_groups.pickle', batch_size = 4)\n",
    "dim_features = dwg_dataset.entities.dim_features\n",
    "ent_features = dwg_dataset.entities.ent_features"
   ]
  },
  {
   "cell_type": "code",
   "execution_count": 5,
   "metadata": {},
   "outputs": [
    {
     "ename": "RuntimeError",
     "evalue": "Error(s) in loading state_dict for DimRnn:\n\tsize mismatch for rnn.weight_ih_l0: copying a param with shape torch.Size([1024, 4]) from checkpoint, the shape in current model is torch.Size([256, 4]).\n\tsize mismatch for rnn.weight_hh_l0: copying a param with shape torch.Size([1024, 1024]) from checkpoint, the shape in current model is torch.Size([256, 256]).\n\tsize mismatch for rnn.bias_ih_l0: copying a param with shape torch.Size([1024]) from checkpoint, the shape in current model is torch.Size([256]).\n\tsize mismatch for rnn.bias_hh_l0: copying a param with shape torch.Size([1024]) from checkpoint, the shape in current model is torch.Size([256]).\n\tsize mismatch for l1.weight: copying a param with shape torch.Size([4, 1024]) from checkpoint, the shape in current model is torch.Size([4, 256]).",
     "output_type": "error",
     "traceback": [
      "\u001b[1;31m---------------------------------------------------------------------------\u001b[0m",
      "\u001b[1;31mRuntimeError\u001b[0m                              Traceback (most recent call last)",
      "\u001b[1;32m<ipython-input-5-5baefe5cbbb4>\u001b[0m in \u001b[0;36m<module>\u001b[1;34m\u001b[0m\n\u001b[0;32m      4\u001b[0m \u001b[1;33m\u001b[0m\u001b[0m\n\u001b[0;32m      5\u001b[0m \u001b[1;31m# https://pytorch.org/tutorials/beginner/saving_loading_models.html\u001b[0m\u001b[1;33m\u001b[0m\u001b[1;33m\u001b[0m\u001b[1;33m\u001b[0m\u001b[0m\n\u001b[1;32m----> 6\u001b[1;33m \u001b[0mmodel\u001b[0m\u001b[1;33m.\u001b[0m\u001b[0mload_state_dict\u001b[0m\u001b[1;33m(\u001b[0m\u001b[0mtorch\u001b[0m\u001b[1;33m.\u001b[0m\u001b[0mload\u001b[0m\u001b[1;33m(\u001b[0m\u001b[1;34m'DimRnnTrained.model'\u001b[0m\u001b[1;33m,\u001b[0m \u001b[0mmap_location\u001b[0m\u001b[1;33m=\u001b[0m\u001b[0mdevice\u001b[0m\u001b[1;33m)\u001b[0m\u001b[1;33m)\u001b[0m\u001b[1;33m\u001b[0m\u001b[1;33m\u001b[0m\u001b[0m\n\u001b[0m\u001b[0;32m      7\u001b[0m \u001b[1;33m\u001b[0m\u001b[0m\n\u001b[0;32m      8\u001b[0m \u001b[0mmodel\u001b[0m\u001b[1;33m.\u001b[0m\u001b[0meval\u001b[0m\u001b[1;33m(\u001b[0m\u001b[1;33m)\u001b[0m\u001b[1;33m\u001b[0m\u001b[1;33m\u001b[0m\u001b[0m\n",
      "\u001b[1;32m~\\Anaconda3\\lib\\site-packages\\torch\\nn\\modules\\module.py\u001b[0m in \u001b[0;36mload_state_dict\u001b[1;34m(self, state_dict, strict)\u001b[0m\n\u001b[0;32m    845\u001b[0m         \u001b[1;32mif\u001b[0m \u001b[0mlen\u001b[0m\u001b[1;33m(\u001b[0m\u001b[0merror_msgs\u001b[0m\u001b[1;33m)\u001b[0m \u001b[1;33m>\u001b[0m \u001b[1;36m0\u001b[0m\u001b[1;33m:\u001b[0m\u001b[1;33m\u001b[0m\u001b[1;33m\u001b[0m\u001b[0m\n\u001b[0;32m    846\u001b[0m             raise RuntimeError('Error(s) in loading state_dict for {}:\\n\\t{}'.format(\n\u001b[1;32m--> 847\u001b[1;33m                                self.__class__.__name__, \"\\n\\t\".join(error_msgs)))\n\u001b[0m\u001b[0;32m    848\u001b[0m         \u001b[1;32mreturn\u001b[0m \u001b[0m_IncompatibleKeys\u001b[0m\u001b[1;33m(\u001b[0m\u001b[0mmissing_keys\u001b[0m\u001b[1;33m,\u001b[0m \u001b[0munexpected_keys\u001b[0m\u001b[1;33m)\u001b[0m\u001b[1;33m\u001b[0m\u001b[1;33m\u001b[0m\u001b[0m\n\u001b[0;32m    849\u001b[0m \u001b[1;33m\u001b[0m\u001b[0m\n",
      "\u001b[1;31mRuntimeError\u001b[0m: Error(s) in loading state_dict for DimRnn:\n\tsize mismatch for rnn.weight_ih_l0: copying a param with shape torch.Size([1024, 4]) from checkpoint, the shape in current model is torch.Size([256, 4]).\n\tsize mismatch for rnn.weight_hh_l0: copying a param with shape torch.Size([1024, 1024]) from checkpoint, the shape in current model is torch.Size([256, 256]).\n\tsize mismatch for rnn.bias_ih_l0: copying a param with shape torch.Size([1024]) from checkpoint, the shape in current model is torch.Size([256]).\n\tsize mismatch for rnn.bias_hh_l0: copying a param with shape torch.Size([1024]) from checkpoint, the shape in current model is torch.Size([256]).\n\tsize mismatch for l1.weight: copying a param with shape torch.Size([4, 1024]) from checkpoint, the shape in current model is torch.Size([4, 256])."
     ]
    }
   ],
   "source": [
    "from model import DimRnn\n",
    "model = DimRnn(ent_features, dim_features, 256, device)\n",
    "#model.to(device)\n",
    "\n",
    "# https://pytorch.org/tutorials/beginner/saving_loading_models.html\n",
    "model.load_state_dict(torch.load('DimRnnTrained.model', map_location=device))\n",
    "\n",
    "model.eval()"
   ]
  },
  {
   "cell_type": "code",
   "execution_count": null,
   "metadata": {},
   "outputs": [],
   "source": [
    "import drawSvg as draw\n",
    "from plot_graphics import draw_sample\n"
   ]
  },
  {
   "cell_type": "code",
   "execution_count": null,
   "metadata": {},
   "outputs": [],
   "source": [
    "from IPython.display import Image\n",
    "from IPython.display import clear_output\n",
    "\n",
    "for j, (_x,_y) in enumerate(dwg_dataset.train_loader):\n",
    "    out = model(_x)\n",
    "    for i in range(len(_x)):\n",
    "        x=_x[i]\n",
    "        y=_y[i]\n",
    "        prediction=out[i]\n",
    "        print(y, prediction)\n",
    "        graphics = draw_sample(x, y, prediction, verbose=False)\n",
    "        display(graphics) \n",
    "        #clear_output(wait=True)   \n",
    "    if j>10:\n",
    "        break\n"
   ]
  },
  {
   "cell_type": "code",
   "execution_count": null,
   "metadata": {},
   "outputs": [],
   "source": []
  }
 ],
 "metadata": {
  "kernelspec": {
   "display_name": "Python 3",
   "language": "python",
   "name": "python3"
  },
  "language_info": {
   "codemirror_mode": {
    "name": "ipython",
    "version": 3
   },
   "file_extension": ".py",
   "mimetype": "text/x-python",
   "name": "python",
   "nbconvert_exporter": "python",
   "pygments_lexer": "ipython3",
   "version": "3.7.6"
  }
 },
 "nbformat": 4,
 "nbformat_minor": 4
}
