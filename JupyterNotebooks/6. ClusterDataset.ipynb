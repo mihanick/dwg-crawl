{
 "cells": [
  {
   "cell_type": "markdown",
   "metadata": {},
   "source": [
    "# Cluster drawing to create samples from it\n",
    "Previous attemps to learn on entire drawing was unsuccessfull, so I decided to move to new approach.\n",
    "I.e. i will try to create a cluster of lines from the drawing that will be a learning sample x.\n",
    "Than we will calculate some distance from cluster to dimensions on the drawing to attribute each dimension with the cluster. That attribution will be our Y."
   ]
  },
  {
   "cell_type": "code",
   "execution_count": 1,
   "metadata": {},
   "outputs": [],
   "source": [
    "# Start with basic example of unsupervised clustering with unknown number of clusters\n",
    "# https://scikit-learn.org/stable/auto_examples/cluster/plot_dbscan.html#sphx-glr-auto-examples-cluster-plot-dbscan-py"
   ]
  },
  {
   "cell_type": "code",
   "execution_count": 2,
   "metadata": {},
   "outputs": [],
   "source": [
    "import numpy as np\n",
    "from sklearn.cluster import DBSCAN\n",
    "from sklearn.preprocessing import StandardScaler\n",
    "from sklearn import metrics"
   ]
  },
  {
   "cell_type": "code",
   "execution_count": 3,
   "metadata": {},
   "outputs": [],
   "source": [
    "import pymongo\n",
    "import pandas as pd\n",
    "from pymongo import MongoClient\n",
    "\n",
    "import matplotlib.pyplot as plt\n",
    "%matplotlib inline\n",
    "\n",
    "import torch\n",
    "\n",
    "# from processing import *"
   ]
  },
  {
   "cell_type": "code",
   "execution_count": 4,
   "metadata": {},
   "outputs": [
    {
     "name": "stdout",
     "output_type": "stream",
     "text": [
      "files count 322\n",
      "data length 49545\n"
     ]
    }
   ],
   "source": [
    "client = MongoClient('mongodb://192.168.0.106:27017')\n",
    "db = client.geometry\n",
    "\n",
    "fileids  = db.files.find({'Valid':True}).distinct('FileId')\n",
    "print('files count', len(fileids))\n",
    "\n",
    "# all the data will be too much for now, so we will take say 42 files:\n",
    "fileids = fileids[:22]\n",
    "\n",
    "query = {\n",
    "    'ClassName':\n",
    "    {\n",
    "        '$in':[\n",
    "            'AcDbLine',\n",
    "            #'AcDbPolyline',\n",
    "            'AcDbText',\n",
    "            'AcDbRotatedDimension'\n",
    "        ]\n",
    "    },\n",
    "    'FileId':{\n",
    "        '$in':fileids\n",
    "    }\n",
    "}\n",
    "\n",
    "data = pd.DataFrame(list(db.objects.find(query)))\n",
    "print('data length', len(data))"
   ]
  },
  {
   "cell_type": "raw",
   "metadata": {},
   "source": [
    "What am I going to do here:\n",
    "We group queried data by FileId\n",
    "We get points from each file's primitives (including dimensions). We save each object in dictionary with its points.\n",
    "We cluster points (get clusters from each file)\n",
    "We get objects in each cluster \n",
    "So a single sample is single a X: tensor shape(1..nobjects) with features of objects, Y: tensor shape ndims(could be 0) of with features of dimensions \n",
    "\n",
    "Than in inference we're going to start command that will take entire drawing's entities, cluster them and predict dimensions for each cluster. "
   ]
  },
  {
   "cell_type": "markdown",
   "metadata": {},
   "source": [
    "# Split data coordinates to columns"
   ]
  },
  {
   "cell_type": "code",
   "execution_count": 5,
   "metadata": {},
   "outputs": [
    {
     "name": "stdout",
     "output_type": "stream",
     "text": [
      "Total number of points:  90100\n"
     ]
    }
   ],
   "source": [
    "from processing import Col2Numpy\n",
    "\n",
    "groupped = data.groupby(['FileId'])\n",
    "column_names = ['StartPoint', 'EndPoint', 'XLine1Point', 'XLine2Point']\n",
    "\n",
    "# Whole point here is that we're keeping index from the original dataset in file_points\n",
    "\n",
    "file_points = {} #dic[FileId]list_Of_Points\n",
    "# all file ids\n",
    "file_ids = list(groupped.groups.keys())\n",
    "for file_id in file_ids:\n",
    "    pnts = Col2Numpy(groupped.get_group(file_id), column_names)\n",
    "    # print(pnts)\n",
    "    file_points[file_id]=pnts\n",
    "\n",
    "num_points = 0\n",
    "for k in file_points:\n",
    "    num_points += len(file_points[k])\n",
    "print('Total number of points: ', num_points)"
   ]
  },
  {
   "cell_type": "code",
   "execution_count": null,
   "metadata": {},
   "outputs": [],
   "source": []
  },
  {
   "cell_type": "markdown",
   "metadata": {},
   "source": [
    "# Implement and check clustering algorithm"
   ]
  },
  {
   "cell_type": "code",
   "execution_count": 6,
   "metadata": {},
   "outputs": [],
   "source": [
    "def Clusterize(x, eps = 0.2):\n",
    "    '''\n",
    "    The very basic clustering with unknown number of clusters\n",
    "    https://scikit-learn.org/stable/auto_examples/cluster/plot_dbscan.html#sphx-glr-auto-examples-cluster-plot-dbscan-py\n",
    "    '''\n",
    "    \n",
    "    # algorithm='kd_tree'\n",
    "    db = DBSCAN(eps=eps, min_samples=6, n_jobs=-1).fit(x)\n",
    "    labels = db.labels_\n",
    "    \n",
    "    n_clusters = len(set(labels)) - (1 if -1 in labels else 0)\n",
    "    n_noise = list(labels).count(-1)\n",
    "    \n",
    "    return labels, n_clusters, n_noise, db.core_sample_indices_"
   ]
  },
  {
   "cell_type": "markdown",
   "metadata": {},
   "source": [
    "# Test and display clustering result"
   ]
  },
  {
   "cell_type": "code",
   "execution_count": 7,
   "metadata": {},
   "outputs": [],
   "source": [
    "from plot_graphics import draw_set\n",
    "from processing import scale_ds\n",
    "\n",
    "\n",
    "def AddLabels2Dataset(points_of_one_file, df_to_export_labels, fileid_to_print=\"\", epses=0.2):\n",
    "    result = df_to_export_labels\n",
    "    \n",
    "    # split indexes from coordinates\n",
    "    x1, data_indexes = np.split(points_of_one_file,[3], axis = 1)\n",
    "    data_indexes = data_indexes.astype('int')\n",
    "    \n",
    "    # print(x1)\n",
    "    # scale dataframe in order to clusterize it properly\n",
    "    x1, scl = scale_ds(x1)\n",
    "    \n",
    "    # for now we will magically assign eps on base of scale\n",
    "    epses = 15*scl\n",
    "    \n",
    "    # epses could be a number or list of numbers\n",
    "    # I use list of numbers in order\n",
    "    # to visually assess clustering\n",
    "    ep = epses\n",
    "    if type(epses) != list:\n",
    "        ep=[epses]\n",
    "        \n",
    "    for eps in ep:\n",
    "        # perform clustering of points to calculate labels\n",
    "        \n",
    "        labels, n_clusters, n_noise, core_indices = Clusterize(x1, eps=eps)\n",
    "\n",
    "        # print(len(x1), len(labels))\n",
    "        # draw_set(x1, labels, core_indices)  \n",
    "\n",
    "        print(\"fileid:{} points:{} clusters:{} noise pnts:{} eps:{:0.3f} scale:{:0.6f}\".format(\n",
    "              fileid_to_print,\n",
    "              x1.shape[0], \n",
    "              n_clusters,\n",
    "              n_noise, \n",
    "              eps,\n",
    "              scl))\n",
    "    \n",
    "    data_indexes['label'] = labels\n",
    "\n",
    "    # https://stackoverflow.com/questions/22918212/fastest-way-to-drop-duplicated-index-in-a-pandas-dataframe\n",
    "    # data_indexes = data_indexes.drop_duplicates('id')\n",
    "    data_indexes = data_indexes.groupby(data_indexes.index).first()\n",
    "    \n",
    "    for i in range(len(data_indexes.index)):\n",
    "        indx = data_indexes.index[i]\n",
    "        # https://stackoverflow.com/questions/13021654/get-column-index-from-column-name-in-python-pandas\n",
    "        result.iloc[indx, result.columns.get_loc('label')] = data_indexes.iloc[i, data_indexes.columns.get_loc('label')]    \n",
    "    print(len(result.loc[result['label'] == -1]))\n",
    "    return result"
   ]
  },
  {
   "cell_type": "code",
   "execution_count": 8,
   "metadata": {},
   "outputs": [
    {
     "name": "stdout",
     "output_type": "stream",
     "text": [
      "fileid:006cb2dd-6f18-4203-8b70-fc865c08105a points:790 clusters:8 noise pnts:56 eps:0.025 scale:0.001698\n",
      "49177\n",
      "fileid:006f290c-7280-491b-b7d7-971ed82de1a5 points:662 clusters:4 noise pnts:61 eps:0.025 scale:0.001698\n",
      "48877\n",
      "fileid:0100c16b-c7c9-4265-92b9-950bf5d2c9ec points:362 clusters:6 noise pnts:61 eps:0.025 scale:0.001698\n",
      "48725\n",
      "fileid:013edfac-9865-4422-a5f2-3220d142116d points:2130 clusters:20 noise pnts:81 eps:0.036 scale:0.002410\n",
      "47694\n",
      "fileid:01ea3780-b297-4075-8a26-77461e995b7d points:7114 clusters:47 noise pnts:218 eps:0.000 scale:0.000004\n",
      "44237\n",
      "fileid:01f9cbe6-c14f-4dc0-817e-4d80380d4e26 points:2558 clusters:58 noise pnts:204 eps:0.018 scale:0.001197\n",
      "43054\n",
      "fileid:02401882-a7cc-47ad-b8c2-c38eb9be323b points:1534 clusters:13 noise pnts:72 eps:0.025 scale:0.001698\n",
      "42323\n",
      "fileid:024be99c-0302-43b3-92b3-aa0aba5a376a points:1416 clusters:32 noise pnts:215 eps:0.018 scale:0.001196\n",
      "41710\n",
      "fileid:02580ab5-a831-4845-a46a-874a6fce6230 points:1008 clusters:18 noise pnts:215 eps:0.018 scale:0.001196\n",
      "41305\n",
      "fileid:026c216c-8d4e-4b03-bca0-47e1286211f7 points:8294 clusters:40 noise pnts:179 eps:0.016 scale:0.001096\n",
      "37248\n",
      "fileid:0323fe46-6856-4a65-9bd0-9dfe7805388a points:1066 clusters:20 noise pnts:149 eps:0.018 scale:0.001196\n",
      "36789\n",
      "fileid:03269695-2af6-41d1-ba41-fcf863b3f059 points:8812 clusters:1 noise pnts:0 eps:0.381 scale:0.025425\n",
      "32383\n",
      "fileid:032ea8f0-ea69-41f8-9263-ec8b965f9a55 points:1524 clusters:19 noise pnts:84 eps:0.025 scale:0.001698\n",
      "31661\n",
      "fileid:033199cc-1ef8-49f5-a92e-58a50ea8b9a8 points:8540 clusters:40 noise pnts:99 eps:0.018 scale:0.001202\n",
      "27437\n",
      "fileid:04451949-017f-4fdb-a8d2-6ad06b73dfe7 points:12582 clusters:459 noise pnts:9045 eps:0.000 scale:0.000002\n",
      "25673\n",
      "fileid:046a75c3-b749-4ab3-930a-b9e8b27924a8 points:1848 clusters:31 noise pnts:119 eps:0.018 scale:0.001196\n",
      "24803\n",
      "fileid:046f716f-fbd5-4825-9b19-f4a10e60d544 points:500 clusters:0 noise pnts:500 eps:0.000 scale:0.000002\n",
      "24803\n",
      "fileid:048d04a5-31e4-4adf-8e00-8257b3d128f2 points:2266 clusters:13 noise pnts:104 eps:0.019 scale:0.001285\n",
      "23713\n",
      "fileid:0511c359-ab90-4395-a866-f0c29a25036f points:5848 clusters:325 noise pnts:1276 eps:0.003 scale:0.000169\n",
      "21434\n",
      "fileid:05147389-06aa-4db9-bd95-07358472e89c points:454 clusters:0 noise pnts:454 eps:0.000 scale:0.000004\n",
      "21434\n",
      "fileid:05d14556-8391-4d92-be3b-501c9d4aee20 points:20792 clusters:1 noise pnts:20786 eps:0.000 scale:0.000000\n",
      "21430\n"
     ]
    }
   ],
   "source": [
    "labeled_data = pd.DataFrame(data)\n",
    "labeled_data['label'] = -1\n",
    "\n",
    "i = 0\n",
    "for file_id, _x1 in file_points.items():\n",
    "    #print(df.groupby(['FileId', 'label']).count())\n",
    "    #df = df.join(data_indexes, on=['id'], how='left', rsuffix='_r')\n",
    "    labeled_data = AddLabels2Dataset(\n",
    "        points_of_one_file=_x1, \n",
    "        df_to_export_labels=labeled_data, \n",
    "        fileid_to_print=file_id,\n",
    "        epses=[0.04, 0.05]\n",
    "    )\n",
    "    \n",
    "    i+=1\n",
    "    if i>3:\n",
    "        #debug break\n",
    "        pass"
   ]
  },
  {
   "cell_type": "code",
   "execution_count": 9,
   "metadata": {},
   "outputs": [
    {
     "name": "stdout",
     "output_type": "stream",
     "text": [
      "total data length: 49545\n",
      "unlabeled data length: 21430\n"
     ]
    }
   ],
   "source": [
    "print(\"total data length:\", len(labeled_data))\n",
    "print(\"unlabeled data length:\",len(labeled_data.loc[labeled_data['label'] == -1]))"
   ]
  },
  {
   "cell_type": "code",
   "execution_count": 10,
   "metadata": {},
   "outputs": [],
   "source": [
    "from processing import expand_columns\n",
    "\n",
    "df = pd.DataFrame(labeled_data)\n",
    "df = expand_columns(df, column_names)\n",
    "x_columns = ['StartPoint.X', 'StartPoint.Y', 'StartPoint.Z',\n",
    "             'EndPoint.X', 'EndPoint.Y', 'EndPoint.Z']\n",
    "y_columns = ['XLine1Point.X', 'XLine1Point.Y','XLine1Point.Z', \n",
    "    'XLine2Point.X', 'XLine2Point.Y', 'XLine2Point.Z']\n",
    "join_index = ['FileId','label']\n",
    "groupping_columns = [ 'ClassName', 'FileId','label']\n",
    "dataset_columns = x_columns + y_columns + groupping_columns \n",
    "\n",
    "df = df[dataset_columns]"
   ]
  },
  {
   "cell_type": "code",
   "execution_count": 11,
   "metadata": {},
   "outputs": [
    {
     "data": {
      "text/html": [
       "<div>\n",
       "<style scoped>\n",
       "    .dataframe tbody tr th:only-of-type {\n",
       "        vertical-align: middle;\n",
       "    }\n",
       "\n",
       "    .dataframe tbody tr th {\n",
       "        vertical-align: top;\n",
       "    }\n",
       "\n",
       "    .dataframe thead th {\n",
       "        text-align: right;\n",
       "    }\n",
       "</style>\n",
       "<table border=\"1\" class=\"dataframe\">\n",
       "  <thead>\n",
       "    <tr style=\"text-align: right;\">\n",
       "      <th></th>\n",
       "      <th>StartPoint.X</th>\n",
       "      <th>StartPoint.Y</th>\n",
       "      <th>StartPoint.Z</th>\n",
       "      <th>EndPoint.X</th>\n",
       "      <th>EndPoint.Y</th>\n",
       "      <th>EndPoint.Z</th>\n",
       "      <th>XLine1Point.X</th>\n",
       "      <th>XLine1Point.Y</th>\n",
       "      <th>XLine1Point.Z</th>\n",
       "      <th>XLine2Point.X</th>\n",
       "      <th>XLine2Point.Y</th>\n",
       "      <th>XLine2Point.Z</th>\n",
       "      <th>ClassName</th>\n",
       "      <th>label</th>\n",
       "    </tr>\n",
       "    <tr>\n",
       "      <th>FileId</th>\n",
       "      <th></th>\n",
       "      <th></th>\n",
       "      <th></th>\n",
       "      <th></th>\n",
       "      <th></th>\n",
       "      <th></th>\n",
       "      <th></th>\n",
       "      <th></th>\n",
       "      <th></th>\n",
       "      <th></th>\n",
       "      <th></th>\n",
       "      <th></th>\n",
       "      <th></th>\n",
       "      <th></th>\n",
       "    </tr>\n",
       "  </thead>\n",
       "  <tbody>\n",
       "    <tr>\n",
       "      <th>006cb2dd-6f18-4203-8b70-fc865c08105a</th>\n",
       "      <td>368</td>\n",
       "      <td>368</td>\n",
       "      <td>368</td>\n",
       "      <td>368</td>\n",
       "      <td>368</td>\n",
       "      <td>368</td>\n",
       "      <td>0</td>\n",
       "      <td>0</td>\n",
       "      <td>0</td>\n",
       "      <td>0</td>\n",
       "      <td>0</td>\n",
       "      <td>0</td>\n",
       "      <td>368</td>\n",
       "      <td>368</td>\n",
       "    </tr>\n",
       "    <tr>\n",
       "      <th>006f290c-7280-491b-b7d7-971ed82de1a5</th>\n",
       "      <td>258</td>\n",
       "      <td>258</td>\n",
       "      <td>258</td>\n",
       "      <td>258</td>\n",
       "      <td>258</td>\n",
       "      <td>258</td>\n",
       "      <td>42</td>\n",
       "      <td>42</td>\n",
       "      <td>42</td>\n",
       "      <td>42</td>\n",
       "      <td>42</td>\n",
       "      <td>42</td>\n",
       "      <td>300</td>\n",
       "      <td>300</td>\n",
       "    </tr>\n",
       "    <tr>\n",
       "      <th>0100c16b-c7c9-4265-92b9-950bf5d2c9ec</th>\n",
       "      <td>147</td>\n",
       "      <td>147</td>\n",
       "      <td>147</td>\n",
       "      <td>147</td>\n",
       "      <td>147</td>\n",
       "      <td>147</td>\n",
       "      <td>5</td>\n",
       "      <td>5</td>\n",
       "      <td>5</td>\n",
       "      <td>5</td>\n",
       "      <td>5</td>\n",
       "      <td>5</td>\n",
       "      <td>152</td>\n",
       "      <td>152</td>\n",
       "    </tr>\n",
       "    <tr>\n",
       "      <th>013edfac-9865-4422-a5f2-3220d142116d</th>\n",
       "      <td>965</td>\n",
       "      <td>965</td>\n",
       "      <td>965</td>\n",
       "      <td>965</td>\n",
       "      <td>965</td>\n",
       "      <td>965</td>\n",
       "      <td>66</td>\n",
       "      <td>66</td>\n",
       "      <td>66</td>\n",
       "      <td>66</td>\n",
       "      <td>66</td>\n",
       "      <td>66</td>\n",
       "      <td>1031</td>\n",
       "      <td>1031</td>\n",
       "    </tr>\n",
       "    <tr>\n",
       "      <th>01ea3780-b297-4075-8a26-77461e995b7d</th>\n",
       "      <td>3360</td>\n",
       "      <td>3360</td>\n",
       "      <td>3360</td>\n",
       "      <td>3360</td>\n",
       "      <td>3360</td>\n",
       "      <td>3360</td>\n",
       "      <td>97</td>\n",
       "      <td>97</td>\n",
       "      <td>97</td>\n",
       "      <td>97</td>\n",
       "      <td>97</td>\n",
       "      <td>97</td>\n",
       "      <td>3457</td>\n",
       "      <td>3457</td>\n",
       "    </tr>\n",
       "    <tr>\n",
       "      <th>01f9cbe6-c14f-4dc0-817e-4d80380d4e26</th>\n",
       "      <td>1183</td>\n",
       "      <td>1183</td>\n",
       "      <td>1183</td>\n",
       "      <td>1183</td>\n",
       "      <td>1183</td>\n",
       "      <td>1183</td>\n",
       "      <td>0</td>\n",
       "      <td>0</td>\n",
       "      <td>0</td>\n",
       "      <td>0</td>\n",
       "      <td>0</td>\n",
       "      <td>0</td>\n",
       "      <td>1183</td>\n",
       "      <td>1183</td>\n",
       "    </tr>\n",
       "    <tr>\n",
       "      <th>02401882-a7cc-47ad-b8c2-c38eb9be323b</th>\n",
       "      <td>731</td>\n",
       "      <td>731</td>\n",
       "      <td>731</td>\n",
       "      <td>731</td>\n",
       "      <td>731</td>\n",
       "      <td>731</td>\n",
       "      <td>0</td>\n",
       "      <td>0</td>\n",
       "      <td>0</td>\n",
       "      <td>0</td>\n",
       "      <td>0</td>\n",
       "      <td>0</td>\n",
       "      <td>731</td>\n",
       "      <td>731</td>\n",
       "    </tr>\n",
       "    <tr>\n",
       "      <th>024be99c-0302-43b3-92b3-aa0aba5a376a</th>\n",
       "      <td>613</td>\n",
       "      <td>613</td>\n",
       "      <td>613</td>\n",
       "      <td>613</td>\n",
       "      <td>613</td>\n",
       "      <td>613</td>\n",
       "      <td>0</td>\n",
       "      <td>0</td>\n",
       "      <td>0</td>\n",
       "      <td>0</td>\n",
       "      <td>0</td>\n",
       "      <td>0</td>\n",
       "      <td>613</td>\n",
       "      <td>613</td>\n",
       "    </tr>\n",
       "    <tr>\n",
       "      <th>02580ab5-a831-4845-a46a-874a6fce6230</th>\n",
       "      <td>405</td>\n",
       "      <td>405</td>\n",
       "      <td>405</td>\n",
       "      <td>405</td>\n",
       "      <td>405</td>\n",
       "      <td>405</td>\n",
       "      <td>0</td>\n",
       "      <td>0</td>\n",
       "      <td>0</td>\n",
       "      <td>0</td>\n",
       "      <td>0</td>\n",
       "      <td>0</td>\n",
       "      <td>405</td>\n",
       "      <td>405</td>\n",
       "    </tr>\n",
       "    <tr>\n",
       "      <th>026c216c-8d4e-4b03-bca0-47e1286211f7</th>\n",
       "      <td>3964</td>\n",
       "      <td>3964</td>\n",
       "      <td>3964</td>\n",
       "      <td>3964</td>\n",
       "      <td>3964</td>\n",
       "      <td>3964</td>\n",
       "      <td>93</td>\n",
       "      <td>93</td>\n",
       "      <td>93</td>\n",
       "      <td>93</td>\n",
       "      <td>93</td>\n",
       "      <td>93</td>\n",
       "      <td>4057</td>\n",
       "      <td>4057</td>\n",
       "    </tr>\n",
       "    <tr>\n",
       "      <th>0323fe46-6856-4a65-9bd0-9dfe7805388a</th>\n",
       "      <td>459</td>\n",
       "      <td>459</td>\n",
       "      <td>459</td>\n",
       "      <td>459</td>\n",
       "      <td>459</td>\n",
       "      <td>459</td>\n",
       "      <td>0</td>\n",
       "      <td>0</td>\n",
       "      <td>0</td>\n",
       "      <td>0</td>\n",
       "      <td>0</td>\n",
       "      <td>0</td>\n",
       "      <td>459</td>\n",
       "      <td>459</td>\n",
       "    </tr>\n",
       "    <tr>\n",
       "      <th>03269695-2af6-41d1-ba41-fcf863b3f059</th>\n",
       "      <td>4390</td>\n",
       "      <td>4390</td>\n",
       "      <td>4390</td>\n",
       "      <td>4390</td>\n",
       "      <td>4390</td>\n",
       "      <td>4390</td>\n",
       "      <td>16</td>\n",
       "      <td>16</td>\n",
       "      <td>16</td>\n",
       "      <td>16</td>\n",
       "      <td>16</td>\n",
       "      <td>16</td>\n",
       "      <td>4406</td>\n",
       "      <td>4406</td>\n",
       "    </tr>\n",
       "    <tr>\n",
       "      <th>032ea8f0-ea69-41f8-9263-ec8b965f9a55</th>\n",
       "      <td>721</td>\n",
       "      <td>721</td>\n",
       "      <td>721</td>\n",
       "      <td>721</td>\n",
       "      <td>721</td>\n",
       "      <td>721</td>\n",
       "      <td>1</td>\n",
       "      <td>1</td>\n",
       "      <td>1</td>\n",
       "      <td>1</td>\n",
       "      <td>1</td>\n",
       "      <td>1</td>\n",
       "      <td>722</td>\n",
       "      <td>722</td>\n",
       "    </tr>\n",
       "    <tr>\n",
       "      <th>033199cc-1ef8-49f5-a92e-58a50ea8b9a8</th>\n",
       "      <td>4144</td>\n",
       "      <td>4144</td>\n",
       "      <td>4144</td>\n",
       "      <td>4144</td>\n",
       "      <td>4144</td>\n",
       "      <td>4144</td>\n",
       "      <td>80</td>\n",
       "      <td>80</td>\n",
       "      <td>80</td>\n",
       "      <td>80</td>\n",
       "      <td>80</td>\n",
       "      <td>80</td>\n",
       "      <td>4224</td>\n",
       "      <td>4224</td>\n",
       "    </tr>\n",
       "    <tr>\n",
       "      <th>04451949-017f-4fdb-a8d2-6ad06b73dfe7</th>\n",
       "      <td>1757</td>\n",
       "      <td>1757</td>\n",
       "      <td>1757</td>\n",
       "      <td>1757</td>\n",
       "      <td>1757</td>\n",
       "      <td>1757</td>\n",
       "      <td>7</td>\n",
       "      <td>7</td>\n",
       "      <td>7</td>\n",
       "      <td>7</td>\n",
       "      <td>7</td>\n",
       "      <td>7</td>\n",
       "      <td>1764</td>\n",
       "      <td>1764</td>\n",
       "    </tr>\n",
       "    <tr>\n",
       "      <th>046a75c3-b749-4ab3-930a-b9e8b27924a8</th>\n",
       "      <td>870</td>\n",
       "      <td>870</td>\n",
       "      <td>870</td>\n",
       "      <td>870</td>\n",
       "      <td>870</td>\n",
       "      <td>870</td>\n",
       "      <td>0</td>\n",
       "      <td>0</td>\n",
       "      <td>0</td>\n",
       "      <td>0</td>\n",
       "      <td>0</td>\n",
       "      <td>0</td>\n",
       "      <td>870</td>\n",
       "      <td>870</td>\n",
       "    </tr>\n",
       "    <tr>\n",
       "      <th>048d04a5-31e4-4adf-8e00-8257b3d128f2</th>\n",
       "      <td>1090</td>\n",
       "      <td>1090</td>\n",
       "      <td>1090</td>\n",
       "      <td>1090</td>\n",
       "      <td>1090</td>\n",
       "      <td>1090</td>\n",
       "      <td>0</td>\n",
       "      <td>0</td>\n",
       "      <td>0</td>\n",
       "      <td>0</td>\n",
       "      <td>0</td>\n",
       "      <td>0</td>\n",
       "      <td>1090</td>\n",
       "      <td>1090</td>\n",
       "    </tr>\n",
       "    <tr>\n",
       "      <th>0511c359-ab90-4395-a866-f0c29a25036f</th>\n",
       "      <td>1971</td>\n",
       "      <td>1971</td>\n",
       "      <td>1971</td>\n",
       "      <td>1971</td>\n",
       "      <td>1971</td>\n",
       "      <td>1971</td>\n",
       "      <td>308</td>\n",
       "      <td>308</td>\n",
       "      <td>308</td>\n",
       "      <td>308</td>\n",
       "      <td>308</td>\n",
       "      <td>308</td>\n",
       "      <td>2279</td>\n",
       "      <td>2279</td>\n",
       "    </tr>\n",
       "    <tr>\n",
       "      <th>05d14556-8391-4d92-be3b-501c9d4aee20</th>\n",
       "      <td>4</td>\n",
       "      <td>4</td>\n",
       "      <td>4</td>\n",
       "      <td>4</td>\n",
       "      <td>4</td>\n",
       "      <td>4</td>\n",
       "      <td>0</td>\n",
       "      <td>0</td>\n",
       "      <td>0</td>\n",
       "      <td>0</td>\n",
       "      <td>0</td>\n",
       "      <td>0</td>\n",
       "      <td>4</td>\n",
       "      <td>4</td>\n",
       "    </tr>\n",
       "  </tbody>\n",
       "</table>\n",
       "</div>"
      ],
      "text/plain": [
       "                                      StartPoint.X  StartPoint.Y  \\\n",
       "FileId                                                             \n",
       "006cb2dd-6f18-4203-8b70-fc865c08105a           368           368   \n",
       "006f290c-7280-491b-b7d7-971ed82de1a5           258           258   \n",
       "0100c16b-c7c9-4265-92b9-950bf5d2c9ec           147           147   \n",
       "013edfac-9865-4422-a5f2-3220d142116d           965           965   \n",
       "01ea3780-b297-4075-8a26-77461e995b7d          3360          3360   \n",
       "01f9cbe6-c14f-4dc0-817e-4d80380d4e26          1183          1183   \n",
       "02401882-a7cc-47ad-b8c2-c38eb9be323b           731           731   \n",
       "024be99c-0302-43b3-92b3-aa0aba5a376a           613           613   \n",
       "02580ab5-a831-4845-a46a-874a6fce6230           405           405   \n",
       "026c216c-8d4e-4b03-bca0-47e1286211f7          3964          3964   \n",
       "0323fe46-6856-4a65-9bd0-9dfe7805388a           459           459   \n",
       "03269695-2af6-41d1-ba41-fcf863b3f059          4390          4390   \n",
       "032ea8f0-ea69-41f8-9263-ec8b965f9a55           721           721   \n",
       "033199cc-1ef8-49f5-a92e-58a50ea8b9a8          4144          4144   \n",
       "04451949-017f-4fdb-a8d2-6ad06b73dfe7          1757          1757   \n",
       "046a75c3-b749-4ab3-930a-b9e8b27924a8           870           870   \n",
       "048d04a5-31e4-4adf-8e00-8257b3d128f2          1090          1090   \n",
       "0511c359-ab90-4395-a866-f0c29a25036f          1971          1971   \n",
       "05d14556-8391-4d92-be3b-501c9d4aee20             4             4   \n",
       "\n",
       "                                      StartPoint.Z  EndPoint.X  EndPoint.Y  \\\n",
       "FileId                                                                       \n",
       "006cb2dd-6f18-4203-8b70-fc865c08105a           368         368         368   \n",
       "006f290c-7280-491b-b7d7-971ed82de1a5           258         258         258   \n",
       "0100c16b-c7c9-4265-92b9-950bf5d2c9ec           147         147         147   \n",
       "013edfac-9865-4422-a5f2-3220d142116d           965         965         965   \n",
       "01ea3780-b297-4075-8a26-77461e995b7d          3360        3360        3360   \n",
       "01f9cbe6-c14f-4dc0-817e-4d80380d4e26          1183        1183        1183   \n",
       "02401882-a7cc-47ad-b8c2-c38eb9be323b           731         731         731   \n",
       "024be99c-0302-43b3-92b3-aa0aba5a376a           613         613         613   \n",
       "02580ab5-a831-4845-a46a-874a6fce6230           405         405         405   \n",
       "026c216c-8d4e-4b03-bca0-47e1286211f7          3964        3964        3964   \n",
       "0323fe46-6856-4a65-9bd0-9dfe7805388a           459         459         459   \n",
       "03269695-2af6-41d1-ba41-fcf863b3f059          4390        4390        4390   \n",
       "032ea8f0-ea69-41f8-9263-ec8b965f9a55           721         721         721   \n",
       "033199cc-1ef8-49f5-a92e-58a50ea8b9a8          4144        4144        4144   \n",
       "04451949-017f-4fdb-a8d2-6ad06b73dfe7          1757        1757        1757   \n",
       "046a75c3-b749-4ab3-930a-b9e8b27924a8           870         870         870   \n",
       "048d04a5-31e4-4adf-8e00-8257b3d128f2          1090        1090        1090   \n",
       "0511c359-ab90-4395-a866-f0c29a25036f          1971        1971        1971   \n",
       "05d14556-8391-4d92-be3b-501c9d4aee20             4           4           4   \n",
       "\n",
       "                                      EndPoint.Z  XLine1Point.X  \\\n",
       "FileId                                                            \n",
       "006cb2dd-6f18-4203-8b70-fc865c08105a         368              0   \n",
       "006f290c-7280-491b-b7d7-971ed82de1a5         258             42   \n",
       "0100c16b-c7c9-4265-92b9-950bf5d2c9ec         147              5   \n",
       "013edfac-9865-4422-a5f2-3220d142116d         965             66   \n",
       "01ea3780-b297-4075-8a26-77461e995b7d        3360             97   \n",
       "01f9cbe6-c14f-4dc0-817e-4d80380d4e26        1183              0   \n",
       "02401882-a7cc-47ad-b8c2-c38eb9be323b         731              0   \n",
       "024be99c-0302-43b3-92b3-aa0aba5a376a         613              0   \n",
       "02580ab5-a831-4845-a46a-874a6fce6230         405              0   \n",
       "026c216c-8d4e-4b03-bca0-47e1286211f7        3964             93   \n",
       "0323fe46-6856-4a65-9bd0-9dfe7805388a         459              0   \n",
       "03269695-2af6-41d1-ba41-fcf863b3f059        4390             16   \n",
       "032ea8f0-ea69-41f8-9263-ec8b965f9a55         721              1   \n",
       "033199cc-1ef8-49f5-a92e-58a50ea8b9a8        4144             80   \n",
       "04451949-017f-4fdb-a8d2-6ad06b73dfe7        1757              7   \n",
       "046a75c3-b749-4ab3-930a-b9e8b27924a8         870              0   \n",
       "048d04a5-31e4-4adf-8e00-8257b3d128f2        1090              0   \n",
       "0511c359-ab90-4395-a866-f0c29a25036f        1971            308   \n",
       "05d14556-8391-4d92-be3b-501c9d4aee20           4              0   \n",
       "\n",
       "                                      XLine1Point.Y  XLine1Point.Z  \\\n",
       "FileId                                                               \n",
       "006cb2dd-6f18-4203-8b70-fc865c08105a              0              0   \n",
       "006f290c-7280-491b-b7d7-971ed82de1a5             42             42   \n",
       "0100c16b-c7c9-4265-92b9-950bf5d2c9ec              5              5   \n",
       "013edfac-9865-4422-a5f2-3220d142116d             66             66   \n",
       "01ea3780-b297-4075-8a26-77461e995b7d             97             97   \n",
       "01f9cbe6-c14f-4dc0-817e-4d80380d4e26              0              0   \n",
       "02401882-a7cc-47ad-b8c2-c38eb9be323b              0              0   \n",
       "024be99c-0302-43b3-92b3-aa0aba5a376a              0              0   \n",
       "02580ab5-a831-4845-a46a-874a6fce6230              0              0   \n",
       "026c216c-8d4e-4b03-bca0-47e1286211f7             93             93   \n",
       "0323fe46-6856-4a65-9bd0-9dfe7805388a              0              0   \n",
       "03269695-2af6-41d1-ba41-fcf863b3f059             16             16   \n",
       "032ea8f0-ea69-41f8-9263-ec8b965f9a55              1              1   \n",
       "033199cc-1ef8-49f5-a92e-58a50ea8b9a8             80             80   \n",
       "04451949-017f-4fdb-a8d2-6ad06b73dfe7              7              7   \n",
       "046a75c3-b749-4ab3-930a-b9e8b27924a8              0              0   \n",
       "048d04a5-31e4-4adf-8e00-8257b3d128f2              0              0   \n",
       "0511c359-ab90-4395-a866-f0c29a25036f            308            308   \n",
       "05d14556-8391-4d92-be3b-501c9d4aee20              0              0   \n",
       "\n",
       "                                      XLine2Point.X  XLine2Point.Y  \\\n",
       "FileId                                                               \n",
       "006cb2dd-6f18-4203-8b70-fc865c08105a              0              0   \n",
       "006f290c-7280-491b-b7d7-971ed82de1a5             42             42   \n",
       "0100c16b-c7c9-4265-92b9-950bf5d2c9ec              5              5   \n",
       "013edfac-9865-4422-a5f2-3220d142116d             66             66   \n",
       "01ea3780-b297-4075-8a26-77461e995b7d             97             97   \n",
       "01f9cbe6-c14f-4dc0-817e-4d80380d4e26              0              0   \n",
       "02401882-a7cc-47ad-b8c2-c38eb9be323b              0              0   \n",
       "024be99c-0302-43b3-92b3-aa0aba5a376a              0              0   \n",
       "02580ab5-a831-4845-a46a-874a6fce6230              0              0   \n",
       "026c216c-8d4e-4b03-bca0-47e1286211f7             93             93   \n",
       "0323fe46-6856-4a65-9bd0-9dfe7805388a              0              0   \n",
       "03269695-2af6-41d1-ba41-fcf863b3f059             16             16   \n",
       "032ea8f0-ea69-41f8-9263-ec8b965f9a55              1              1   \n",
       "033199cc-1ef8-49f5-a92e-58a50ea8b9a8             80             80   \n",
       "04451949-017f-4fdb-a8d2-6ad06b73dfe7              7              7   \n",
       "046a75c3-b749-4ab3-930a-b9e8b27924a8              0              0   \n",
       "048d04a5-31e4-4adf-8e00-8257b3d128f2              0              0   \n",
       "0511c359-ab90-4395-a866-f0c29a25036f            308            308   \n",
       "05d14556-8391-4d92-be3b-501c9d4aee20              0              0   \n",
       "\n",
       "                                      XLine2Point.Z  ClassName  label  \n",
       "FileId                                                                 \n",
       "006cb2dd-6f18-4203-8b70-fc865c08105a              0        368    368  \n",
       "006f290c-7280-491b-b7d7-971ed82de1a5             42        300    300  \n",
       "0100c16b-c7c9-4265-92b9-950bf5d2c9ec              5        152    152  \n",
       "013edfac-9865-4422-a5f2-3220d142116d             66       1031   1031  \n",
       "01ea3780-b297-4075-8a26-77461e995b7d             97       3457   3457  \n",
       "01f9cbe6-c14f-4dc0-817e-4d80380d4e26              0       1183   1183  \n",
       "02401882-a7cc-47ad-b8c2-c38eb9be323b              0        731    731  \n",
       "024be99c-0302-43b3-92b3-aa0aba5a376a              0        613    613  \n",
       "02580ab5-a831-4845-a46a-874a6fce6230              0        405    405  \n",
       "026c216c-8d4e-4b03-bca0-47e1286211f7             93       4057   4057  \n",
       "0323fe46-6856-4a65-9bd0-9dfe7805388a              0        459    459  \n",
       "03269695-2af6-41d1-ba41-fcf863b3f059             16       4406   4406  \n",
       "032ea8f0-ea69-41f8-9263-ec8b965f9a55              1        722    722  \n",
       "033199cc-1ef8-49f5-a92e-58a50ea8b9a8             80       4224   4224  \n",
       "04451949-017f-4fdb-a8d2-6ad06b73dfe7              7       1764   1764  \n",
       "046a75c3-b749-4ab3-930a-b9e8b27924a8              0        870    870  \n",
       "048d04a5-31e4-4adf-8e00-8257b3d128f2              0       1090   1090  \n",
       "0511c359-ab90-4395-a866-f0c29a25036f            308       2279   2279  \n",
       "05d14556-8391-4d92-be3b-501c9d4aee20              0          4      4  "
      ]
     },
     "execution_count": 11,
     "metadata": {},
     "output_type": "execute_result"
    }
   ],
   "source": [
    "df.drop(df[df[\"label\"] == -1].index).groupby(['FileId']).count()"
   ]
  },
  {
   "cell_type": "code",
   "execution_count": 12,
   "metadata": {},
   "outputs": [],
   "source": [
    "df.to_pickle('test_dataset_cluster_labeled.pickle')"
   ]
  },
  {
   "cell_type": "markdown",
   "metadata": {},
   "source": [
    "# Test classes to work with data"
   ]
  },
  {
   "cell_type": "code",
   "execution_count": 13,
   "metadata": {},
   "outputs": [],
   "source": [
    "from torch.utils.data import Dataset, SubsetRandomSampler\n",
    "from dataset import EntityDataset\n"
   ]
  },
  {
   "cell_type": "code",
   "execution_count": 14,
   "metadata": {},
   "outputs": [
    {
     "name": "stdout",
     "output_type": "stream",
     "text": [
      "torch.Size([156, 4]) tensor([[0., 0., 0., 0.]])\n",
      "torch.Size([175, 4]) tensor([[0., 0., 0., 0.]])\n"
     ]
    }
   ],
   "source": [
    "d = pd.read_pickle('test_dataset_cluster_labeled.pickle')\n",
    "\n",
    "for x,y in EntityDataset(d)[:2]:\n",
    "    print(x.shape,y)\n",
    "    "
   ]
  },
  {
   "cell_type": "code",
   "execution_count": 15,
   "metadata": {},
   "outputs": [],
   "source": [
    "from dataset import DwgDataset"
   ]
  },
  {
   "cell_type": "code",
   "execution_count": 16,
   "metadata": {},
   "outputs": [],
   "source": [
    "dwg_dataset = DwgDataset('test_dataset_cluster_labeled.pickle', batch_size = 4)"
   ]
  },
  {
   "cell_type": "code",
   "execution_count": 17,
   "metadata": {},
   "outputs": [
    {
     "data": {
      "text/html": [
       "<div>\n",
       "<style scoped>\n",
       "    .dataframe tbody tr th:only-of-type {\n",
       "        vertical-align: middle;\n",
       "    }\n",
       "\n",
       "    .dataframe tbody tr th {\n",
       "        vertical-align: top;\n",
       "    }\n",
       "\n",
       "    .dataframe thead th {\n",
       "        text-align: right;\n",
       "    }\n",
       "</style>\n",
       "<table border=\"1\" class=\"dataframe\">\n",
       "  <thead>\n",
       "    <tr style=\"text-align: right;\">\n",
       "      <th></th>\n",
       "      <th>StartPoint.X</th>\n",
       "      <th>StartPoint.Y</th>\n",
       "      <th>StartPoint.Z</th>\n",
       "      <th>EndPoint.X</th>\n",
       "      <th>EndPoint.Y</th>\n",
       "      <th>EndPoint.Z</th>\n",
       "      <th>XLine1Point.X</th>\n",
       "      <th>XLine1Point.Y</th>\n",
       "      <th>XLine1Point.Z</th>\n",
       "      <th>XLine2Point.X</th>\n",
       "      <th>XLine2Point.Y</th>\n",
       "      <th>XLine2Point.Z</th>\n",
       "      <th>ClassName</th>\n",
       "      <th>label</th>\n",
       "    </tr>\n",
       "    <tr>\n",
       "      <th>FileId</th>\n",
       "      <th></th>\n",
       "      <th></th>\n",
       "      <th></th>\n",
       "      <th></th>\n",
       "      <th></th>\n",
       "      <th></th>\n",
       "      <th></th>\n",
       "      <th></th>\n",
       "      <th></th>\n",
       "      <th></th>\n",
       "      <th></th>\n",
       "      <th></th>\n",
       "      <th></th>\n",
       "      <th></th>\n",
       "    </tr>\n",
       "  </thead>\n",
       "  <tbody>\n",
       "    <tr>\n",
       "      <th>006cb2dd-6f18-4203-8b70-fc865c08105a</th>\n",
       "      <td>305.524811</td>\n",
       "      <td>375.715511</td>\n",
       "      <td>0.000000e+00</td>\n",
       "      <td>321.932976</td>\n",
       "      <td>385.744292</td>\n",
       "      <td>0.000000e+00</td>\n",
       "      <td>NaN</td>\n",
       "      <td>NaN</td>\n",
       "      <td>NaN</td>\n",
       "      <td>NaN</td>\n",
       "      <td>NaN</td>\n",
       "      <td>NaN</td>\n",
       "      <td>AcDbLine</td>\n",
       "      <td>7</td>\n",
       "    </tr>\n",
       "    <tr>\n",
       "      <th>006f290c-7280-491b-b7d7-971ed82de1a5</th>\n",
       "      <td>332.856091</td>\n",
       "      <td>370.759538</td>\n",
       "      <td>0.000000e+00</td>\n",
       "      <td>335.904609</td>\n",
       "      <td>370.759538</td>\n",
       "      <td>0.000000e+00</td>\n",
       "      <td>309.156520</td>\n",
       "      <td>359.782460</td>\n",
       "      <td>0.000000</td>\n",
       "      <td>309.156520</td>\n",
       "      <td>349.096450</td>\n",
       "      <td>0.000000</td>\n",
       "      <td>AcDbRotatedDimension</td>\n",
       "      <td>3</td>\n",
       "    </tr>\n",
       "    <tr>\n",
       "      <th>0100c16b-c7c9-4265-92b9-950bf5d2c9ec</th>\n",
       "      <td>288.335611</td>\n",
       "      <td>371.281876</td>\n",
       "      <td>0.000000e+00</td>\n",
       "      <td>287.379377</td>\n",
       "      <td>371.281876</td>\n",
       "      <td>0.000000e+00</td>\n",
       "      <td>284.507443</td>\n",
       "      <td>301.949646</td>\n",
       "      <td>0.000000</td>\n",
       "      <td>287.379377</td>\n",
       "      <td>327.030091</td>\n",
       "      <td>0.000000</td>\n",
       "      <td>AcDbRotatedDimension</td>\n",
       "      <td>5</td>\n",
       "    </tr>\n",
       "    <tr>\n",
       "      <th>013edfac-9865-4422-a5f2-3220d142116d</th>\n",
       "      <td>414.999914</td>\n",
       "      <td>284.153662</td>\n",
       "      <td>0.000000e+00</td>\n",
       "      <td>414.999914</td>\n",
       "      <td>284.153662</td>\n",
       "      <td>0.000000e+00</td>\n",
       "      <td>335.444594</td>\n",
       "      <td>244.720256</td>\n",
       "      <td>0.000000</td>\n",
       "      <td>335.444594</td>\n",
       "      <td>244.720256</td>\n",
       "      <td>0.000000</td>\n",
       "      <td>AcDbRotatedDimension</td>\n",
       "      <td>19</td>\n",
       "    </tr>\n",
       "    <tr>\n",
       "      <th>01ea3780-b297-4075-8a26-77461e995b7d</th>\n",
       "      <td>67222.979413</td>\n",
       "      <td>234874.957020</td>\n",
       "      <td>0.000000e+00</td>\n",
       "      <td>67226.163946</td>\n",
       "      <td>234874.957020</td>\n",
       "      <td>0.000000e+00</td>\n",
       "      <td>28357.007692</td>\n",
       "      <td>-2548.199969</td>\n",
       "      <td>0.000000</td>\n",
       "      <td>28357.007692</td>\n",
       "      <td>-2543.607201</td>\n",
       "      <td>0.000000</td>\n",
       "      <td>AcDbRotatedDimension</td>\n",
       "      <td>45</td>\n",
       "    </tr>\n",
       "    <tr>\n",
       "      <th>01f9cbe6-c14f-4dc0-817e-4d80380d4e26</th>\n",
       "      <td>607.444287</td>\n",
       "      <td>566.179128</td>\n",
       "      <td>0.000000e+00</td>\n",
       "      <td>613.227656</td>\n",
       "      <td>566.179128</td>\n",
       "      <td>0.000000e+00</td>\n",
       "      <td>NaN</td>\n",
       "      <td>NaN</td>\n",
       "      <td>NaN</td>\n",
       "      <td>NaN</td>\n",
       "      <td>NaN</td>\n",
       "      <td>NaN</td>\n",
       "      <td>AcDbLine</td>\n",
       "      <td>57</td>\n",
       "    </tr>\n",
       "    <tr>\n",
       "      <th>02401882-a7cc-47ad-b8c2-c38eb9be323b</th>\n",
       "      <td>388.977164</td>\n",
       "      <td>356.388332</td>\n",
       "      <td>0.000000e+00</td>\n",
       "      <td>388.977164</td>\n",
       "      <td>374.792547</td>\n",
       "      <td>0.000000e+00</td>\n",
       "      <td>NaN</td>\n",
       "      <td>NaN</td>\n",
       "      <td>NaN</td>\n",
       "      <td>NaN</td>\n",
       "      <td>NaN</td>\n",
       "      <td>NaN</td>\n",
       "      <td>AcDbLine</td>\n",
       "      <td>12</td>\n",
       "    </tr>\n",
       "    <tr>\n",
       "      <th>024be99c-0302-43b3-92b3-aa0aba5a376a</th>\n",
       "      <td>604.123020</td>\n",
       "      <td>528.851787</td>\n",
       "      <td>0.000000e+00</td>\n",
       "      <td>620.720738</td>\n",
       "      <td>532.314570</td>\n",
       "      <td>0.000000e+00</td>\n",
       "      <td>NaN</td>\n",
       "      <td>NaN</td>\n",
       "      <td>NaN</td>\n",
       "      <td>NaN</td>\n",
       "      <td>NaN</td>\n",
       "      <td>NaN</td>\n",
       "      <td>AcDbLine</td>\n",
       "      <td>31</td>\n",
       "    </tr>\n",
       "    <tr>\n",
       "      <th>02580ab5-a831-4845-a46a-874a6fce6230</th>\n",
       "      <td>512.795856</td>\n",
       "      <td>546.716334</td>\n",
       "      <td>0.000000e+00</td>\n",
       "      <td>587.795856</td>\n",
       "      <td>548.716334</td>\n",
       "      <td>0.000000e+00</td>\n",
       "      <td>NaN</td>\n",
       "      <td>NaN</td>\n",
       "      <td>NaN</td>\n",
       "      <td>NaN</td>\n",
       "      <td>NaN</td>\n",
       "      <td>NaN</td>\n",
       "      <td>AcDbLine</td>\n",
       "      <td>17</td>\n",
       "    </tr>\n",
       "    <tr>\n",
       "      <th>026c216c-8d4e-4b03-bca0-47e1286211f7</th>\n",
       "      <td>824.516559</td>\n",
       "      <td>561.241307</td>\n",
       "      <td>1.687183e+02</td>\n",
       "      <td>822.308175</td>\n",
       "      <td>574.883985</td>\n",
       "      <td>1.687183e+02</td>\n",
       "      <td>684.593242</td>\n",
       "      <td>560.196816</td>\n",
       "      <td>68.718314</td>\n",
       "      <td>686.168242</td>\n",
       "      <td>551.207767</td>\n",
       "      <td>148.972694</td>\n",
       "      <td>AcDbRotatedDimension</td>\n",
       "      <td>39</td>\n",
       "    </tr>\n",
       "    <tr>\n",
       "      <th>0323fe46-6856-4a65-9bd0-9dfe7805388a</th>\n",
       "      <td>790.027996</td>\n",
       "      <td>531.900766</td>\n",
       "      <td>0.000000e+00</td>\n",
       "      <td>804.301968</td>\n",
       "      <td>551.900766</td>\n",
       "      <td>0.000000e+00</td>\n",
       "      <td>NaN</td>\n",
       "      <td>NaN</td>\n",
       "      <td>NaN</td>\n",
       "      <td>NaN</td>\n",
       "      <td>NaN</td>\n",
       "      <td>NaN</td>\n",
       "      <td>AcDbLine</td>\n",
       "      <td>19</td>\n",
       "    </tr>\n",
       "    <tr>\n",
       "      <th>03269695-2af6-41d1-ba41-fcf863b3f059</th>\n",
       "      <td>35.059102</td>\n",
       "      <td>25.199139</td>\n",
       "      <td>0.000000e+00</td>\n",
       "      <td>35.059102</td>\n",
       "      <td>25.199139</td>\n",
       "      <td>0.000000e+00</td>\n",
       "      <td>26.190000</td>\n",
       "      <td>24.260000</td>\n",
       "      <td>0.000000</td>\n",
       "      <td>26.190000</td>\n",
       "      <td>24.260000</td>\n",
       "      <td>0.000000</td>\n",
       "      <td>AcDbRotatedDimension</td>\n",
       "      <td>0</td>\n",
       "    </tr>\n",
       "    <tr>\n",
       "      <th>032ea8f0-ea69-41f8-9263-ec8b965f9a55</th>\n",
       "      <td>481.724514</td>\n",
       "      <td>402.881679</td>\n",
       "      <td>0.000000e+00</td>\n",
       "      <td>589.000001</td>\n",
       "      <td>402.881679</td>\n",
       "      <td>0.000000e+00</td>\n",
       "      <td>278.778331</td>\n",
       "      <td>103.482623</td>\n",
       "      <td>0.000000</td>\n",
       "      <td>278.778331</td>\n",
       "      <td>110.773170</td>\n",
       "      <td>0.000000</td>\n",
       "      <td>AcDbRotatedDimension</td>\n",
       "      <td>18</td>\n",
       "    </tr>\n",
       "    <tr>\n",
       "      <th>033199cc-1ef8-49f5-a92e-58a50ea8b9a8</th>\n",
       "      <td>774.150510</td>\n",
       "      <td>574.398905</td>\n",
       "      <td>4.897269e+01</td>\n",
       "      <td>774.150510</td>\n",
       "      <td>580.151698</td>\n",
       "      <td>4.897269e+01</td>\n",
       "      <td>774.150510</td>\n",
       "      <td>561.133884</td>\n",
       "      <td>0.000000</td>\n",
       "      <td>755.121083</td>\n",
       "      <td>561.133884</td>\n",
       "      <td>0.000000</td>\n",
       "      <td>AcDbRotatedDimension</td>\n",
       "      <td>39</td>\n",
       "    </tr>\n",
       "    <tr>\n",
       "      <th>04451949-017f-4fdb-a8d2-6ad06b73dfe7</th>\n",
       "      <td>189457.151093</td>\n",
       "      <td>56488.304030</td>\n",
       "      <td>2.289004e-28</td>\n",
       "      <td>189457.151093</td>\n",
       "      <td>57388.304030</td>\n",
       "      <td>2.289004e-28</td>\n",
       "      <td>1203.190797</td>\n",
       "      <td>657.568434</td>\n",
       "      <td>0.000000</td>\n",
       "      <td>1206.524131</td>\n",
       "      <td>660.901768</td>\n",
       "      <td>0.000000</td>\n",
       "      <td>AcDbRotatedDimension</td>\n",
       "      <td>458</td>\n",
       "    </tr>\n",
       "    <tr>\n",
       "      <th>046a75c3-b749-4ab3-930a-b9e8b27924a8</th>\n",
       "      <td>592.738311</td>\n",
       "      <td>545.294367</td>\n",
       "      <td>0.000000e+00</td>\n",
       "      <td>627.263068</td>\n",
       "      <td>545.294367</td>\n",
       "      <td>0.000000e+00</td>\n",
       "      <td>NaN</td>\n",
       "      <td>NaN</td>\n",
       "      <td>NaN</td>\n",
       "      <td>NaN</td>\n",
       "      <td>NaN</td>\n",
       "      <td>NaN</td>\n",
       "      <td>AcDbLine</td>\n",
       "      <td>30</td>\n",
       "    </tr>\n",
       "    <tr>\n",
       "      <th>048d04a5-31e4-4adf-8e00-8257b3d128f2</th>\n",
       "      <td>758.647772</td>\n",
       "      <td>515.874869</td>\n",
       "      <td>1.917879e-28</td>\n",
       "      <td>757.827772</td>\n",
       "      <td>515.874869</td>\n",
       "      <td>6.408114e-29</td>\n",
       "      <td>NaN</td>\n",
       "      <td>NaN</td>\n",
       "      <td>NaN</td>\n",
       "      <td>NaN</td>\n",
       "      <td>NaN</td>\n",
       "      <td>NaN</td>\n",
       "      <td>AcDbLine</td>\n",
       "      <td>12</td>\n",
       "    </tr>\n",
       "    <tr>\n",
       "      <th>0511c359-ab90-4395-a866-f0c29a25036f</th>\n",
       "      <td>5880.282307</td>\n",
       "      <td>2554.000000</td>\n",
       "      <td>0.000000e+00</td>\n",
       "      <td>5928.270914</td>\n",
       "      <td>2554.000000</td>\n",
       "      <td>0.000000e+00</td>\n",
       "      <td>5850.282307</td>\n",
       "      <td>2554.000000</td>\n",
       "      <td>0.000000</td>\n",
       "      <td>5880.282307</td>\n",
       "      <td>2574.435376</td>\n",
       "      <td>0.000000</td>\n",
       "      <td>AcDbRotatedDimension</td>\n",
       "      <td>324</td>\n",
       "    </tr>\n",
       "    <tr>\n",
       "      <th>05d14556-8391-4d92-be3b-501c9d4aee20</th>\n",
       "      <td>214419.228789</td>\n",
       "      <td>-403178.266522</td>\n",
       "      <td>0.000000e+00</td>\n",
       "      <td>214451.590969</td>\n",
       "      <td>-403178.266522</td>\n",
       "      <td>0.000000e+00</td>\n",
       "      <td>NaN</td>\n",
       "      <td>NaN</td>\n",
       "      <td>NaN</td>\n",
       "      <td>NaN</td>\n",
       "      <td>NaN</td>\n",
       "      <td>NaN</td>\n",
       "      <td>AcDbLine</td>\n",
       "      <td>0</td>\n",
       "    </tr>\n",
       "  </tbody>\n",
       "</table>\n",
       "</div>"
      ],
      "text/plain": [
       "                                       StartPoint.X   StartPoint.Y  \\\n",
       "FileId                                                               \n",
       "006cb2dd-6f18-4203-8b70-fc865c08105a     305.524811     375.715511   \n",
       "006f290c-7280-491b-b7d7-971ed82de1a5     332.856091     370.759538   \n",
       "0100c16b-c7c9-4265-92b9-950bf5d2c9ec     288.335611     371.281876   \n",
       "013edfac-9865-4422-a5f2-3220d142116d     414.999914     284.153662   \n",
       "01ea3780-b297-4075-8a26-77461e995b7d   67222.979413  234874.957020   \n",
       "01f9cbe6-c14f-4dc0-817e-4d80380d4e26     607.444287     566.179128   \n",
       "02401882-a7cc-47ad-b8c2-c38eb9be323b     388.977164     356.388332   \n",
       "024be99c-0302-43b3-92b3-aa0aba5a376a     604.123020     528.851787   \n",
       "02580ab5-a831-4845-a46a-874a6fce6230     512.795856     546.716334   \n",
       "026c216c-8d4e-4b03-bca0-47e1286211f7     824.516559     561.241307   \n",
       "0323fe46-6856-4a65-9bd0-9dfe7805388a     790.027996     531.900766   \n",
       "03269695-2af6-41d1-ba41-fcf863b3f059      35.059102      25.199139   \n",
       "032ea8f0-ea69-41f8-9263-ec8b965f9a55     481.724514     402.881679   \n",
       "033199cc-1ef8-49f5-a92e-58a50ea8b9a8     774.150510     574.398905   \n",
       "04451949-017f-4fdb-a8d2-6ad06b73dfe7  189457.151093   56488.304030   \n",
       "046a75c3-b749-4ab3-930a-b9e8b27924a8     592.738311     545.294367   \n",
       "048d04a5-31e4-4adf-8e00-8257b3d128f2     758.647772     515.874869   \n",
       "0511c359-ab90-4395-a866-f0c29a25036f    5880.282307    2554.000000   \n",
       "05d14556-8391-4d92-be3b-501c9d4aee20  214419.228789 -403178.266522   \n",
       "\n",
       "                                      StartPoint.Z     EndPoint.X  \\\n",
       "FileId                                                              \n",
       "006cb2dd-6f18-4203-8b70-fc865c08105a  0.000000e+00     321.932976   \n",
       "006f290c-7280-491b-b7d7-971ed82de1a5  0.000000e+00     335.904609   \n",
       "0100c16b-c7c9-4265-92b9-950bf5d2c9ec  0.000000e+00     287.379377   \n",
       "013edfac-9865-4422-a5f2-3220d142116d  0.000000e+00     414.999914   \n",
       "01ea3780-b297-4075-8a26-77461e995b7d  0.000000e+00   67226.163946   \n",
       "01f9cbe6-c14f-4dc0-817e-4d80380d4e26  0.000000e+00     613.227656   \n",
       "02401882-a7cc-47ad-b8c2-c38eb9be323b  0.000000e+00     388.977164   \n",
       "024be99c-0302-43b3-92b3-aa0aba5a376a  0.000000e+00     620.720738   \n",
       "02580ab5-a831-4845-a46a-874a6fce6230  0.000000e+00     587.795856   \n",
       "026c216c-8d4e-4b03-bca0-47e1286211f7  1.687183e+02     822.308175   \n",
       "0323fe46-6856-4a65-9bd0-9dfe7805388a  0.000000e+00     804.301968   \n",
       "03269695-2af6-41d1-ba41-fcf863b3f059  0.000000e+00      35.059102   \n",
       "032ea8f0-ea69-41f8-9263-ec8b965f9a55  0.000000e+00     589.000001   \n",
       "033199cc-1ef8-49f5-a92e-58a50ea8b9a8  4.897269e+01     774.150510   \n",
       "04451949-017f-4fdb-a8d2-6ad06b73dfe7  2.289004e-28  189457.151093   \n",
       "046a75c3-b749-4ab3-930a-b9e8b27924a8  0.000000e+00     627.263068   \n",
       "048d04a5-31e4-4adf-8e00-8257b3d128f2  1.917879e-28     757.827772   \n",
       "0511c359-ab90-4395-a866-f0c29a25036f  0.000000e+00    5928.270914   \n",
       "05d14556-8391-4d92-be3b-501c9d4aee20  0.000000e+00  214451.590969   \n",
       "\n",
       "                                         EndPoint.Y    EndPoint.Z  \\\n",
       "FileId                                                              \n",
       "006cb2dd-6f18-4203-8b70-fc865c08105a     385.744292  0.000000e+00   \n",
       "006f290c-7280-491b-b7d7-971ed82de1a5     370.759538  0.000000e+00   \n",
       "0100c16b-c7c9-4265-92b9-950bf5d2c9ec     371.281876  0.000000e+00   \n",
       "013edfac-9865-4422-a5f2-3220d142116d     284.153662  0.000000e+00   \n",
       "01ea3780-b297-4075-8a26-77461e995b7d  234874.957020  0.000000e+00   \n",
       "01f9cbe6-c14f-4dc0-817e-4d80380d4e26     566.179128  0.000000e+00   \n",
       "02401882-a7cc-47ad-b8c2-c38eb9be323b     374.792547  0.000000e+00   \n",
       "024be99c-0302-43b3-92b3-aa0aba5a376a     532.314570  0.000000e+00   \n",
       "02580ab5-a831-4845-a46a-874a6fce6230     548.716334  0.000000e+00   \n",
       "026c216c-8d4e-4b03-bca0-47e1286211f7     574.883985  1.687183e+02   \n",
       "0323fe46-6856-4a65-9bd0-9dfe7805388a     551.900766  0.000000e+00   \n",
       "03269695-2af6-41d1-ba41-fcf863b3f059      25.199139  0.000000e+00   \n",
       "032ea8f0-ea69-41f8-9263-ec8b965f9a55     402.881679  0.000000e+00   \n",
       "033199cc-1ef8-49f5-a92e-58a50ea8b9a8     580.151698  4.897269e+01   \n",
       "04451949-017f-4fdb-a8d2-6ad06b73dfe7   57388.304030  2.289004e-28   \n",
       "046a75c3-b749-4ab3-930a-b9e8b27924a8     545.294367  0.000000e+00   \n",
       "048d04a5-31e4-4adf-8e00-8257b3d128f2     515.874869  6.408114e-29   \n",
       "0511c359-ab90-4395-a866-f0c29a25036f    2554.000000  0.000000e+00   \n",
       "05d14556-8391-4d92-be3b-501c9d4aee20 -403178.266522  0.000000e+00   \n",
       "\n",
       "                                      XLine1Point.X  XLine1Point.Y  \\\n",
       "FileId                                                               \n",
       "006cb2dd-6f18-4203-8b70-fc865c08105a            NaN            NaN   \n",
       "006f290c-7280-491b-b7d7-971ed82de1a5     309.156520     359.782460   \n",
       "0100c16b-c7c9-4265-92b9-950bf5d2c9ec     284.507443     301.949646   \n",
       "013edfac-9865-4422-a5f2-3220d142116d     335.444594     244.720256   \n",
       "01ea3780-b297-4075-8a26-77461e995b7d   28357.007692   -2548.199969   \n",
       "01f9cbe6-c14f-4dc0-817e-4d80380d4e26            NaN            NaN   \n",
       "02401882-a7cc-47ad-b8c2-c38eb9be323b            NaN            NaN   \n",
       "024be99c-0302-43b3-92b3-aa0aba5a376a            NaN            NaN   \n",
       "02580ab5-a831-4845-a46a-874a6fce6230            NaN            NaN   \n",
       "026c216c-8d4e-4b03-bca0-47e1286211f7     684.593242     560.196816   \n",
       "0323fe46-6856-4a65-9bd0-9dfe7805388a            NaN            NaN   \n",
       "03269695-2af6-41d1-ba41-fcf863b3f059      26.190000      24.260000   \n",
       "032ea8f0-ea69-41f8-9263-ec8b965f9a55     278.778331     103.482623   \n",
       "033199cc-1ef8-49f5-a92e-58a50ea8b9a8     774.150510     561.133884   \n",
       "04451949-017f-4fdb-a8d2-6ad06b73dfe7    1203.190797     657.568434   \n",
       "046a75c3-b749-4ab3-930a-b9e8b27924a8            NaN            NaN   \n",
       "048d04a5-31e4-4adf-8e00-8257b3d128f2            NaN            NaN   \n",
       "0511c359-ab90-4395-a866-f0c29a25036f    5850.282307    2554.000000   \n",
       "05d14556-8391-4d92-be3b-501c9d4aee20            NaN            NaN   \n",
       "\n",
       "                                      XLine1Point.Z  XLine2Point.X  \\\n",
       "FileId                                                               \n",
       "006cb2dd-6f18-4203-8b70-fc865c08105a            NaN            NaN   \n",
       "006f290c-7280-491b-b7d7-971ed82de1a5       0.000000     309.156520   \n",
       "0100c16b-c7c9-4265-92b9-950bf5d2c9ec       0.000000     287.379377   \n",
       "013edfac-9865-4422-a5f2-3220d142116d       0.000000     335.444594   \n",
       "01ea3780-b297-4075-8a26-77461e995b7d       0.000000   28357.007692   \n",
       "01f9cbe6-c14f-4dc0-817e-4d80380d4e26            NaN            NaN   \n",
       "02401882-a7cc-47ad-b8c2-c38eb9be323b            NaN            NaN   \n",
       "024be99c-0302-43b3-92b3-aa0aba5a376a            NaN            NaN   \n",
       "02580ab5-a831-4845-a46a-874a6fce6230            NaN            NaN   \n",
       "026c216c-8d4e-4b03-bca0-47e1286211f7      68.718314     686.168242   \n",
       "0323fe46-6856-4a65-9bd0-9dfe7805388a            NaN            NaN   \n",
       "03269695-2af6-41d1-ba41-fcf863b3f059       0.000000      26.190000   \n",
       "032ea8f0-ea69-41f8-9263-ec8b965f9a55       0.000000     278.778331   \n",
       "033199cc-1ef8-49f5-a92e-58a50ea8b9a8       0.000000     755.121083   \n",
       "04451949-017f-4fdb-a8d2-6ad06b73dfe7       0.000000    1206.524131   \n",
       "046a75c3-b749-4ab3-930a-b9e8b27924a8            NaN            NaN   \n",
       "048d04a5-31e4-4adf-8e00-8257b3d128f2            NaN            NaN   \n",
       "0511c359-ab90-4395-a866-f0c29a25036f       0.000000    5880.282307   \n",
       "05d14556-8391-4d92-be3b-501c9d4aee20            NaN            NaN   \n",
       "\n",
       "                                      XLine2Point.Y  XLine2Point.Z  \\\n",
       "FileId                                                               \n",
       "006cb2dd-6f18-4203-8b70-fc865c08105a            NaN            NaN   \n",
       "006f290c-7280-491b-b7d7-971ed82de1a5     349.096450       0.000000   \n",
       "0100c16b-c7c9-4265-92b9-950bf5d2c9ec     327.030091       0.000000   \n",
       "013edfac-9865-4422-a5f2-3220d142116d     244.720256       0.000000   \n",
       "01ea3780-b297-4075-8a26-77461e995b7d   -2543.607201       0.000000   \n",
       "01f9cbe6-c14f-4dc0-817e-4d80380d4e26            NaN            NaN   \n",
       "02401882-a7cc-47ad-b8c2-c38eb9be323b            NaN            NaN   \n",
       "024be99c-0302-43b3-92b3-aa0aba5a376a            NaN            NaN   \n",
       "02580ab5-a831-4845-a46a-874a6fce6230            NaN            NaN   \n",
       "026c216c-8d4e-4b03-bca0-47e1286211f7     551.207767     148.972694   \n",
       "0323fe46-6856-4a65-9bd0-9dfe7805388a            NaN            NaN   \n",
       "03269695-2af6-41d1-ba41-fcf863b3f059      24.260000       0.000000   \n",
       "032ea8f0-ea69-41f8-9263-ec8b965f9a55     110.773170       0.000000   \n",
       "033199cc-1ef8-49f5-a92e-58a50ea8b9a8     561.133884       0.000000   \n",
       "04451949-017f-4fdb-a8d2-6ad06b73dfe7     660.901768       0.000000   \n",
       "046a75c3-b749-4ab3-930a-b9e8b27924a8            NaN            NaN   \n",
       "048d04a5-31e4-4adf-8e00-8257b3d128f2            NaN            NaN   \n",
       "0511c359-ab90-4395-a866-f0c29a25036f    2574.435376       0.000000   \n",
       "05d14556-8391-4d92-be3b-501c9d4aee20            NaN            NaN   \n",
       "\n",
       "                                                 ClassName  label  \n",
       "FileId                                                             \n",
       "006cb2dd-6f18-4203-8b70-fc865c08105a              AcDbLine      7  \n",
       "006f290c-7280-491b-b7d7-971ed82de1a5  AcDbRotatedDimension      3  \n",
       "0100c16b-c7c9-4265-92b9-950bf5d2c9ec  AcDbRotatedDimension      5  \n",
       "013edfac-9865-4422-a5f2-3220d142116d  AcDbRotatedDimension     19  \n",
       "01ea3780-b297-4075-8a26-77461e995b7d  AcDbRotatedDimension     45  \n",
       "01f9cbe6-c14f-4dc0-817e-4d80380d4e26              AcDbLine     57  \n",
       "02401882-a7cc-47ad-b8c2-c38eb9be323b              AcDbLine     12  \n",
       "024be99c-0302-43b3-92b3-aa0aba5a376a              AcDbLine     31  \n",
       "02580ab5-a831-4845-a46a-874a6fce6230              AcDbLine     17  \n",
       "026c216c-8d4e-4b03-bca0-47e1286211f7  AcDbRotatedDimension     39  \n",
       "0323fe46-6856-4a65-9bd0-9dfe7805388a              AcDbLine     19  \n",
       "03269695-2af6-41d1-ba41-fcf863b3f059  AcDbRotatedDimension      0  \n",
       "032ea8f0-ea69-41f8-9263-ec8b965f9a55  AcDbRotatedDimension     18  \n",
       "033199cc-1ef8-49f5-a92e-58a50ea8b9a8  AcDbRotatedDimension     39  \n",
       "04451949-017f-4fdb-a8d2-6ad06b73dfe7  AcDbRotatedDimension    458  \n",
       "046a75c3-b749-4ab3-930a-b9e8b27924a8              AcDbLine     30  \n",
       "048d04a5-31e4-4adf-8e00-8257b3d128f2              AcDbLine     12  \n",
       "0511c359-ab90-4395-a866-f0c29a25036f  AcDbRotatedDimension    324  \n",
       "05d14556-8391-4d92-be3b-501c9d4aee20              AcDbLine      0  "
      ]
     },
     "execution_count": 17,
     "metadata": {},
     "output_type": "execute_result"
    }
   ],
   "source": [
    "dwg_dataset.entities.data_frame.groupby(['FileId']).max()"
   ]
  },
  {
   "cell_type": "code",
   "execution_count": 23,
   "metadata": {},
   "outputs": [
    {
     "name": "stdout",
     "output_type": "stream",
     "text": [
      "id: 006f290c-7280-491b-b7d7-971ed82de1a5 entities: 110\n"
     ]
    },
    {
     "data": {
      "image/png": "[encoded data removed]",
      "text/plain": [
       "<drawSvg.raster.Raster at 0x7ff5cd71ee90>"
      ]
     },
     "metadata": {},
     "output_type": "display_data"
    },
    {
     "name": "stdout",
     "output_type": "stream",
     "text": [
      "id: 006f290c-7280-491b-b7d7-971ed82de1a5 entities: 86\n"
     ]
    },
    {
     "data": {
      "image/png": "[encoded data removed]",
      "text/plain": [
       "<drawSvg.raster.Raster at 0x7ff5cd737850>"
      ]
     },
     "metadata": {},
     "output_type": "display_data"
    },
    {
     "name": "stdout",
     "output_type": "stream",
     "text": [
      "id: 006f290c-7280-491b-b7d7-971ed82de1a5 entities: 42\n"
     ]
    },
    {
     "data": {
      "image/png": "[encoded data removed]",
      "text/plain": [
       "<drawSvg.raster.Raster at 0x7ff5cd7e5550>"
      ]
     },
     "metadata": {},
     "output_type": "display_data"
    },
    {
     "name": "stdout",
     "output_type": "stream",
     "text": [
      "id: 006f290c-7280-491b-b7d7-971ed82de1a5 entities: 62\n"
     ]
    },
    {
     "data": {
      "image/png": "[encoded data removed]",
      "text/plain": [
       "<drawSvg.raster.Raster at 0x7ff5cd70a790>"
      ]
     },
     "metadata": {},
     "output_type": "display_data"
    }
   ],
   "source": [
    "from IPython.display import Image\n",
    "from IPython.display import clear_output\n",
    "from plot_graphics import generate_file\n",
    "    \n",
    "g = dwg_dataset.entities.data_frame.groupby(['FileId', 'label'])\n",
    "for kkk in list(g.groups.keys()):\n",
    "    if kkk[0] in ['006f290c-7280-491b-b7d7-971ed82de1a5', '006f290c-7280-491b-b7d7-971ed82de1a5']:\n",
    "        chunk = g.get_group(kkk)\n",
    "        dr = generate_file(chunk, save_file=False, verbose=False)\n",
    "        display(dr)"
   ]
  },
  {
   "cell_type": "code",
   "execution_count": 25,
   "metadata": {},
   "outputs": [
    {
     "name": "stdout",
     "output_type": "stream",
     "text": [
      "entities: 36\n"
     ]
    },
    {
     "data": {
      "image/png": "[encoded data removed]",
      "text/plain": [
       "<drawSvg.raster.Raster at 0x7ff5cd7c4210>"
      ]
     },
     "metadata": {},
     "output_type": "display_data"
    },
    {
     "name": "stdout",
     "output_type": "stream",
     "text": [
      "entities: 13\n"
     ]
    },
    {
     "data": {
      "image/png": "[encoded data removed]",
      "text/plain": [
       "<drawSvg.raster.Raster at 0x7ff5ce905e50>"
      ]
     },
     "metadata": {},
     "output_type": "display_data"
    },
    {
     "name": "stdout",
     "output_type": "stream",
     "text": [
      "entities: 45\n"
     ]
    },
    {
     "data": {
      "image/png": "[encoded data removed]",
      "text/plain": [
       "<drawSvg.raster.Raster at 0x7ff5cd711ed0>"
      ]
     },
     "metadata": {},
     "output_type": "display_data"
    },
    {
     "name": "stdout",
     "output_type": "stream",
     "text": [
      "entities: 23\n"
     ]
    },
    {
     "data": {
      "image/png": "[encoded data removed]",
      "text/plain": [
       "<drawSvg.raster.Raster at 0x7ff5cd71c9d0>"
      ]
     },
     "metadata": {},
     "output_type": "display_data"
    },
    {
     "name": "stdout",
     "output_type": "stream",
     "text": [
      "entities: 27\n"
     ]
    },
    {
     "data": {
      "image/png": "[encoded data removed]",
      "text/plain": [
       "<drawSvg.raster.Raster at 0x7ff5cd71bb10>"
      ]
     },
     "metadata": {},
     "output_type": "display_data"
    },
    {
     "name": "stdout",
     "output_type": "stream",
     "text": [
      "entities: 59\n"
     ]
    },
    {
     "data": {
      "image/png": "[encoded data removed]",
      "text/plain": [
       "<drawSvg.raster.Raster at 0x7ff5ce8099d0>"
      ]
     },
     "metadata": {},
     "output_type": "display_data"
    },
    {
     "name": "stdout",
     "output_type": "stream",
     "text": [
      "entities: 1180\n"
     ]
    },
    {
     "data": {
      "image/png": "[encoded data removed]",
      "text/plain": [
       "<drawSvg.raster.Raster at 0x7ff5cd71ba90>"
      ]
     },
     "metadata": {},
     "output_type": "display_data"
    },
    {
     "name": "stdout",
     "output_type": "stream",
     "text": [
      "entities: 3051\n"
     ]
    },
    {
     "data": {
      "image/png": "[encoded data removed]",
      "text/plain": [
       "<drawSvg.raster.Raster at 0x7ff5cd59c3d0>"
      ]
     },
     "metadata": {},
     "output_type": "display_data"
    },
    {
     "name": "stdout",
     "output_type": "stream",
     "text": [
      "entities: 228\n"
     ]
    },
    {
     "data": {
      "image/png": "[encoded data removed]",
      "text/plain": [
       "<drawSvg.raster.Raster at 0x7ff5cd6e6510>"
      ]
     },
     "metadata": {},
     "output_type": "display_data"
    },
    {
     "name": "stdout",
     "output_type": "stream",
     "text": [
      "entities: 27\n"
     ]
    },
    {
     "data": {
      "image/png": "[encoded data removed]",
      "text/plain": [
       "<drawSvg.raster.Raster at 0x7ff5cd708110>"
      ]
     },
     "metadata": {},
     "output_type": "display_data"
    },
    {
     "name": "stdout",
     "output_type": "stream",
     "text": [
      "entities: 1027\n"
     ]
    },
    {
     "data": {
      "image/png": "[encoded data removed]",
      "text/plain": [
       "<drawSvg.raster.Raster at 0x7ff5d4344810>"
      ]
     },
     "metadata": {},
     "output_type": "display_data"
    },
    {
     "name": "stdout",
     "output_type": "stream",
     "text": [
      "entities: 3051\n"
     ]
    },
    {
     "data": {
      "image/png": "[encoded data removed]",
      "text/plain": [
       "<drawSvg.raster.Raster at 0x7ff5d4433e50>"
      ]
     },
     "metadata": {},
     "output_type": "display_data"
    },
    {
     "name": "stdout",
     "output_type": "stream",
     "text": [
      "entities: 468\n"
     ]
    },
    {
     "data": {
      "image/png": "[encoded data removed]",
      "text/plain": [
       "<drawSvg.raster.Raster at 0x7ff5cd7c1610>"
      ]
     },
     "metadata": {},
     "output_type": "display_data"
    },
    {
     "name": "stdout",
     "output_type": "stream",
     "text": [
      "entities: 12\n"
     ]
    },
    {
     "data": {
      "image/png": "[encoded data removed]",
      "text/plain": [
       "<drawSvg.raster.Raster at 0x7ff5cd7e6390>"
      ]
     },
     "metadata": {},
     "output_type": "display_data"
    },
    {
     "name": "stdout",
     "output_type": "stream",
     "text": [
      "entities: 1180\n"
     ]
    },
    {
     "data": {
      "image/png": "[encoded data removed]",
      "text/plain": [
       "<drawSvg.raster.Raster at 0x7ff5cd7c1590>"
      ]
     },
     "metadata": {},
     "output_type": "display_data"
    },
    {
     "name": "stdout",
     "output_type": "stream",
     "text": [
      "entities: 1027\n"
     ]
    },
    {
     "data": {
      "image/png": "[encoded data removed]",
      "text/plain": [
       "<drawSvg.raster.Raster at 0x7ff5cd6e1810>"
      ]
     },
     "metadata": {},
     "output_type": "display_data"
    },
    {
     "name": "stdout",
     "output_type": "stream",
     "text": [
      "entities: 48\n"
     ]
    },
    {
     "data": {
      "image/png": "[encoded data removed]",
      "text/plain": [
       "<drawSvg.raster.Raster at 0x7ff5cd720cd0>"
      ]
     },
     "metadata": {},
     "output_type": "display_data"
    },
    {
     "name": "stdout",
     "output_type": "stream",
     "text": [
      "entities: 3051\n"
     ]
    },
    {
     "data": {
      "image/png": "[encoded data removed]",
      "text/plain": [
       "<drawSvg.raster.Raster at 0x7ff5cd646d10>"
      ]
     },
     "metadata": {},
     "output_type": "display_data"
    },
    {
     "name": "stdout",
     "output_type": "stream",
     "text": [
      "entities: 80\n"
     ]
    },
    {
     "data": {
      "image/png": "[encoded data removed]",
      "text/plain": [
       "<drawSvg.raster.Raster at 0x7ff5cd7082d0>"
      ]
     },
     "metadata": {},
     "output_type": "display_data"
    },
    {
     "name": "stdout",
     "output_type": "stream",
     "text": [
      "entities: 71\n"
     ]
    },
    {
     "data": {
      "image/png": "[encoded data removed]",
      "text/plain": [
       "<drawSvg.raster.Raster at 0x7ff5cd61a890>"
      ]
     },
     "metadata": {},
     "output_type": "display_data"
    },
    {
     "name": "stdout",
     "output_type": "stream",
     "text": [
      "entities: 19\n"
     ]
    },
    {
     "data": {
      "image/png": "[encoded data removed]",
      "text/plain": [
       "<drawSvg.raster.Raster at 0x7ff5cd638dd0>"
      ]
     },
     "metadata": {},
     "output_type": "display_data"
    },
    {
     "name": "stdout",
     "output_type": "stream",
     "text": [
      "entities: 468\n"
     ]
    },
    {
     "data": {
      "image/png": "[encoded data removed]",
      "text/plain": [
       "<drawSvg.raster.Raster at 0x7ff5cd727790>"
      ]
     },
     "metadata": {},
     "output_type": "display_data"
    },
    {
     "name": "stdout",
     "output_type": "stream",
     "text": [
      "entities: 81\n"
     ]
    },
    {
     "data": {
      "image/png": "[encoded data removed]",
      "text/plain": [
       "<drawSvg.raster.Raster at 0x7ff5cd5c91d0>"
      ]
     },
     "metadata": {},
     "output_type": "display_data"
    },
    {
     "name": "stdout",
     "output_type": "stream",
     "text": [
      "entities: 118\n"
     ]
    },
    {
     "data": {
      "image/png": "[encoded data removed]",
      "text/plain": [
       "<drawSvg.raster.Raster at 0x7ff5ce80c890>"
      ]
     },
     "metadata": {},
     "output_type": "display_data"
    },
    {
     "name": "stdout",
     "output_type": "stream",
     "text": [
      "entities: 28\n"
     ]
    },
    {
     "data": {
      "image/png": "[encoded data removed]",
      "text/plain": [
       "<drawSvg.raster.Raster at 0x7ff5cd646d10>"
      ]
     },
     "metadata": {},
     "output_type": "display_data"
    },
    {
     "name": "stdout",
     "output_type": "stream",
     "text": [
      "entities: 151\n"
     ]
    },
    {
     "data": {
      "image/png": "[encoded data removed]",
      "text/plain": [
       "<drawSvg.raster.Raster at 0x7ff5ce9c1a50>"
      ]
     },
     "metadata": {},
     "output_type": "display_data"
    },
    {
     "name": "stdout",
     "output_type": "stream",
     "text": [
      "entities: 74\n"
     ]
    },
    {
     "data": {
      "image/png": "[encoded data removed]",
      "text/plain": [
       "<drawSvg.raster.Raster at 0x7ff5cea77b10>"
      ]
     },
     "metadata": {},
     "output_type": "display_data"
    },
    {
     "name": "stdout",
     "output_type": "stream",
     "text": [
      "entities: 33\n"
     ]
    },
    {
     "data": {
      "image/png": "[encoded data removed]",
      "text/plain": [
       "<drawSvg.raster.Raster at 0x7ff5ce80c890>"
      ]
     },
     "metadata": {},
     "output_type": "display_data"
    },
    {
     "name": "stdout",
     "output_type": "stream",
     "text": [
      "entities: 23\n"
     ]
    },
    {
     "data": {
      "image/png": "[encoded data removed]",
      "text/plain": [
       "<drawSvg.raster.Raster at 0x7ff5cd63d550>"
      ]
     },
     "metadata": {},
     "output_type": "display_data"
    },
    {
     "name": "stdout",
     "output_type": "stream",
     "text": [
      "entities: 1082\n"
     ]
    },
    {
     "data": {
      "image/png": "[encoded data removed]",
      "text/plain": [
       "<drawSvg.raster.Raster at 0x7ff5cd63cc10>"
      ]
     },
     "metadata": {},
     "output_type": "display_data"
    },
    {
     "name": "stdout",
     "output_type": "stream",
     "text": [
      "entities: 33\n"
     ]
    },
    {
     "data": {
      "image/png": "[encoded data removed]",
      "text/plain": [
       "<drawSvg.raster.Raster at 0x7ff5cea069d0>"
      ]
     },
     "metadata": {},
     "output_type": "display_data"
    },
    {
     "name": "stdout",
     "output_type": "stream",
     "text": [
      "entities: 1014\n"
     ]
    },
    {
     "data": {
      "image/png": "[encoded data removed]",
      "text/plain": [
       "<drawSvg.raster.Raster at 0x7ff5ce96bad0>"
      ]
     },
     "metadata": {},
     "output_type": "display_data"
    }
   ],
   "source": [
    "from plot_graphics import draw_sample\n",
    "\n",
    "j=0\n",
    "for (x, y) in iter(dwg_dataset.train_loader):\n",
    "    # print(x,y)\n",
    "    for i in range(len(x)):\n",
    "        # print(x[i].shape, y[i])\n",
    "        display(draw_sample(x[i],y[i]))\n",
    "        j+=1\n",
    "    if j>3:\n",
    "        break"
   ]
  },
  {
   "cell_type": "code",
   "execution_count": null,
   "metadata": {},
   "outputs": [],
   "source": []
  }
 ],
 "metadata": {
  "kernelspec": {
   "display_name": "Python 3",
   "language": "python",
   "name": "python3"
  },
  "language_info": {
   "codemirror_mode": {
    "name": "ipython",
    "version": 3
   },
   "file_extension": ".py",
   "mimetype": "text/x-python",
   "name": "python",
   "nbconvert_exporter": "python",
   "pygments_lexer": "ipython3",
   "version": "3.7.6"
  }
 },
 "nbformat": 4,
 "nbformat_minor": 4
}
