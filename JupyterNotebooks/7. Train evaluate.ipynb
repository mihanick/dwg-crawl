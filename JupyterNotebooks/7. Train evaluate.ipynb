{
 "cells": [
  {
   "cell_type": "markdown",
   "metadata": {},
   "source": [
    "# Train model"
   ]
  },
  {
   "cell_type": "code",
   "execution_count": null,
   "metadata": {},
   "outputs": [
    {
     "name": "stdout",
     "output_type": "stream",
     "text": [
      "[   0-   0 @ 470.0 sec] Loss: 0.38302 Chamfer distance: 1.3162\n",
      "[   0-   1 @ 907.4 sec] Loss: 0.16789 Chamfer distance: 0.8507\n",
      "[   0-   2 @ 1421.1 sec] Loss: 4.63922 Chamfer distance: 6.5114\n",
      "[   0-   3 @ 1822.0 sec] Loss: 0.91755 Chamfer distance: 1.0819\n",
      "[   0-   4 @ 2223.2 sec] Loss: 0.64192 Chamfer distance: 1.2020\n",
      "[   0-   5 @ 2613.7 sec] Loss: 1.23644 Chamfer distance: 2.5296\n",
      "[   0-   6 @ 2967.2 sec] Loss: 1.14016 Chamfer distance: 2.2610\n",
      "[   0-   7 @ 3460.9 sec] Loss: 0.79693 Chamfer distance: 1.4702\n",
      "[   0-   8 @ 3895.2 sec] Loss: 0.63723 Chamfer distance: 1.3148\n",
      "[   0-   9 @ 4292.2 sec] Loss: 0.58445 Chamfer distance: 1.2807\n",
      "[   0-  10 @ 4767.8 sec] Loss: 0.62075 Chamfer distance: 1.4391\n",
      "[   0-  11 @ 5151.4 sec] Loss: 0.56793 Chamfer distance: 1.4090\n",
      "[   0-  12 @ 5568.3 sec] Loss: 0.50874 Chamfer distance: 1.2868\n",
      "[   0-  13 @ 6091.2 sec] Loss: 0.44355 Chamfer distance: 1.1994\n",
      "[   0-  14 @ 6521.9 sec] Loss: 0.41684 Chamfer distance: 1.0540\n",
      "[   0-  15 @ 6963.0 sec] Loss: 0.44620 Chamfer distance: 1.1984\n",
      "[   0-  16 @ 7400.1 sec] Loss: 0.39350 Chamfer distance: 1.3042\n",
      "[   0-  17 @ 7949.9 sec] Loss: 0.36908 Chamfer distance: 1.3697\n"
     ]
    }
   ],
   "source": [
    "from main import run\n",
    "train_history, loss_history, val_history = run(epochs=3, lr=0.01, batch_size=512)"
   ]
  },
  {
   "cell_type": "code",
   "execution_count": null,
   "metadata": {},
   "outputs": [],
   "source": [
    "from plot_graphics import plot_history\n",
    "plot_history(loss_history, train_history, val_history)"
   ]
  },
  {
   "cell_type": "markdown",
   "metadata": {},
   "source": [
    "# Evaluate model"
   ]
  },
  {
   "cell_type": "code",
   "execution_count": null,
   "metadata": {},
   "outputs": [],
   "source": [
    "import torch\n",
    "\n",
    "device = torch.device(\"cpu\")\n",
    "if torch.cuda.is_available():\n",
    "    device = torch.device(\"cuda\")"
   ]
  },
  {
   "cell_type": "code",
   "execution_count": null,
   "metadata": {},
   "outputs": [],
   "source": [
    "from dataset import DwgDataset\n",
    "dwg_dataset = DwgDataset('test_dataset_cluster_labeled.pickle', batch_size = 4)\n",
    "dim_features = dwg_dataset.entities.dim_features\n",
    "ent_features = dwg_dataset.entities.ent_features"
   ]
  },
  {
   "cell_type": "code",
   "execution_count": null,
   "metadata": {},
   "outputs": [],
   "source": [
    "from model import DimRnn\n",
    "model = DimRnn(ent_features, dim_features, 16, device)\n",
    "model.to(device)\n",
    "\n",
    "# https://pytorch.org/tutorials/beginner/saving_loading_models.html\n",
    "# model.load_state_dict(torch.load('DimRnnTrained.model', map_location=device))\n",
    "\n",
    "model.eval()"
   ]
  },
  {
   "cell_type": "code",
   "execution_count": null,
   "metadata": {},
   "outputs": [],
   "source": [
    "import drawSvg as draw\n",
    "from plot_graphics import draw_sample\n"
   ]
  },
  {
   "cell_type": "code",
   "execution_count": null,
   "metadata": {},
   "outputs": [],
   "source": [
    "from IPython.display import Image\n",
    "from IPython.display import clear_output\n",
    "\n",
    "for j, (_x,_y) in enumerate(dwg_dataset.train_loader):\n",
    "    for i in range(len(_x)):\n",
    "        x=_x[i]\n",
    "        y=_y[i]\n",
    "        graphics = draw_sample(x,y, verbose=False)\n",
    "        display(graphics) \n",
    "        #clear_output(wait=True)   \n",
    "    if j>10:\n",
    "        break\n"
   ]
  },
  {
   "cell_type": "code",
   "execution_count": null,
   "metadata": {},
   "outputs": [],
   "source": []
  }
 ],
 "metadata": {
  "kernelspec": {
   "display_name": "Python 3",
   "language": "python",
   "name": "python3"
  },
  "language_info": {
   "codemirror_mode": {
    "name": "ipython",
    "version": 3
   },
   "file_extension": ".py",
   "mimetype": "text/x-python",
   "name": "python",
   "nbconvert_exporter": "python",
   "pygments_lexer": "ipython3",
   "version": "3.7.6"
  }
 },
 "nbformat": 4,
 "nbformat_minor": 4
}
