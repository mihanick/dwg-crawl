{
 "cells": [
  {
   "cell_type": "code",
   "execution_count": 1,
   "metadata": {},
   "outputs": [],
   "source": [
    "# https://datascience.stackexchange.com/questions/16890/neural-network-for-multiple-output-regression?newreg=834c5e00cd8e4daab0c02a341ed88a6e"
   ]
  },
  {
   "cell_type": "code",
   "execution_count": 2,
   "metadata": {},
   "outputs": [],
   "source": [
    "# https://stackoverflow.com/questions/5364050/reloading-submodules-in-ipython\n",
    "%load_ext autoreload\n",
    "%autoreload 2\n",
    "\n",
    "import pymongo\n",
    "import pandas as pd\n",
    "import numpy as np\n",
    "import os.path\n",
    "\n",
    "from pymongo import MongoClient\n",
    "from processing import *\n",
    "from IPython.display import Image\n",
    "from IPython.display import clear_output\n"
   ]
  },
  {
   "cell_type": "code",
   "execution_count": 3,
   "metadata": {},
   "outputs": [],
   "source": [
    "client = MongoClient('mongodb://192.168.0.104:27017/')\n",
    "db = client.geometry\n",
    "objects = db.objects\n",
    "files = db.files"
   ]
  },
  {
   "cell_type": "code",
   "execution_count": 4,
   "metadata": {},
   "outputs": [
    {
     "name": "stderr",
     "output_type": "stream",
     "text": [
      "/home/mk/anaconda3/lib/python3.7/site-packages/ipykernel_launcher.py:1: DeprecationWarning: count is deprecated. Use Collection.count_documents instead.\n",
      "  \"\"\"Entry point for launching an IPython kernel.\n"
     ]
    },
    {
     "data": {
      "text/plain": [
       "2106"
      ]
     },
     "execution_count": 4,
     "metadata": {},
     "output_type": "execute_result"
    }
   ],
   "source": [
    "files.find({'Valid':True}).count()"
   ]
  },
  {
   "cell_type": "code",
   "execution_count": 5,
   "metadata": {},
   "outputs": [
    {
     "data": {
      "text/plain": [
       "19462"
      ]
     },
     "execution_count": 5,
     "metadata": {},
     "output_type": "execute_result"
    }
   ],
   "source": [
    "#fileidsWithDims = objects.find({'ClassName':'AcDbRotatedDimension'}).distinct('FileId')[:5]\n",
    "fileIds = files.find({\n",
    "    'Valid':False,\n",
    "    'Checked':{'$ne':True}\n",
    "}).distinct('FileId')\n",
    "len(fileIds)"
   ]
  },
  {
   "cell_type": "code",
   "execution_count": 6,
   "metadata": {},
   "outputs": [],
   "source": [
    "# https://stackoverflow.com/questions/13710770/how-to-update-values-using-pymongo\n",
    "def set_fileId_valid(collection, fileId, valid):\n",
    "    print('updating ',fileId, 'set valid:', valid)\n",
    "    collection.update_many(\n",
    "        {\n",
    "            'FileId':fileId\n",
    "        },\n",
    "        {\n",
    "            '$set':{\n",
    "                'Valid':valid,\n",
    "                'Checked':True\n",
    "            }\n",
    "        },\n",
    "        upsert = False)"
   ]
  },
  {
   "cell_type": "code",
   "execution_count": null,
   "metadata": {},
   "outputs": [],
   "source": [
    "for fileid in fileIds:\n",
    "    valid = False\n",
    "    # try:\n",
    "    data = query_collection_to_dataframe(objects, fileid)\n",
    "    cols_to_expand = ['XLine1Point', 'XLine2Point','StartPoint','EndPoint','Position']\n",
    "    data = expand_columns(data, cols_to_expand)\n",
    "    data = normalize(data, to_size = 400)\n",
    "    generate_file2(data)\n",
    "    \n",
    "    filename = fileid+ '.png'\n",
    "    \n",
    "    if os.path.exists(filename):\n",
    "        display(Image(filename))  \n",
    "        \n",
    "        # request manual imput of file assesment\n",
    "        # if it is valid or not\n",
    "        valid = input() == '1'\n",
    "        \n",
    "    set_fileId_valid(files, fileid, valid)\n",
    "    \n",
    "    clear_output(wait=True)"
   ]
  }
 ],
 "metadata": {
  "kernelspec": {
   "display_name": "Python 3",
   "language": "python",
   "name": "python3"
  },
  "language_info": {
   "codemirror_mode": {
    "name": "ipython",
    "version": 3
   },
   "file_extension": ".py",
   "mimetype": "text/x-python",
   "name": "python",
   "nbconvert_exporter": "python",
   "pygments_lexer": "ipython3",
   "version": "3.7.6"
  }
 },
 "nbformat": 4,
 "nbformat_minor": 4
}
