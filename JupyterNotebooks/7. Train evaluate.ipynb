{
 "cells": [
  {
   "cell_type": "code",
   "execution_count": 8,
   "metadata": {},
   "outputs": [],
   "source": [
    "import torch\n",
    "\n",
    "device = torch.device(\"cpu\")\n",
    "if torch.cuda.is_available():\n",
    "    device = torch.device(\"cuda\")"
   ]
  },
  {
   "cell_type": "code",
   "execution_count": 9,
   "metadata": {},
   "outputs": [],
   "source": [
    "from dataset import DwgDataset\n",
    "dwg_dataset = DwgDataset('test_dataset_cluster_labeled.pickle', batch_size = 4)\n",
    "dim_features = dwg_dataset.entities.dim_features\n",
    "ent_features = dwg_dataset.entities.ent_features\n"
   ]
  },
  {
   "cell_type": "code",
   "execution_count": 10,
   "metadata": {},
   "outputs": [
    {
     "data": {
      "text/plain": [
       "DimRnn(\n",
       "  (rnn): RNN(6, 6)\n",
       ")"
      ]
     },
     "execution_count": 10,
     "metadata": {},
     "output_type": "execute_result"
    }
   ],
   "source": [
    "from model import DimRnn\n",
    "model = DimRnn(ent_features, dim_features, 16, device)\n",
    "model.to(device)\n",
    "\n",
    "# https://pytorch.org/tutorials/beginner/saving_loading_models.html\n",
    "model.load_state_dict(torch.load('DimRnnTrained.model', map_location=device))\n",
    "\n",
    "model.eval()"
   ]
  },
  {
   "cell_type": "code",
   "execution_count": 3,
   "metadata": {},
   "outputs": [
    {
     "name": "stdout",
     "output_type": "stream",
     "text": [
      "Could not load drawSvg\n"
     ]
    }
   ],
   "source": [
    "try:\n",
    "    from processing import generate_file\n",
    "\n",
    "    from IPython.display import Image\n",
    "    from IPython.display import clear_output\n",
    "    gr = df.groupby(['FileId', 'label'])\n",
    "\n",
    "    max_images_to_show = 1\n",
    "    i = 0\n",
    "    for k in gr.groups.keys():\n",
    "        _group = gr.get_group(k)\n",
    "        # we exclude clusters that was classified as outliers, i.e label=-1\n",
    "        if k[1] == -1:\n",
    "            continue\n",
    "\n",
    "        chunk = _group[x_columns + y_columns + groupping_columns]\n",
    "\n",
    "        # Texts are not included, so shouldn't be drawn\n",
    "        # https://stackoverflow.com/questions/53277718/pandas-dataframe-easier-syntax-to-drop-rows-by-condition-on-values\n",
    "        chunk = chunk.drop(chunk[chunk[\"ClassName\"] == \"AcDbText\"].index)\n",
    "\n",
    "        if i < max_images_to_show and len(chunk) > 10:\n",
    "            filename = generate_file(chunk, verbose=False, save_file=False)\n",
    "            display(filename) \n",
    "\n",
    "        #clear_output(wait=True)\n",
    "        i = i + 1\n",
    "except:\n",
    "    print('Could not load drawSvg')"
   ]
  },
  {
   "cell_type": "code",
   "execution_count": null,
   "metadata": {},
   "outputs": [],
   "source": []
  }
 ],
 "metadata": {
  "kernelspec": {
   "display_name": "Python 3",
   "language": "python",
   "name": "python3"
  },
  "language_info": {
   "codemirror_mode": {
    "name": "ipython",
    "version": 3
   },
   "file_extension": ".py",
   "mimetype": "text/x-python",
   "name": "python",
   "nbconvert_exporter": "python",
   "pygments_lexer": "ipython3",
   "version": "3.7.6"
  }
 },
 "nbformat": 4,
 "nbformat_minor": 4
}
