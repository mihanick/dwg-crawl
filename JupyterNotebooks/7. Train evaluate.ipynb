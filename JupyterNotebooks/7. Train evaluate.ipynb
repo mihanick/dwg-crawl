{
 "cells": [
  {
   "cell_type": "code",
   "execution_count": 1,
   "metadata": {},
   "outputs": [
    {
     "name": "stderr",
     "output_type": "stream",
     "text": [
      "/home/mk/anaconda3/lib/python3.7/site-packages/torch/cuda/__init__.py:52: UserWarning: CUDA initialization: Found no NVIDIA driver on your system. Please check that you have an NVIDIA GPU and installed a driver from http://www.nvidia.com/Download/index.aspx (Triggered internally at  /pytorch/c10/cuda/CUDAFunctions.cpp:100.)\n",
      "  return torch._C._cuda_getDeviceCount() > 0\n"
     ]
    }
   ],
   "source": [
    "import torch\n",
    "\n",
    "device = torch.device(\"cpu\")\n",
    "if torch.cuda.is_available():\n",
    "    device = torch.device(\"cuda\")"
   ]
  },
  {
   "cell_type": "code",
   "execution_count": 2,
   "metadata": {},
   "outputs": [],
   "source": [
    "from dataset import DwgDataset\n",
    "dwg_dataset = DwgDataset('test_dataset_cluster_labeled.pickle', batch_size = 4)\n",
    "dim_features = dwg_dataset.entities.dim_features\n",
    "ent_features = dwg_dataset.entities.ent_features\n"
   ]
  },
  {
   "cell_type": "code",
   "execution_count": 3,
   "metadata": {},
   "outputs": [
    {
     "data": {
      "text/plain": [
       "DimRnn(\n",
       "  (rnn): RNN(6, 6)\n",
       ")"
      ]
     },
     "execution_count": 3,
     "metadata": {},
     "output_type": "execute_result"
    }
   ],
   "source": [
    "from model import DimRnn\n",
    "model = DimRnn(ent_features, dim_features, 16, device)\n",
    "model.to(device)\n",
    "\n",
    "# https://pytorch.org/tutorials/beginner/saving_loading_models.html\n",
    "# model.load_state_dict(torch.load('DimRnnTrained.model', map_location=device))\n",
    "\n",
    "model.eval()"
   ]
  },
  {
   "cell_type": "code",
   "execution_count": 10,
   "metadata": {},
   "outputs": [],
   "source": [
    "import drawSvg as draw\n",
    "\n",
    "def draw_sample(x, y, verbose = False):\n",
    "    d = draw.Drawing(800, 200, origin=(0,0), displayInline = False)\n",
    "    \n",
    "    entscount = 0\n",
    "    for row in x:\n",
    "        if verbose:\n",
    "            print(row)\n",
    "\n",
    "            d.append(\n",
    "            draw.Lines(\n",
    "                row[0],\n",
    "                row[1],\n",
    "                row[3],\n",
    "                row[4],\n",
    "                close = False,\n",
    "                fill='#eeee00',\n",
    "                stroke = 'black'))\n",
    "        entscount = entscount + 1\n",
    "    for row in y:\n",
    "        dim = draw.Lines(\n",
    "                row[0],\n",
    "                row[1],\n",
    "                row[3],\n",
    "                row[4],\n",
    "                close = False,\n",
    "                fill='#eeee00',\n",
    "                stroke = 'blue',\n",
    "                stroke_width = '1'\n",
    "        )\n",
    "\n",
    "        d.append(dim)\n",
    "        entscount = entscount + 1    \n",
    "            \n",
    "    #print('entities:', entscount)        \n",
    "    #https://pypi.org/project/drawSvg/\n",
    "    d.setPixelScale(2)\n",
    "    r = d.rasterize()\n",
    "    \n",
    "    return d    "
   ]
  },
  {
   "cell_type": "code",
   "execution_count": 12,
   "metadata": {},
   "outputs": [
    {
     "data": {
      "text/html": [
       "<img src=\"data:image/svg+xml;base64,PD94bWwgdmVyc2lvbj0iMS4wIiBlbmNvZGluZz0iVVRGLTgiPz4KPHN2ZyB4bWxucz0iaHR0cDovL3d3dy53My5vcmcvMjAwMC9zdmciIHhtbG5zOnhsaW5rPSJodHRwOi8vd3d3LnczLm9yZy8xOTk5L3hsaW5rIgogICAgIHdpZHRoPSIxNjAwIiBoZWlnaHQ9IjQwMCIgdmlld0JveD0iMCAtMjAwIDgwMCAyMDAiPgo8ZGVmcz4KPC9kZWZzPgo8cGF0aCBkPSJNdGVuc29yKDAuKSx0ZW5zb3IoLTAuKSBMdGVuc29yKDAuKSx0ZW5zb3IoLTAuKSIgZmlsbD0iI2VlZWUwMCIgc3Ryb2tlPSJibHVlIiBzdHJva2Utd2lkdGg9IjEiIC8+Cjwvc3ZnPg==\">"
      ],
      "text/plain": [
       "<drawSvg.drawing.Drawing at 0x7f6ff6e47950>"
      ]
     },
     "metadata": {},
     "output_type": "display_data"
    },
    {
     "data": {
      "text/html": [
       "<img src=\"data:image/svg+xml;base64,PD94bWwgdmVyc2lvbj0iMS4wIiBlbmNvZGluZz0iVVRGLTgiPz4KPHN2ZyB4bWxucz0iaHR0cDovL3d3dy53My5vcmcvMjAwMC9zdmciIHhtbG5zOnhsaW5rPSJodHRwOi8vd3d3LnczLm9yZy8xOTk5L3hsaW5rIgogICAgIHdpZHRoPSIxNjAwIiBoZWlnaHQ9IjQwMCIgdmlld0JveD0iMCAtMjAwIDgwMCAyMDAiPgo8ZGVmcz4KPC9kZWZzPgo8cGF0aCBkPSJNdGVuc29yKDAuKSx0ZW5zb3IoLTAuKSBMdGVuc29yKDAuKSx0ZW5zb3IoLTAuKSIgZmlsbD0iI2VlZWUwMCIgc3Ryb2tlPSJibHVlIiBzdHJva2Utd2lkdGg9IjEiIC8+Cjwvc3ZnPg==\">"
      ],
      "text/plain": [
       "<drawSvg.drawing.Drawing at 0x7f6ff6e47a50>"
      ]
     },
     "metadata": {},
     "output_type": "display_data"
    },
    {
     "data": {
      "text/html": [
       "<img src=\"data:image/svg+xml;base64,PD94bWwgdmVyc2lvbj0iMS4wIiBlbmNvZGluZz0iVVRGLTgiPz4KPHN2ZyB4bWxucz0iaHR0cDovL3d3dy53My5vcmcvMjAwMC9zdmciIHhtbG5zOnhsaW5rPSJodHRwOi8vd3d3LnczLm9yZy8xOTk5L3hsaW5rIgogICAgIHdpZHRoPSIxNjAwIiBoZWlnaHQ9IjQwMCIgdmlld0JveD0iMCAtMjAwIDgwMCAyMDAiPgo8ZGVmcz4KPC9kZWZzPgo8cGF0aCBkPSJNdGVuc29yKDAuKSx0ZW5zb3IoLTAuKSBMdGVuc29yKDAuKSx0ZW5zb3IoLTAuKSIgZmlsbD0iI2VlZWUwMCIgc3Ryb2tlPSJibHVlIiBzdHJva2Utd2lkdGg9IjEiIC8+Cjwvc3ZnPg==\">"
      ],
      "text/plain": [
       "<drawSvg.drawing.Drawing at 0x7f6ff709f8d0>"
      ]
     },
     "metadata": {},
     "output_type": "display_data"
    },
    {
     "data": {
      "text/html": [
       "<img src=\"data:image/svg+xml;base64,PD94bWwgdmVyc2lvbj0iMS4wIiBlbmNvZGluZz0iVVRGLTgiPz4KPHN2ZyB4bWxucz0iaHR0cDovL3d3dy53My5vcmcvMjAwMC9zdmciIHhtbG5zOnhsaW5rPSJodHRwOi8vd3d3LnczLm9yZy8xOTk5L3hsaW5rIgogICAgIHdpZHRoPSIxNjAwIiBoZWlnaHQ9IjQwMCIgdmlld0JveD0iMCAtMjAwIDgwMCAyMDAiPgo8ZGVmcz4KPC9kZWZzPgo8cGF0aCBkPSJNdGVuc29yKDAuKSx0ZW5zb3IoLTAuKSBMdGVuc29yKDAuKSx0ZW5zb3IoLTAuKSIgZmlsbD0iI2VlZWUwMCIgc3Ryb2tlPSJibHVlIiBzdHJva2Utd2lkdGg9IjEiIC8+Cjwvc3ZnPg==\">"
      ],
      "text/plain": [
       "<drawSvg.drawing.Drawing at 0x7f6ff8f07e10>"
      ]
     },
     "metadata": {},
     "output_type": "display_data"
    },
    {
     "data": {
      "text/html": [
       "<img src=\"data:image/svg+xml;base64,PD94bWwgdmVyc2lvbj0iMS4wIiBlbmNvZGluZz0iVVRGLTgiPz4KPHN2ZyB4bWxucz0iaHR0cDovL3d3dy53My5vcmcvMjAwMC9zdmciIHhtbG5zOnhsaW5rPSJodHRwOi8vd3d3LnczLm9yZy8xOTk5L3hsaW5rIgogICAgIHdpZHRoPSIxNjAwIiBoZWlnaHQ9IjQwMCIgdmlld0JveD0iMCAtMjAwIDgwMCAyMDAiPgo8ZGVmcz4KPC9kZWZzPgo8cGF0aCBkPSJNdGVuc29yKDAuKSx0ZW5zb3IoLTAuKSBMdGVuc29yKDAuKSx0ZW5zb3IoLTAuKSIgZmlsbD0iI2VlZWUwMCIgc3Ryb2tlPSJibHVlIiBzdHJva2Utd2lkdGg9IjEiIC8+Cjwvc3ZnPg==\">"
      ],
      "text/plain": [
       "<drawSvg.drawing.Drawing at 0x7f6ff64b7950>"
      ]
     },
     "metadata": {},
     "output_type": "display_data"
    },
    {
     "data": {
      "text/html": [
       "<img src=\"data:image/svg+xml;base64,PD94bWwgdmVyc2lvbj0iMS4wIiBlbmNvZGluZz0iVVRGLTgiPz4KPHN2ZyB4bWxucz0iaHR0cDovL3d3dy53My5vcmcvMjAwMC9zdmciIHhtbG5zOnhsaW5rPSJodHRwOi8vd3d3LnczLm9yZy8xOTk5L3hsaW5rIgogICAgIHdpZHRoPSIxNjAwIiBoZWlnaHQ9IjQwMCIgdmlld0JveD0iMCAtMjAwIDgwMCAyMDAiPgo8ZGVmcz4KPC9kZWZzPgo8cGF0aCBkPSJNdGVuc29yKDAuKSx0ZW5zb3IoLTAuKSBMdGVuc29yKDAuKSx0ZW5zb3IoLTAuKSIgZmlsbD0iI2VlZWUwMCIgc3Ryb2tlPSJibHVlIiBzdHJva2Utd2lkdGg9IjEiIC8+Cjwvc3ZnPg==\">"
      ],
      "text/plain": [
       "<drawSvg.drawing.Drawing at 0x7f6ff8f07e10>"
      ]
     },
     "metadata": {},
     "output_type": "display_data"
    },
    {
     "data": {
      "text/html": [
       "<img src=\"data:image/svg+xml;base64,PD94bWwgdmVyc2lvbj0iMS4wIiBlbmNvZGluZz0iVVRGLTgiPz4KPHN2ZyB4bWxucz0iaHR0cDovL3d3dy53My5vcmcvMjAwMC9zdmciIHhtbG5zOnhsaW5rPSJodHRwOi8vd3d3LnczLm9yZy8xOTk5L3hsaW5rIgogICAgIHdpZHRoPSIxNjAwIiBoZWlnaHQ9IjQwMCIgdmlld0JveD0iMCAtMjAwIDgwMCAyMDAiPgo8ZGVmcz4KPC9kZWZzPgo8cGF0aCBkPSJNdGVuc29yKDAuKSx0ZW5zb3IoLTAuKSBMdGVuc29yKDAuKSx0ZW5zb3IoLTAuKSIgZmlsbD0iI2VlZWUwMCIgc3Ryb2tlPSJibHVlIiBzdHJva2Utd2lkdGg9IjEiIC8+Cjwvc3ZnPg==\">"
      ],
      "text/plain": [
       "<drawSvg.drawing.Drawing at 0x7f6ff64b7950>"
      ]
     },
     "metadata": {},
     "output_type": "display_data"
    },
    {
     "data": {
      "text/html": [
       "<img src=\"data:image/svg+xml;base64,PD94bWwgdmVyc2lvbj0iMS4wIiBlbmNvZGluZz0iVVRGLTgiPz4KPHN2ZyB4bWxucz0iaHR0cDovL3d3dy53My5vcmcvMjAwMC9zdmciIHhtbG5zOnhsaW5rPSJodHRwOi8vd3d3LnczLm9yZy8xOTk5L3hsaW5rIgogICAgIHdpZHRoPSIxNjAwIiBoZWlnaHQ9IjQwMCIgdmlld0JveD0iMCAtMjAwIDgwMCAyMDAiPgo8ZGVmcz4KPC9kZWZzPgo8cGF0aCBkPSJNdGVuc29yKDAuKSx0ZW5zb3IoLTAuKSBMdGVuc29yKDAuKSx0ZW5zb3IoLTAuKSIgZmlsbD0iI2VlZWUwMCIgc3Ryb2tlPSJibHVlIiBzdHJva2Utd2lkdGg9IjEiIC8+Cjwvc3ZnPg==\">"
      ],
      "text/plain": [
       "<drawSvg.drawing.Drawing at 0x7f6ff8f07e10>"
      ]
     },
     "metadata": {},
     "output_type": "display_data"
    },
    {
     "data": {
      "text/html": [
       "<img src=\"data:image/svg+xml;base64,PD94bWwgdmVyc2lvbj0iMS4wIiBlbmNvZGluZz0iVVRGLTgiPz4KPHN2ZyB4bWxucz0iaHR0cDovL3d3dy53My5vcmcvMjAwMC9zdmciIHhtbG5zOnhsaW5rPSJodHRwOi8vd3d3LnczLm9yZy8xOTk5L3hsaW5rIgogICAgIHdpZHRoPSIxNjAwIiBoZWlnaHQ9IjQwMCIgdmlld0JveD0iMCAtMjAwIDgwMCAyMDAiPgo8ZGVmcz4KPC9kZWZzPgo8cGF0aCBkPSJNdGVuc29yKDAuKSx0ZW5zb3IoLTAuKSBMdGVuc29yKDAuKSx0ZW5zb3IoLTAuKSIgZmlsbD0iI2VlZWUwMCIgc3Ryb2tlPSJibHVlIiBzdHJva2Utd2lkdGg9IjEiIC8+Cjwvc3ZnPg==\">"
      ],
      "text/plain": [
       "<drawSvg.drawing.Drawing at 0x7f6ff64b7950>"
      ]
     },
     "metadata": {},
     "output_type": "display_data"
    },
    {
     "data": {
      "text/html": [
       "<img src=\"data:image/svg+xml;base64,PD94bWwgdmVyc2lvbj0iMS4wIiBlbmNvZGluZz0iVVRGLTgiPz4KPHN2ZyB4bWxucz0iaHR0cDovL3d3dy53My5vcmcvMjAwMC9zdmciIHhtbG5zOnhsaW5rPSJodHRwOi8vd3d3LnczLm9yZy8xOTk5L3hsaW5rIgogICAgIHdpZHRoPSIxNjAwIiBoZWlnaHQ9IjQwMCIgdmlld0JveD0iMCAtMjAwIDgwMCAyMDAiPgo8ZGVmcz4KPC9kZWZzPgo8cGF0aCBkPSJNdGVuc29yKDAuKSx0ZW5zb3IoLTAuKSBMdGVuc29yKDAuKSx0ZW5zb3IoLTAuKSIgZmlsbD0iI2VlZWUwMCIgc3Ryb2tlPSJibHVlIiBzdHJva2Utd2lkdGg9IjEiIC8+Cjwvc3ZnPg==\">"
      ],
      "text/plain": [
       "<drawSvg.drawing.Drawing at 0x7f6ff8f07e10>"
      ]
     },
     "metadata": {},
     "output_type": "display_data"
    }
   ],
   "source": [
    "from IPython.display import Image\n",
    "from IPython.display import clear_output\n",
    "\n",
    "for x,y in dwg_dataset.entities[:10]:\n",
    "    graphics = draw_sample(x,y, verbose=False)\n",
    "    display(graphics) \n",
    "    #clear_output(wait=True)\n",
    "    "
   ]
  },
  {
   "cell_type": "code",
   "execution_count": null,
   "metadata": {},
   "outputs": [],
   "source": []
  }
 ],
 "metadata": {
  "kernelspec": {
   "display_name": "Python 3",
   "language": "python",
   "name": "python3"
  },
  "language_info": {
   "codemirror_mode": {
    "name": "ipython",
    "version": 3
   },
   "file_extension": ".py",
   "mimetype": "text/x-python",
   "name": "python",
   "nbconvert_exporter": "python",
   "pygments_lexer": "ipython3",
   "version": "3.7.6"
  }
 },
 "nbformat": 4,
 "nbformat_minor": 4
}
