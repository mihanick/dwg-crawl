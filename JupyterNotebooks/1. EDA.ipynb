{
 "cells": [
  {
   "cell_type": "markdown",
   "metadata": {},
   "source": [
    "# Play with data"
   ]
  },
  {
   "cell_type": "code",
   "execution_count": 1,
   "metadata": {},
   "outputs": [],
   "source": [
    "# https://stackoverflow.com/questions/16249736/how-to-import-data-from-mongodb-to-pandas\n",
    "import pymongo\n",
    "import pandas as pd\n",
    "import numpy as np\n",
    "from pymongo import MongoClient\n",
    "from processing import *"
   ]
  },
  {
   "cell_type": "code",
   "execution_count": 2,
   "metadata": {},
   "outputs": [
    {
     "data": {
      "text/plain": [
       "MongoClient(host=['192.168.0.104:27017'], document_class=dict, tz_aware=False, connect=True)"
      ]
     },
     "execution_count": 2,
     "metadata": {},
     "output_type": "execute_result"
    }
   ],
   "source": [
    "# https://github.com/microsoft/WSL/issues/4619\n",
    "# in mongodb.cfg:   bindIp: 0.0.0.0, 127.0.0.1\n",
    "client = MongoClient('mongodb://192.168.0.104:27017')\n",
    "client"
   ]
  },
  {
   "cell_type": "code",
   "execution_count": 3,
   "metadata": {},
   "outputs": [
    {
     "data": {
      "text/plain": [
       "Database(MongoClient(host=['192.168.0.104:27017'], document_class=dict, tz_aware=False, connect=True), 'geometry2')"
      ]
     },
     "execution_count": 3,
     "metadata": {},
     "output_type": "execute_result"
    }
   ],
   "source": [
    "db = client.geometry2\n",
    "db"
   ]
  },
  {
   "cell_type": "code",
   "execution_count": 4,
   "metadata": {},
   "outputs": [
    {
     "ename": "ServerSelectionTimeoutError",
     "evalue": "192.168.0.104:27017: timed out, Timeout: 30s, Topology Description: <TopologyDescription id: 60e414d722795ed8037f3f36, topology_type: Single, servers: [<ServerDescription ('192.168.0.104', 27017) server_type: Unknown, rtt: None, error=NetworkTimeout('192.168.0.104:27017: timed out')>]>",
     "output_type": "error",
     "traceback": [
      "\u001b[1;31m---------------------------------------------------------------------------\u001b[0m",
      "\u001b[1;31mServerSelectionTimeoutError\u001b[0m               Traceback (most recent call last)",
      "\u001b[1;32m<ipython-input-4-cdb4a2918099>\u001b[0m in \u001b[0;36m<module>\u001b[1;34m\u001b[0m\n\u001b[1;32m----> 1\u001b[1;33m \u001b[0mdb\u001b[0m\u001b[1;33m.\u001b[0m\u001b[0mfiles\u001b[0m\u001b[1;33m.\u001b[0m\u001b[0mcount_documents\u001b[0m\u001b[1;33m(\u001b[0m\u001b[1;33m{\u001b[0m\u001b[1;33m}\u001b[0m\u001b[1;33m)\u001b[0m\u001b[1;33m\u001b[0m\u001b[1;33m\u001b[0m\u001b[0m\n\u001b[0m",
      "\u001b[1;32m~\\Anaconda3\\lib\\site-packages\\pymongo\\collection.py\u001b[0m in \u001b[0;36mcount_documents\u001b[1;34m(self, filter, session, **kwargs)\u001b[0m\n\u001b[0;32m   1784\u001b[0m \u001b[1;33m\u001b[0m\u001b[0m\n\u001b[0;32m   1785\u001b[0m         return self.__database.client._retryable_read(\n\u001b[1;32m-> 1786\u001b[1;33m             _cmd, self._read_preference_for(session), session)\n\u001b[0m\u001b[0;32m   1787\u001b[0m \u001b[1;33m\u001b[0m\u001b[0m\n\u001b[0;32m   1788\u001b[0m     \u001b[1;32mdef\u001b[0m \u001b[0mcount\u001b[0m\u001b[1;33m(\u001b[0m\u001b[0mself\u001b[0m\u001b[1;33m,\u001b[0m \u001b[0mfilter\u001b[0m\u001b[1;33m=\u001b[0m\u001b[1;32mNone\u001b[0m\u001b[1;33m,\u001b[0m \u001b[0msession\u001b[0m\u001b[1;33m=\u001b[0m\u001b[1;32mNone\u001b[0m\u001b[1;33m,\u001b[0m \u001b[1;33m**\u001b[0m\u001b[0mkwargs\u001b[0m\u001b[1;33m)\u001b[0m\u001b[1;33m:\u001b[0m\u001b[1;33m\u001b[0m\u001b[1;33m\u001b[0m\u001b[0m\n",
      "\u001b[1;32m~\\Anaconda3\\lib\\site-packages\\pymongo\\mongo_client.py\u001b[0m in \u001b[0;36m_retryable_read\u001b[1;34m(self, func, read_pref, session, address, retryable, exhaust)\u001b[0m\n\u001b[0;32m   1459\u001b[0m             \u001b[1;32mtry\u001b[0m\u001b[1;33m:\u001b[0m\u001b[1;33m\u001b[0m\u001b[1;33m\u001b[0m\u001b[0m\n\u001b[0;32m   1460\u001b[0m                 server = self._select_server(\n\u001b[1;32m-> 1461\u001b[1;33m                     read_pref, session, address=address)\n\u001b[0m\u001b[0;32m   1462\u001b[0m                 \u001b[1;32mif\u001b[0m \u001b[1;32mnot\u001b[0m \u001b[0mserver\u001b[0m\u001b[1;33m.\u001b[0m\u001b[0mdescription\u001b[0m\u001b[1;33m.\u001b[0m\u001b[0mretryable_reads_supported\u001b[0m\u001b[1;33m:\u001b[0m\u001b[1;33m\u001b[0m\u001b[1;33m\u001b[0m\u001b[0m\n\u001b[0;32m   1463\u001b[0m                     \u001b[0mretryable\u001b[0m \u001b[1;33m=\u001b[0m \u001b[1;32mFalse\u001b[0m\u001b[1;33m\u001b[0m\u001b[1;33m\u001b[0m\u001b[0m\n",
      "\u001b[1;32m~\\Anaconda3\\lib\\site-packages\\pymongo\\mongo_client.py\u001b[0m in \u001b[0;36m_select_server\u001b[1;34m(self, server_selector, session, address)\u001b[0m\n\u001b[0;32m   1276\u001b[0m                                         % address)\n\u001b[0;32m   1277\u001b[0m             \u001b[1;32melse\u001b[0m\u001b[1;33m:\u001b[0m\u001b[1;33m\u001b[0m\u001b[1;33m\u001b[0m\u001b[0m\n\u001b[1;32m-> 1278\u001b[1;33m                 \u001b[0mserver\u001b[0m \u001b[1;33m=\u001b[0m \u001b[0mtopology\u001b[0m\u001b[1;33m.\u001b[0m\u001b[0mselect_server\u001b[0m\u001b[1;33m(\u001b[0m\u001b[0mserver_selector\u001b[0m\u001b[1;33m)\u001b[0m\u001b[1;33m\u001b[0m\u001b[1;33m\u001b[0m\u001b[0m\n\u001b[0m\u001b[0;32m   1279\u001b[0m                 \u001b[1;31m# Pin this session to the selected server if it's performing a\u001b[0m\u001b[1;33m\u001b[0m\u001b[1;33m\u001b[0m\u001b[1;33m\u001b[0m\u001b[0m\n\u001b[0;32m   1280\u001b[0m                 \u001b[1;31m# sharded transaction.\u001b[0m\u001b[1;33m\u001b[0m\u001b[1;33m\u001b[0m\u001b[1;33m\u001b[0m\u001b[0m\n",
      "\u001b[1;32m~\\Anaconda3\\lib\\site-packages\\pymongo\\topology.py\u001b[0m in \u001b[0;36mselect_server\u001b[1;34m(self, selector, server_selection_timeout, address)\u001b[0m\n\u001b[0;32m    241\u001b[0m         return random.choice(self.select_servers(selector,\n\u001b[0;32m    242\u001b[0m                                                  \u001b[0mserver_selection_timeout\u001b[0m\u001b[1;33m,\u001b[0m\u001b[1;33m\u001b[0m\u001b[1;33m\u001b[0m\u001b[0m\n\u001b[1;32m--> 243\u001b[1;33m                                                  address))\n\u001b[0m\u001b[0;32m    244\u001b[0m \u001b[1;33m\u001b[0m\u001b[0m\n\u001b[0;32m    245\u001b[0m     def select_server_by_address(self, address,\n",
      "\u001b[1;32m~\\Anaconda3\\lib\\site-packages\\pymongo\\topology.py\u001b[0m in \u001b[0;36mselect_servers\u001b[1;34m(self, selector, server_selection_timeout, address)\u001b[0m\n\u001b[0;32m    198\u001b[0m         \u001b[1;32mwith\u001b[0m \u001b[0mself\u001b[0m\u001b[1;33m.\u001b[0m\u001b[0m_lock\u001b[0m\u001b[1;33m:\u001b[0m\u001b[1;33m\u001b[0m\u001b[1;33m\u001b[0m\u001b[0m\n\u001b[0;32m    199\u001b[0m             server_descriptions = self._select_servers_loop(\n\u001b[1;32m--> 200\u001b[1;33m                 selector, server_timeout, address)\n\u001b[0m\u001b[0;32m    201\u001b[0m \u001b[1;33m\u001b[0m\u001b[0m\n\u001b[0;32m    202\u001b[0m             return [self.get_server_by_address(sd.address)\n",
      "\u001b[1;32m~\\Anaconda3\\lib\\site-packages\\pymongo\\topology.py\u001b[0m in \u001b[0;36m_select_servers_loop\u001b[1;34m(self, selector, timeout, address)\u001b[0m\n\u001b[0;32m    215\u001b[0m                 raise ServerSelectionTimeoutError(\n\u001b[0;32m    216\u001b[0m                     \u001b[1;34m\"%s, Timeout: %ss, Topology Description: %r\"\u001b[0m \u001b[1;33m%\u001b[0m\u001b[1;33m\u001b[0m\u001b[1;33m\u001b[0m\u001b[0m\n\u001b[1;32m--> 217\u001b[1;33m                     (self._error_message(selector), timeout, self.description))\n\u001b[0m\u001b[0;32m    218\u001b[0m \u001b[1;33m\u001b[0m\u001b[0m\n\u001b[0;32m    219\u001b[0m             \u001b[0mself\u001b[0m\u001b[1;33m.\u001b[0m\u001b[0m_ensure_opened\u001b[0m\u001b[1;33m(\u001b[0m\u001b[1;33m)\u001b[0m\u001b[1;33m\u001b[0m\u001b[1;33m\u001b[0m\u001b[0m\n",
      "\u001b[1;31mServerSelectionTimeoutError\u001b[0m: 192.168.0.104:27017: timed out, Timeout: 30s, Topology Description: <TopologyDescription id: 60e414d722795ed8037f3f36, topology_type: Single, servers: [<ServerDescription ('192.168.0.104', 27017) server_type: Unknown, rtt: None, error=NetworkTimeout('192.168.0.104:27017: timed out')>]>"
     ]
    }
   ],
   "source": [
    "db.files.count_documents({})"
   ]
  },
  {
   "cell_type": "code",
   "execution_count": null,
   "metadata": {},
   "outputs": [],
   "source": [
    "objects = db.objects"
   ]
  },
  {
   "cell_type": "code",
   "execution_count": null,
   "metadata": {},
   "outputs": [],
   "source": [
    "data = pd.DataFrame(list(objects.find().limit(20000)))"
   ]
  },
  {
   "cell_type": "code",
   "execution_count": null,
   "metadata": {},
   "outputs": [],
   "source": [
    "data.head()"
   ]
  },
  {
   "cell_type": "code",
   "execution_count": null,
   "metadata": {},
   "outputs": [],
   "source": [
    "data.groupby(['ClassName']).count().sort_values(['_id'], ascending = False)"
   ]
  },
  {
   "cell_type": "code",
   "execution_count": null,
   "metadata": {},
   "outputs": [],
   "source": [
    "ids  = db.files.find({'Scanned':True}).distinct('FileId')\n",
    "print(len(ids))\n",
    "query = {\n",
    "    'ClassName':\n",
    "    {\n",
    "        '$in':[\n",
    "            'Line',\n",
    "            'Arc',\n",
    "            'Text',\n",
    "            'Polyline',\n",
    "            'AlignedDimension'\n",
    "        ]\n",
    "    },\n",
    "    'FileId':{\n",
    "        '$in':ids\n",
    "    }\n",
    "}\n",
    "\n",
    "dd = pd.DataFrame(list(db.objects.find(query)))\n",
    "dd"
   ]
  },
  {
   "cell_type": "code",
   "execution_count": null,
   "metadata": {},
   "outputs": [],
   "source": [
    "dd.groupby(['ClassName']).count().sort_values(['_id'], ascending = False)"
   ]
  },
  {
   "cell_type": "markdown",
   "metadata": {},
   "source": [
    "# Visual check of drawings"
   ]
  },
  {
   "cell_type": "code",
   "execution_count": null,
   "metadata": {},
   "outputs": [],
   "source": [
    "# links\n",
    "# https://arxiv.org/pdf/1704.03477.pdf\n",
    "# https://arxiv.org/pdf/1904.02632.pdf"
   ]
  },
  {
   "cell_type": "code",
   "execution_count": null,
   "metadata": {},
   "outputs": [],
   "source": [
    "# https://stackoverflow.com/questions/5364050/reloading-submodules-in-ipython\n",
    "# to reload .py files\n",
    "%load_ext autoreload\n",
    "%autoreload 2"
   ]
  },
  {
   "cell_type": "code",
   "execution_count": null,
   "metadata": {},
   "outputs": [],
   "source": [
    "# https://stackoverflow.com/questions/16249736/how-to-import-data-from-mongodb-to-pandas\n",
    "import pymongo\n",
    "import pandas as pd\n",
    "import numpy as np\n",
    "\n",
    "from pymongo import MongoClient\n",
    "\n",
    "from IPython.display import Image\n",
    "\n",
    "# !pip install drawsvg\n",
    "# Works on linux only!\n",
    "# sudo apt-get install libcairo2\n",
    "import drawSvg as draw"
   ]
  },
  {
   "cell_type": "code",
   "execution_count": null,
   "metadata": {},
   "outputs": [],
   "source": [
    "#test drawSvg\n",
    "# https://pypi.org/project/drawSvg/\n",
    "\n",
    "def plotLine(StartPoint, EndPoint):\n",
    "    d = draw.Drawing(200,100,origin = 'center', displayInline = False)\n",
    "    d.append(draw.Lines(StartPoint.X, StartPoint.Y, EndPoint.X, EndPoint.Y, close = False, fill='#eeee00', stroke = 'black'))\n",
    "    d.setPixelScale(2)\n",
    "    d.rasterize()\n",
    "    return(d)\n",
    "\n",
    "class pnt2:\n",
    "    def __init__(self, x,y):\n",
    "        self.X = x\n",
    "        self.Y = y\n",
    "start = pnt2(100,200)\n",
    "end = pnt2(0,0)\n",
    "plotLine(start,end)"
   ]
  },
  {
   "cell_type": "code",
   "execution_count": null,
   "metadata": {},
   "outputs": [],
   "source": [
    "client = MongoClient('mongodb://192.168.0.104:27017/')\n",
    "#client = MongoClient('mongodb://localhost:27017')\n",
    "client"
   ]
  },
  {
   "cell_type": "code",
   "execution_count": null,
   "metadata": {},
   "outputs": [],
   "source": [
    "db = client.geometry2\n",
    "db"
   ]
  },
  {
   "cell_type": "code",
   "execution_count": null,
   "metadata": {},
   "outputs": [],
   "source": [
    "objects = db.objects\n",
    "objects.count()"
   ]
  },
  {
   "cell_type": "code",
   "execution_count": null,
   "metadata": {},
   "outputs": [],
   "source": [
    "fileidsWithDims = objects.find({'ClassName':'AlignedDimension'}).distinct('GroupId')\n",
    "len(fileidsWithDims)"
   ]
  },
  {
   "cell_type": "code",
   "execution_count": null,
   "metadata": {},
   "outputs": [],
   "source": [
    "from processing import query_collection_to_dataframe, normalize, expand_columns\n",
    "# f_id = fileidsWithDims[1]\n",
    "f_id = '1317d221-8d9e-4e2e-b290-3be2a0aa67fb'\n",
    "debug_data = query_collection_to_dataframe(objects, f_id)    \n",
    "cols_to_expand = ['XLine1Point', 'XLine2Point', 'StartPoint', 'EndPoint', 'Position']\n",
    "debug_data = expand_columns(debug_data, cols_to_expand)\n",
    "normalize(debug_data).describe()"
   ]
  },
  {
   "cell_type": "code",
   "execution_count": null,
   "metadata": {},
   "outputs": [],
   "source": [
    "from plot_graphics import generate_image_by_id\n",
    "for f_id in fileidsWithDims:\n",
    "    filename, d = generate_image_by_id(objects, f_id)\n",
    "    display(d)"
   ]
  },
  {
   "cell_type": "code",
   "execution_count": null,
   "metadata": {},
   "outputs": [],
   "source": []
  }
 ],
 "metadata": {
  "kernelspec": {
   "display_name": "Python 3",
   "language": "python",
   "name": "python3"
  },
  "language_info": {
   "codemirror_mode": {
    "name": "ipython",
    "version": 3
   },
   "file_extension": ".py",
   "mimetype": "text/x-python",
   "name": "python",
   "nbconvert_exporter": "python",
   "pygments_lexer": "ipython3",
   "version": "3.7.6"
  }
 },
 "nbformat": 4,
 "nbformat_minor": 4
}
