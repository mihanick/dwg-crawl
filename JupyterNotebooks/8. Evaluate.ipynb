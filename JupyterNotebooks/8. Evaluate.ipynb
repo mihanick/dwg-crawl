{
 "cells": [
  {
   "cell_type": "markdown",
   "metadata": {},
   "source": [
    "# Evaluate model"
   ]
  },
  {
   "cell_type": "code",
   "execution_count": null,
   "metadata": {},
   "outputs": [],
   "source": [
    "from dataset import DwgDataset\n",
    "from sketch_rnn import Trainer\n",
    "from test_draw import predict_one_stroke_for_batch\n",
    "from plot_graphics  import images_from_batch\n"
   ]
  },
  {
   "cell_type": "code",
   "execution_count": null,
   "metadata": {},
   "outputs": [],
   "source": [
    "from test_draw import generate_image\n",
    "dwg_dataset = DwgDataset('test_dataset_cluster_labeled.pickle', batch_size = 1, limit_seq_len=200)\n",
    "trainer = Trainer(dwg_dataset)\n",
    "\n",
    "    "
   ]
  },
  {
   "cell_type": "code",
   "execution_count": null,
   "metadata": {},
   "outputs": [],
   "source": [
    "generated_images = images_from_batch(generate_image(trainer))\n",
    "for img in generated_images:\n",
    "    display(img)"
   ]
  },
  {
   "cell_type": "code",
   "execution_count": null,
   "metadata": {},
   "outputs": [],
   "source": [
    "dwg_dataset = DwgDataset('test_dataset_cluster_labeled.pickle', batch_size = 32, limit_seq_len=200)\n",
    "trainer = Trainer(dwg_dataset)"
   ]
  },
  {
   "cell_type": "code",
   "execution_count": null,
   "metadata": {},
   "outputs": [],
   "source": [
    "for b in dwg_dataset.train_loader:\n",
    "    \n",
    "    s = generate_sequence(trainer=trainer, batch=b)\n",
    "    # print(b[0].shape, s.shape)\n",
    "    \n",
    "    source_imgs = images_from_batch(b[0], verbose=False)[:3]\n",
    "    generated_imgs = images_from_batch(s, verbose=False)[:3]\n",
    "    for i in range(len(source_imgs)):\n",
    "        display(source_imgs[i], generated_imgs[i])"
   ]
  },
  {
   "cell_type": "code",
   "execution_count": null,
   "metadata": {},
   "outputs": [],
   "source": []
  }
 ],
 "metadata": {
  "kernelspec": {
   "display_name": "Python 3",
   "language": "python",
   "name": "python3"
  },
  "language_info": {
   "codemirror_mode": {
    "name": "ipython",
    "version": 3
   },
   "file_extension": ".py",
   "mimetype": "text/x-python",
   "name": "python",
   "nbconvert_exporter": "python",
   "pygments_lexer": "ipython3",
   "version": "3.7.6"
  }
 },
 "nbformat": 4,
 "nbformat_minor": 4
}
